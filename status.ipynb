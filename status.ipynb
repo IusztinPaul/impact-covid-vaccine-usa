{
 "cells": [
  {
   "cell_type": "markdown",
   "id": "6315bfc2",
   "metadata": {},
   "source": [
    "# Import Packages"
   ]
  },
  {
   "cell_type": "code",
   "execution_count": 97,
   "id": "4312c635",
   "metadata": {},
   "outputs": [],
   "source": [
    "import warnings\n",
    "\n",
    "import pandas as pd\n",
    "import plotly.express as px\n",
    "\n",
    "warnings.simplefilter(\"ignore\")"
   ]
  },
  {
   "cell_type": "markdown",
   "id": "ebe79f60",
   "metadata": {},
   "source": [
    "# 1. Vaccination by Case Rate "
   ]
  },
  {
   "cell_type": "markdown",
   "id": "be48d4d9",
   "metadata": {},
   "source": [
    "## Case rate per 100,000 population shows a county-level view of COVID-19 vaccination coverage and the number of COVID-19 cases for every 100,000 people over the last 7 days"
   ]
  },
  {
   "cell_type": "code",
   "execution_count": 2,
   "id": "91613fa2",
   "metadata": {
    "scrolled": true
   },
   "outputs": [],
   "source": [
    "data = pd.read_csv('vaccination_by_case_rate.csv')"
   ]
  },
  {
   "cell_type": "code",
   "execution_count": 3,
   "id": "cf192ec2",
   "metadata": {
    "scrolled": true
   },
   "outputs": [
    {
     "name": "stdout",
     "output_type": "stream",
     "text": [
      "<class 'pandas.core.frame.DataFrame'>\n",
      "RangeIndex: 3219 entries, 0 to 3218\n",
      "Data columns (total 6 columns):\n",
      " #   Column                                     Non-Null Count  Dtype  \n",
      "---  ------                                     --------------  -----  \n",
      " 0   County                                     3219 non-null   object \n",
      " 1   State                                      3219 non-null   object \n",
      " 2   Cases - last 7 days per 100k               3209 non-null   object \n",
      " 3   % total pop fully vaccinated               3193 non-null   float64\n",
      " 4   Vaccination county reporting completeness  3219 non-null   float64\n",
      " 5   Data as of date                            3219 non-null   object \n",
      "dtypes: float64(2), object(4)\n",
      "memory usage: 151.0+ KB\n"
     ]
    }
   ],
   "source": [
    "data.info()"
   ]
  },
  {
   "cell_type": "code",
   "execution_count": 4,
   "id": "6836436d",
   "metadata": {},
   "outputs": [
    {
     "data": {
      "text/html": [
       "<div>\n",
       "<style scoped>\n",
       "    .dataframe tbody tr th:only-of-type {\n",
       "        vertical-align: middle;\n",
       "    }\n",
       "\n",
       "    .dataframe tbody tr th {\n",
       "        vertical-align: top;\n",
       "    }\n",
       "\n",
       "    .dataframe thead th {\n",
       "        text-align: right;\n",
       "    }\n",
       "</style>\n",
       "<table border=\"1\" class=\"dataframe\">\n",
       "  <thead>\n",
       "    <tr style=\"text-align: right;\">\n",
       "      <th></th>\n",
       "      <th>County</th>\n",
       "      <th>State</th>\n",
       "      <th>Cases - last 7 days per 100k</th>\n",
       "      <th>% total pop fully vaccinated</th>\n",
       "      <th>Vaccination county reporting completeness</th>\n",
       "      <th>Data as of date</th>\n",
       "    </tr>\n",
       "  </thead>\n",
       "  <tbody>\n",
       "    <tr>\n",
       "      <th>0</th>\n",
       "      <td>Aleutians East Borough</td>\n",
       "      <td>AK</td>\n",
       "      <td>suppressed</td>\n",
       "      <td>71.3</td>\n",
       "      <td>96.7</td>\n",
       "      <td>2022-01-08</td>\n",
       "    </tr>\n",
       "    <tr>\n",
       "      <th>1</th>\n",
       "      <td>Aleutians West Census Area</td>\n",
       "      <td>AK</td>\n",
       "      <td>1295.70</td>\n",
       "      <td>58.9</td>\n",
       "      <td>96.7</td>\n",
       "      <td>2022-01-08</td>\n",
       "    </tr>\n",
       "    <tr>\n",
       "      <th>2</th>\n",
       "      <td>Anchorage Municipality</td>\n",
       "      <td>AK</td>\n",
       "      <td>1661.81</td>\n",
       "      <td>60.3</td>\n",
       "      <td>96.7</td>\n",
       "      <td>2022-01-08</td>\n",
       "    </tr>\n",
       "    <tr>\n",
       "      <th>3</th>\n",
       "      <td>Bethel Census Area</td>\n",
       "      <td>AK</td>\n",
       "      <td>565.65</td>\n",
       "      <td>64.4</td>\n",
       "      <td>96.7</td>\n",
       "      <td>2022-01-08</td>\n",
       "    </tr>\n",
       "    <tr>\n",
       "      <th>4</th>\n",
       "      <td>Bristol Bay Borough</td>\n",
       "      <td>AK</td>\n",
       "      <td>NaN</td>\n",
       "      <td>95.0</td>\n",
       "      <td>96.7</td>\n",
       "      <td>2022-01-08</td>\n",
       "    </tr>\n",
       "  </tbody>\n",
       "</table>\n",
       "</div>"
      ],
      "text/plain": [
       "                       County State Cases - last 7 days per 100k  \\\n",
       "0      Aleutians East Borough    AK                   suppressed   \n",
       "1  Aleutians West Census Area    AK                      1295.70   \n",
       "2      Anchorage Municipality    AK                      1661.81   \n",
       "3          Bethel Census Area    AK                       565.65   \n",
       "4         Bristol Bay Borough    AK                          NaN   \n",
       "\n",
       "   % total pop fully vaccinated  Vaccination county reporting completeness  \\\n",
       "0                          71.3                                       96.7   \n",
       "1                          58.9                                       96.7   \n",
       "2                          60.3                                       96.7   \n",
       "3                          64.4                                       96.7   \n",
       "4                          95.0                                       96.7   \n",
       "\n",
       "  Data as of date  \n",
       "0      2022-01-08  \n",
       "1      2022-01-08  \n",
       "2      2022-01-08  \n",
       "3      2022-01-08  \n",
       "4      2022-01-08  "
      ]
     },
     "execution_count": 4,
     "metadata": {},
     "output_type": "execute_result"
    }
   ],
   "source": [
    "data.head()"
   ]
  },
  {
   "cell_type": "markdown",
   "id": "32d36edb",
   "metadata": {},
   "source": [
    "### Data Cleaning"
   ]
  },
  {
   "cell_type": "code",
   "execution_count": 5,
   "id": "67dde4d7",
   "metadata": {},
   "outputs": [],
   "source": [
    "# Pick only useful columns.\n",
    "datacr = data.drop('Data as of date', axis=1)\n",
    "datacr = datacr.drop('County', axis=1)\n",
    "datacr = datacr.drop('Vaccination county reporting completeness', axis=1)\n"
   ]
  },
  {
   "cell_type": "code",
   "execution_count": 6,
   "id": "6764f9b6",
   "metadata": {},
   "outputs": [
    {
     "name": "stdout",
     "output_type": "stream",
     "text": [
      "Are there any null rows for the essential reference data?\n",
      "State                            0\n",
      "Cases - last 7 days per 100k    10\n",
      "% total pop fully vaccinated    26\n",
      "dtype: int64\n"
     ]
    }
   ],
   "source": [
    "# Check for null values\n",
    "print('Are there any null rows for the essential reference data?')\n",
    "print(datacr.isnull().sum())"
   ]
  },
  {
   "cell_type": "code",
   "execution_count": 7,
   "id": "ed181c5b",
   "metadata": {},
   "outputs": [
    {
     "name": "stdout",
     "output_type": "stream",
     "text": [
      "State                           0\n",
      "Cases - last 7 days per 100k    0\n",
      "% total pop fully vaccinated    0\n",
      "dtype: int64\n"
     ]
    }
   ],
   "source": [
    "# Replace Null and suppressed values\n",
    "datacr = datacr.fillna(0)\n",
    "datacr = datacr.replace(to_replace=\"suppressed\", value=0)\n",
    "\n",
    "# Verification\n",
    "print(datacr.isnull().sum())"
   ]
  },
  {
   "cell_type": "code",
   "execution_count": 8,
   "id": "622c0e76",
   "metadata": {},
   "outputs": [],
   "source": [
    "\n",
    "# Cast to float64\n",
    "columns = [\"Cases - last 7 days per 100k\", \"% total pop fully vaccinated\"]\n",
    "datacr[columns] = datacr[columns].astype(np.float64)\n"
   ]
  },
  {
   "cell_type": "code",
   "execution_count": 9,
   "id": "98d4202f",
   "metadata": {},
   "outputs": [
    {
     "name": "stdout",
     "output_type": "stream",
     "text": [
      "A total of 52 states:\n",
      "['AK' 'AL' 'AR' 'AZ' 'CA' 'CO' 'CT' 'DC' 'DE' 'FL' 'GA' 'HI' 'IA' 'ID'\n",
      " 'IL' 'IN' 'KS' 'KY' 'LA' 'MA' 'MD' 'ME' 'MI' 'MN' 'MO' 'MS' 'MT' 'NC'\n",
      " 'ND' 'NE' 'NH' 'NJ' 'NM' 'NV' 'NY' 'OH' 'OK' 'OR' 'PA' 'PR' 'RI' 'SC'\n",
      " 'SD' 'TN' 'TX' 'UT' 'VA' 'VT' 'WA' 'WI' 'WV' 'WY']\n"
     ]
    }
   ],
   "source": [
    "states = datacr['State'].unique()\n",
    "states.sort()\n",
    "print(f'A total of {len(states)} states:')\n",
    "print(states)"
   ]
  },
  {
   "cell_type": "code",
   "execution_count": 50,
   "id": "a6c030df",
   "metadata": {},
   "outputs": [
    {
     "data": {
      "text/html": [
       "<div>\n",
       "<style scoped>\n",
       "    .dataframe tbody tr th:only-of-type {\n",
       "        vertical-align: middle;\n",
       "    }\n",
       "\n",
       "    .dataframe tbody tr th {\n",
       "        vertical-align: top;\n",
       "    }\n",
       "\n",
       "    .dataframe thead th {\n",
       "        text-align: right;\n",
       "    }\n",
       "</style>\n",
       "<table border=\"1\" class=\"dataframe\">\n",
       "  <thead>\n",
       "    <tr style=\"text-align: right;\">\n",
       "      <th></th>\n",
       "      <th>Cases - last 7 days per 100k</th>\n",
       "      <th>% total pop fully vaccinated</th>\n",
       "    </tr>\n",
       "  </thead>\n",
       "  <tbody>\n",
       "    <tr>\n",
       "      <th>count</th>\n",
       "      <td>52.000000</td>\n",
       "      <td>52.000000</td>\n",
       "    </tr>\n",
       "    <tr>\n",
       "      <th>mean</th>\n",
       "      <td>1030.148605</td>\n",
       "      <td>51.270454</td>\n",
       "    </tr>\n",
       "    <tr>\n",
       "      <th>std</th>\n",
       "      <td>500.508271</td>\n",
       "      <td>12.229851</td>\n",
       "    </tr>\n",
       "    <tr>\n",
       "      <th>min</th>\n",
       "      <td>257.689643</td>\n",
       "      <td>0.000000</td>\n",
       "    </tr>\n",
       "    <tr>\n",
       "      <th>25%</th>\n",
       "      <td>685.515192</td>\n",
       "      <td>44.205630</td>\n",
       "    </tr>\n",
       "    <tr>\n",
       "      <th>50%</th>\n",
       "      <td>957.851135</td>\n",
       "      <td>51.210955</td>\n",
       "    </tr>\n",
       "    <tr>\n",
       "      <th>75%</th>\n",
       "      <td>1266.377713</td>\n",
       "      <td>58.325947</td>\n",
       "    </tr>\n",
       "    <tr>\n",
       "      <th>max</th>\n",
       "      <td>2294.215238</td>\n",
       "      <td>73.980000</td>\n",
       "    </tr>\n",
       "  </tbody>\n",
       "</table>\n",
       "</div>"
      ],
      "text/plain": [
       "       Cases - last 7 days per 100k  % total pop fully vaccinated\n",
       "count                     52.000000                     52.000000\n",
       "mean                    1030.148605                     51.270454\n",
       "std                      500.508271                     12.229851\n",
       "min                      257.689643                      0.000000\n",
       "25%                      685.515192                     44.205630\n",
       "50%                      957.851135                     51.210955\n",
       "75%                     1266.377713                     58.325947\n",
       "max                     2294.215238                     73.980000"
      ]
     },
     "execution_count": 50,
     "metadata": {},
     "output_type": "execute_result"
    }
   ],
   "source": [
    "# Group by State\n",
    "grouped_df = datacr.groupby('State')\n",
    "mean_df = grouped_df.mean()\n",
    "mean_df.describe()"
   ]
  },
  {
   "cell_type": "markdown",
   "id": "a56493a1",
   "metadata": {},
   "source": [
    "## Plot data by rate cases"
   ]
  },
  {
   "cell_type": "code",
   "execution_count": 73,
   "id": "3f7d374d",
   "metadata": {},
   "outputs": [
    {
     "data": {
      "application/vnd.plotly.v1+json": {
       "config": {
        "plotlyServerURL": "https://plot.ly"
       },
       "data": [
        {
         "coloraxis": "coloraxis",
         "geo": "geo",
         "hovertemplate": "Code=%{location}<br>Case Rate=%{z}<extra></extra>",
         "locationmode": "USA-states",
         "locations": [
          "AK",
          "AL",
          "AR",
          "AZ",
          "CA",
          "CO",
          "CT",
          "DC",
          "DE",
          "FL",
          "GA",
          "HI",
          "IA",
          "ID",
          "IL",
          "IN",
          "KS",
          "KY",
          "LA",
          "MA",
          "MD",
          "ME",
          "MI",
          "MN",
          "MO",
          "MS",
          "MT",
          "NC",
          "ND",
          "NE",
          "NH",
          "NJ",
          "NM",
          "NV",
          "NY",
          "OH",
          "OK",
          "OR",
          "PA",
          "PR",
          "RI",
          "SC",
          "SD",
          "TN",
          "TX",
          "UT",
          "VA",
          "VT",
          "WA",
          "WI",
          "WV",
          "WY"
         ],
         "name": "",
         "type": "choropleth",
         "z": [
          799.5649999999999,
          1253.4401492537315,
          1104.3777333333333,
          819.41,
          706.0703448275863,
          768.17015625,
          1546.575,
          2232.24,
          1799.6566666666668,
          1161.4226865671642,
          591.8916981132076,
          1180.222,
          457.74939393939394,
          356.47659090909093,
          1608.3845098039217,
          945.2715217391304,
          1103.9639047619048,
          932.0549166666666,
          1422.75640625,
          1681.0557142857142,
          1594.8770833333335,
          442.14937499999996,
          922.7907228915664,
          447.0852873563218,
          814.2577391304347,
          1381.1193902439024,
          257.6896428571428,
          1185.6476,
          512.3133962264151,
          416.2807526881721,
          912.0139999999999,
          2294.2152380952384,
          833.0778787878788,
          306.43117647058824,
          1792.5275806451612,
          1108.8723863636365,
          470.2732467532468,
          686.7922222222222,
          1067.529104477612,
          2166.505897435897,
          1633.632,
          1261.8517391304347,
          877.1662121212121,
          471.8747368421052,
          970.430748031496,
          688.3831034482758,
          984.9507518796993,
          1055.4178571428572,
          681.6841025641025,
          995.0612500000001,
          1279.9556363636364,
          584.1152173913043
         ]
        }
       ],
       "layout": {
        "coloraxis": {
         "cmax": 2294.2152380952384,
         "cmin": 257.6896428571428,
         "colorbar": {
          "title": {
           "text": "Case Rate"
          }
         },
         "colorscale": [
          [
           0,
           "rgb(0,0,131)"
          ],
          [
           0.2,
           "rgb(0,60,170)"
          ],
          [
           0.4,
           "rgb(5,255,255)"
          ],
          [
           0.6,
           "rgb(255,255,0)"
          ],
          [
           0.8,
           "rgb(250,0,0)"
          ],
          [
           1,
           "rgb(128,0,0)"
          ]
         ]
        },
        "geo": {
         "center": {},
         "domain": {
          "x": [
           0,
           1
          ],
          "y": [
           0,
           1
          ]
         },
         "scope": "usa"
        },
        "legend": {
         "tracegroupgap": 0
        },
        "template": {
         "data": {
          "bar": [
           {
            "error_x": {
             "color": "#2a3f5f"
            },
            "error_y": {
             "color": "#2a3f5f"
            },
            "marker": {
             "line": {
              "color": "#E5ECF6",
              "width": 0.5
             },
             "pattern": {
              "fillmode": "overlay",
              "size": 10,
              "solidity": 0.2
             }
            },
            "type": "bar"
           }
          ],
          "barpolar": [
           {
            "marker": {
             "line": {
              "color": "#E5ECF6",
              "width": 0.5
             },
             "pattern": {
              "fillmode": "overlay",
              "size": 10,
              "solidity": 0.2
             }
            },
            "type": "barpolar"
           }
          ],
          "carpet": [
           {
            "aaxis": {
             "endlinecolor": "#2a3f5f",
             "gridcolor": "white",
             "linecolor": "white",
             "minorgridcolor": "white",
             "startlinecolor": "#2a3f5f"
            },
            "baxis": {
             "endlinecolor": "#2a3f5f",
             "gridcolor": "white",
             "linecolor": "white",
             "minorgridcolor": "white",
             "startlinecolor": "#2a3f5f"
            },
            "type": "carpet"
           }
          ],
          "choropleth": [
           {
            "colorbar": {
             "outlinewidth": 0,
             "ticks": ""
            },
            "type": "choropleth"
           }
          ],
          "contour": [
           {
            "colorbar": {
             "outlinewidth": 0,
             "ticks": ""
            },
            "colorscale": [
             [
              0,
              "#0d0887"
             ],
             [
              0.1111111111111111,
              "#46039f"
             ],
             [
              0.2222222222222222,
              "#7201a8"
             ],
             [
              0.3333333333333333,
              "#9c179e"
             ],
             [
              0.4444444444444444,
              "#bd3786"
             ],
             [
              0.5555555555555556,
              "#d8576b"
             ],
             [
              0.6666666666666666,
              "#ed7953"
             ],
             [
              0.7777777777777778,
              "#fb9f3a"
             ],
             [
              0.8888888888888888,
              "#fdca26"
             ],
             [
              1,
              "#f0f921"
             ]
            ],
            "type": "contour"
           }
          ],
          "contourcarpet": [
           {
            "colorbar": {
             "outlinewidth": 0,
             "ticks": ""
            },
            "type": "contourcarpet"
           }
          ],
          "heatmap": [
           {
            "colorbar": {
             "outlinewidth": 0,
             "ticks": ""
            },
            "colorscale": [
             [
              0,
              "#0d0887"
             ],
             [
              0.1111111111111111,
              "#46039f"
             ],
             [
              0.2222222222222222,
              "#7201a8"
             ],
             [
              0.3333333333333333,
              "#9c179e"
             ],
             [
              0.4444444444444444,
              "#bd3786"
             ],
             [
              0.5555555555555556,
              "#d8576b"
             ],
             [
              0.6666666666666666,
              "#ed7953"
             ],
             [
              0.7777777777777778,
              "#fb9f3a"
             ],
             [
              0.8888888888888888,
              "#fdca26"
             ],
             [
              1,
              "#f0f921"
             ]
            ],
            "type": "heatmap"
           }
          ],
          "heatmapgl": [
           {
            "colorbar": {
             "outlinewidth": 0,
             "ticks": ""
            },
            "colorscale": [
             [
              0,
              "#0d0887"
             ],
             [
              0.1111111111111111,
              "#46039f"
             ],
             [
              0.2222222222222222,
              "#7201a8"
             ],
             [
              0.3333333333333333,
              "#9c179e"
             ],
             [
              0.4444444444444444,
              "#bd3786"
             ],
             [
              0.5555555555555556,
              "#d8576b"
             ],
             [
              0.6666666666666666,
              "#ed7953"
             ],
             [
              0.7777777777777778,
              "#fb9f3a"
             ],
             [
              0.8888888888888888,
              "#fdca26"
             ],
             [
              1,
              "#f0f921"
             ]
            ],
            "type": "heatmapgl"
           }
          ],
          "histogram": [
           {
            "marker": {
             "pattern": {
              "fillmode": "overlay",
              "size": 10,
              "solidity": 0.2
             }
            },
            "type": "histogram"
           }
          ],
          "histogram2d": [
           {
            "colorbar": {
             "outlinewidth": 0,
             "ticks": ""
            },
            "colorscale": [
             [
              0,
              "#0d0887"
             ],
             [
              0.1111111111111111,
              "#46039f"
             ],
             [
              0.2222222222222222,
              "#7201a8"
             ],
             [
              0.3333333333333333,
              "#9c179e"
             ],
             [
              0.4444444444444444,
              "#bd3786"
             ],
             [
              0.5555555555555556,
              "#d8576b"
             ],
             [
              0.6666666666666666,
              "#ed7953"
             ],
             [
              0.7777777777777778,
              "#fb9f3a"
             ],
             [
              0.8888888888888888,
              "#fdca26"
             ],
             [
              1,
              "#f0f921"
             ]
            ],
            "type": "histogram2d"
           }
          ],
          "histogram2dcontour": [
           {
            "colorbar": {
             "outlinewidth": 0,
             "ticks": ""
            },
            "colorscale": [
             [
              0,
              "#0d0887"
             ],
             [
              0.1111111111111111,
              "#46039f"
             ],
             [
              0.2222222222222222,
              "#7201a8"
             ],
             [
              0.3333333333333333,
              "#9c179e"
             ],
             [
              0.4444444444444444,
              "#bd3786"
             ],
             [
              0.5555555555555556,
              "#d8576b"
             ],
             [
              0.6666666666666666,
              "#ed7953"
             ],
             [
              0.7777777777777778,
              "#fb9f3a"
             ],
             [
              0.8888888888888888,
              "#fdca26"
             ],
             [
              1,
              "#f0f921"
             ]
            ],
            "type": "histogram2dcontour"
           }
          ],
          "mesh3d": [
           {
            "colorbar": {
             "outlinewidth": 0,
             "ticks": ""
            },
            "type": "mesh3d"
           }
          ],
          "parcoords": [
           {
            "line": {
             "colorbar": {
              "outlinewidth": 0,
              "ticks": ""
             }
            },
            "type": "parcoords"
           }
          ],
          "pie": [
           {
            "automargin": true,
            "type": "pie"
           }
          ],
          "scatter": [
           {
            "marker": {
             "colorbar": {
              "outlinewidth": 0,
              "ticks": ""
             }
            },
            "type": "scatter"
           }
          ],
          "scatter3d": [
           {
            "line": {
             "colorbar": {
              "outlinewidth": 0,
              "ticks": ""
             }
            },
            "marker": {
             "colorbar": {
              "outlinewidth": 0,
              "ticks": ""
             }
            },
            "type": "scatter3d"
           }
          ],
          "scattercarpet": [
           {
            "marker": {
             "colorbar": {
              "outlinewidth": 0,
              "ticks": ""
             }
            },
            "type": "scattercarpet"
           }
          ],
          "scattergeo": [
           {
            "marker": {
             "colorbar": {
              "outlinewidth": 0,
              "ticks": ""
             }
            },
            "type": "scattergeo"
           }
          ],
          "scattergl": [
           {
            "marker": {
             "colorbar": {
              "outlinewidth": 0,
              "ticks": ""
             }
            },
            "type": "scattergl"
           }
          ],
          "scattermapbox": [
           {
            "marker": {
             "colorbar": {
              "outlinewidth": 0,
              "ticks": ""
             }
            },
            "type": "scattermapbox"
           }
          ],
          "scatterpolar": [
           {
            "marker": {
             "colorbar": {
              "outlinewidth": 0,
              "ticks": ""
             }
            },
            "type": "scatterpolar"
           }
          ],
          "scatterpolargl": [
           {
            "marker": {
             "colorbar": {
              "outlinewidth": 0,
              "ticks": ""
             }
            },
            "type": "scatterpolargl"
           }
          ],
          "scatterternary": [
           {
            "marker": {
             "colorbar": {
              "outlinewidth": 0,
              "ticks": ""
             }
            },
            "type": "scatterternary"
           }
          ],
          "surface": [
           {
            "colorbar": {
             "outlinewidth": 0,
             "ticks": ""
            },
            "colorscale": [
             [
              0,
              "#0d0887"
             ],
             [
              0.1111111111111111,
              "#46039f"
             ],
             [
              0.2222222222222222,
              "#7201a8"
             ],
             [
              0.3333333333333333,
              "#9c179e"
             ],
             [
              0.4444444444444444,
              "#bd3786"
             ],
             [
              0.5555555555555556,
              "#d8576b"
             ],
             [
              0.6666666666666666,
              "#ed7953"
             ],
             [
              0.7777777777777778,
              "#fb9f3a"
             ],
             [
              0.8888888888888888,
              "#fdca26"
             ],
             [
              1,
              "#f0f921"
             ]
            ],
            "type": "surface"
           }
          ],
          "table": [
           {
            "cells": {
             "fill": {
              "color": "#EBF0F8"
             },
             "line": {
              "color": "white"
             }
            },
            "header": {
             "fill": {
              "color": "#C8D4E3"
             },
             "line": {
              "color": "white"
             }
            },
            "type": "table"
           }
          ]
         },
         "layout": {
          "annotationdefaults": {
           "arrowcolor": "#2a3f5f",
           "arrowhead": 0,
           "arrowwidth": 1
          },
          "autotypenumbers": "strict",
          "coloraxis": {
           "colorbar": {
            "outlinewidth": 0,
            "ticks": ""
           }
          },
          "colorscale": {
           "diverging": [
            [
             0,
             "#8e0152"
            ],
            [
             0.1,
             "#c51b7d"
            ],
            [
             0.2,
             "#de77ae"
            ],
            [
             0.3,
             "#f1b6da"
            ],
            [
             0.4,
             "#fde0ef"
            ],
            [
             0.5,
             "#f7f7f7"
            ],
            [
             0.6,
             "#e6f5d0"
            ],
            [
             0.7,
             "#b8e186"
            ],
            [
             0.8,
             "#7fbc41"
            ],
            [
             0.9,
             "#4d9221"
            ],
            [
             1,
             "#276419"
            ]
           ],
           "sequential": [
            [
             0,
             "#0d0887"
            ],
            [
             0.1111111111111111,
             "#46039f"
            ],
            [
             0.2222222222222222,
             "#7201a8"
            ],
            [
             0.3333333333333333,
             "#9c179e"
            ],
            [
             0.4444444444444444,
             "#bd3786"
            ],
            [
             0.5555555555555556,
             "#d8576b"
            ],
            [
             0.6666666666666666,
             "#ed7953"
            ],
            [
             0.7777777777777778,
             "#fb9f3a"
            ],
            [
             0.8888888888888888,
             "#fdca26"
            ],
            [
             1,
             "#f0f921"
            ]
           ],
           "sequentialminus": [
            [
             0,
             "#0d0887"
            ],
            [
             0.1111111111111111,
             "#46039f"
            ],
            [
             0.2222222222222222,
             "#7201a8"
            ],
            [
             0.3333333333333333,
             "#9c179e"
            ],
            [
             0.4444444444444444,
             "#bd3786"
            ],
            [
             0.5555555555555556,
             "#d8576b"
            ],
            [
             0.6666666666666666,
             "#ed7953"
            ],
            [
             0.7777777777777778,
             "#fb9f3a"
            ],
            [
             0.8888888888888888,
             "#fdca26"
            ],
            [
             1,
             "#f0f921"
            ]
           ]
          },
          "colorway": [
           "#636efa",
           "#EF553B",
           "#00cc96",
           "#ab63fa",
           "#FFA15A",
           "#19d3f3",
           "#FF6692",
           "#B6E880",
           "#FF97FF",
           "#FECB52"
          ],
          "font": {
           "color": "#2a3f5f"
          },
          "geo": {
           "bgcolor": "white",
           "lakecolor": "white",
           "landcolor": "#E5ECF6",
           "showlakes": true,
           "showland": true,
           "subunitcolor": "white"
          },
          "hoverlabel": {
           "align": "left"
          },
          "hovermode": "closest",
          "mapbox": {
           "style": "light"
          },
          "paper_bgcolor": "white",
          "plot_bgcolor": "#E5ECF6",
          "polar": {
           "angularaxis": {
            "gridcolor": "white",
            "linecolor": "white",
            "ticks": ""
           },
           "bgcolor": "#E5ECF6",
           "radialaxis": {
            "gridcolor": "white",
            "linecolor": "white",
            "ticks": ""
           }
          },
          "scene": {
           "xaxis": {
            "backgroundcolor": "#E5ECF6",
            "gridcolor": "white",
            "gridwidth": 2,
            "linecolor": "white",
            "showbackground": true,
            "ticks": "",
            "zerolinecolor": "white"
           },
           "yaxis": {
            "backgroundcolor": "#E5ECF6",
            "gridcolor": "white",
            "gridwidth": 2,
            "linecolor": "white",
            "showbackground": true,
            "ticks": "",
            "zerolinecolor": "white"
           },
           "zaxis": {
            "backgroundcolor": "#E5ECF6",
            "gridcolor": "white",
            "gridwidth": 2,
            "linecolor": "white",
            "showbackground": true,
            "ticks": "",
            "zerolinecolor": "white"
           }
          },
          "shapedefaults": {
           "line": {
            "color": "#2a3f5f"
           }
          },
          "ternary": {
           "aaxis": {
            "gridcolor": "white",
            "linecolor": "white",
            "ticks": ""
           },
           "baxis": {
            "gridcolor": "white",
            "linecolor": "white",
            "ticks": ""
           },
           "bgcolor": "#E5ECF6",
           "caxis": {
            "gridcolor": "white",
            "linecolor": "white",
            "ticks": ""
           }
          },
          "title": {
           "x": 0.05
          },
          "xaxis": {
           "automargin": true,
           "gridcolor": "white",
           "linecolor": "white",
           "ticks": "",
           "title": {
            "standoff": 15
           },
           "zerolinecolor": "white",
           "zerolinewidth": 2
          },
          "yaxis": {
           "automargin": true,
           "gridcolor": "white",
           "linecolor": "white",
           "ticks": "",
           "title": {
            "standoff": 15
           },
           "zerolinecolor": "white",
           "zerolinewidth": 2
          }
         }
        },
        "title": {
         "text": "Case Rate at 100k in last 7 days"
        }
       }
      },
      "text/html": [
       "<div>                            <div id=\"f4abc759-29ba-4847-95cf-f382ba879188\" class=\"plotly-graph-div\" style=\"height:525px; width:100%;\"></div>            <script type=\"text/javascript\">                require([\"plotly\"], function(Plotly) {                    window.PLOTLYENV=window.PLOTLYENV || {};                                    if (document.getElementById(\"f4abc759-29ba-4847-95cf-f382ba879188\")) {                    Plotly.newPlot(                        \"f4abc759-29ba-4847-95cf-f382ba879188\",                        [{\"coloraxis\":\"coloraxis\",\"geo\":\"geo\",\"hovertemplate\":\"Code=%{location}<br>Case Rate=%{z}<extra></extra>\",\"locationmode\":\"USA-states\",\"locations\":[\"AK\",\"AL\",\"AR\",\"AZ\",\"CA\",\"CO\",\"CT\",\"DC\",\"DE\",\"FL\",\"GA\",\"HI\",\"IA\",\"ID\",\"IL\",\"IN\",\"KS\",\"KY\",\"LA\",\"MA\",\"MD\",\"ME\",\"MI\",\"MN\",\"MO\",\"MS\",\"MT\",\"NC\",\"ND\",\"NE\",\"NH\",\"NJ\",\"NM\",\"NV\",\"NY\",\"OH\",\"OK\",\"OR\",\"PA\",\"PR\",\"RI\",\"SC\",\"SD\",\"TN\",\"TX\",\"UT\",\"VA\",\"VT\",\"WA\",\"WI\",\"WV\",\"WY\"],\"name\":\"\",\"z\":[799.5649999999999,1253.4401492537315,1104.3777333333333,819.41,706.0703448275863,768.17015625,1546.575,2232.24,1799.6566666666668,1161.4226865671642,591.8916981132076,1180.222,457.74939393939394,356.47659090909093,1608.3845098039217,945.2715217391304,1103.9639047619048,932.0549166666666,1422.75640625,1681.0557142857142,1594.8770833333335,442.14937499999996,922.7907228915664,447.0852873563218,814.2577391304347,1381.1193902439024,257.6896428571428,1185.6476,512.3133962264151,416.2807526881721,912.0139999999999,2294.2152380952384,833.0778787878788,306.43117647058824,1792.5275806451612,1108.8723863636365,470.2732467532468,686.7922222222222,1067.529104477612,2166.505897435897,1633.632,1261.8517391304347,877.1662121212121,471.8747368421052,970.430748031496,688.3831034482758,984.9507518796993,1055.4178571428572,681.6841025641025,995.0612500000001,1279.9556363636364,584.1152173913043],\"type\":\"choropleth\"}],                        {\"template\":{\"data\":{\"bar\":[{\"error_x\":{\"color\":\"#2a3f5f\"},\"error_y\":{\"color\":\"#2a3f5f\"},\"marker\":{\"line\":{\"color\":\"#E5ECF6\",\"width\":0.5},\"pattern\":{\"fillmode\":\"overlay\",\"size\":10,\"solidity\":0.2}},\"type\":\"bar\"}],\"barpolar\":[{\"marker\":{\"line\":{\"color\":\"#E5ECF6\",\"width\":0.5},\"pattern\":{\"fillmode\":\"overlay\",\"size\":10,\"solidity\":0.2}},\"type\":\"barpolar\"}],\"carpet\":[{\"aaxis\":{\"endlinecolor\":\"#2a3f5f\",\"gridcolor\":\"white\",\"linecolor\":\"white\",\"minorgridcolor\":\"white\",\"startlinecolor\":\"#2a3f5f\"},\"baxis\":{\"endlinecolor\":\"#2a3f5f\",\"gridcolor\":\"white\",\"linecolor\":\"white\",\"minorgridcolor\":\"white\",\"startlinecolor\":\"#2a3f5f\"},\"type\":\"carpet\"}],\"choropleth\":[{\"colorbar\":{\"outlinewidth\":0,\"ticks\":\"\"},\"type\":\"choropleth\"}],\"contour\":[{\"colorbar\":{\"outlinewidth\":0,\"ticks\":\"\"},\"colorscale\":[[0.0,\"#0d0887\"],[0.1111111111111111,\"#46039f\"],[0.2222222222222222,\"#7201a8\"],[0.3333333333333333,\"#9c179e\"],[0.4444444444444444,\"#bd3786\"],[0.5555555555555556,\"#d8576b\"],[0.6666666666666666,\"#ed7953\"],[0.7777777777777778,\"#fb9f3a\"],[0.8888888888888888,\"#fdca26\"],[1.0,\"#f0f921\"]],\"type\":\"contour\"}],\"contourcarpet\":[{\"colorbar\":{\"outlinewidth\":0,\"ticks\":\"\"},\"type\":\"contourcarpet\"}],\"heatmap\":[{\"colorbar\":{\"outlinewidth\":0,\"ticks\":\"\"},\"colorscale\":[[0.0,\"#0d0887\"],[0.1111111111111111,\"#46039f\"],[0.2222222222222222,\"#7201a8\"],[0.3333333333333333,\"#9c179e\"],[0.4444444444444444,\"#bd3786\"],[0.5555555555555556,\"#d8576b\"],[0.6666666666666666,\"#ed7953\"],[0.7777777777777778,\"#fb9f3a\"],[0.8888888888888888,\"#fdca26\"],[1.0,\"#f0f921\"]],\"type\":\"heatmap\"}],\"heatmapgl\":[{\"colorbar\":{\"outlinewidth\":0,\"ticks\":\"\"},\"colorscale\":[[0.0,\"#0d0887\"],[0.1111111111111111,\"#46039f\"],[0.2222222222222222,\"#7201a8\"],[0.3333333333333333,\"#9c179e\"],[0.4444444444444444,\"#bd3786\"],[0.5555555555555556,\"#d8576b\"],[0.6666666666666666,\"#ed7953\"],[0.7777777777777778,\"#fb9f3a\"],[0.8888888888888888,\"#fdca26\"],[1.0,\"#f0f921\"]],\"type\":\"heatmapgl\"}],\"histogram\":[{\"marker\":{\"pattern\":{\"fillmode\":\"overlay\",\"size\":10,\"solidity\":0.2}},\"type\":\"histogram\"}],\"histogram2d\":[{\"colorbar\":{\"outlinewidth\":0,\"ticks\":\"\"},\"colorscale\":[[0.0,\"#0d0887\"],[0.1111111111111111,\"#46039f\"],[0.2222222222222222,\"#7201a8\"],[0.3333333333333333,\"#9c179e\"],[0.4444444444444444,\"#bd3786\"],[0.5555555555555556,\"#d8576b\"],[0.6666666666666666,\"#ed7953\"],[0.7777777777777778,\"#fb9f3a\"],[0.8888888888888888,\"#fdca26\"],[1.0,\"#f0f921\"]],\"type\":\"histogram2d\"}],\"histogram2dcontour\":[{\"colorbar\":{\"outlinewidth\":0,\"ticks\":\"\"},\"colorscale\":[[0.0,\"#0d0887\"],[0.1111111111111111,\"#46039f\"],[0.2222222222222222,\"#7201a8\"],[0.3333333333333333,\"#9c179e\"],[0.4444444444444444,\"#bd3786\"],[0.5555555555555556,\"#d8576b\"],[0.6666666666666666,\"#ed7953\"],[0.7777777777777778,\"#fb9f3a\"],[0.8888888888888888,\"#fdca26\"],[1.0,\"#f0f921\"]],\"type\":\"histogram2dcontour\"}],\"mesh3d\":[{\"colorbar\":{\"outlinewidth\":0,\"ticks\":\"\"},\"type\":\"mesh3d\"}],\"parcoords\":[{\"line\":{\"colorbar\":{\"outlinewidth\":0,\"ticks\":\"\"}},\"type\":\"parcoords\"}],\"pie\":[{\"automargin\":true,\"type\":\"pie\"}],\"scatter\":[{\"marker\":{\"colorbar\":{\"outlinewidth\":0,\"ticks\":\"\"}},\"type\":\"scatter\"}],\"scatter3d\":[{\"line\":{\"colorbar\":{\"outlinewidth\":0,\"ticks\":\"\"}},\"marker\":{\"colorbar\":{\"outlinewidth\":0,\"ticks\":\"\"}},\"type\":\"scatter3d\"}],\"scattercarpet\":[{\"marker\":{\"colorbar\":{\"outlinewidth\":0,\"ticks\":\"\"}},\"type\":\"scattercarpet\"}],\"scattergeo\":[{\"marker\":{\"colorbar\":{\"outlinewidth\":0,\"ticks\":\"\"}},\"type\":\"scattergeo\"}],\"scattergl\":[{\"marker\":{\"colorbar\":{\"outlinewidth\":0,\"ticks\":\"\"}},\"type\":\"scattergl\"}],\"scattermapbox\":[{\"marker\":{\"colorbar\":{\"outlinewidth\":0,\"ticks\":\"\"}},\"type\":\"scattermapbox\"}],\"scatterpolar\":[{\"marker\":{\"colorbar\":{\"outlinewidth\":0,\"ticks\":\"\"}},\"type\":\"scatterpolar\"}],\"scatterpolargl\":[{\"marker\":{\"colorbar\":{\"outlinewidth\":0,\"ticks\":\"\"}},\"type\":\"scatterpolargl\"}],\"scatterternary\":[{\"marker\":{\"colorbar\":{\"outlinewidth\":0,\"ticks\":\"\"}},\"type\":\"scatterternary\"}],\"surface\":[{\"colorbar\":{\"outlinewidth\":0,\"ticks\":\"\"},\"colorscale\":[[0.0,\"#0d0887\"],[0.1111111111111111,\"#46039f\"],[0.2222222222222222,\"#7201a8\"],[0.3333333333333333,\"#9c179e\"],[0.4444444444444444,\"#bd3786\"],[0.5555555555555556,\"#d8576b\"],[0.6666666666666666,\"#ed7953\"],[0.7777777777777778,\"#fb9f3a\"],[0.8888888888888888,\"#fdca26\"],[1.0,\"#f0f921\"]],\"type\":\"surface\"}],\"table\":[{\"cells\":{\"fill\":{\"color\":\"#EBF0F8\"},\"line\":{\"color\":\"white\"}},\"header\":{\"fill\":{\"color\":\"#C8D4E3\"},\"line\":{\"color\":\"white\"}},\"type\":\"table\"}]},\"layout\":{\"annotationdefaults\":{\"arrowcolor\":\"#2a3f5f\",\"arrowhead\":0,\"arrowwidth\":1},\"autotypenumbers\":\"strict\",\"coloraxis\":{\"colorbar\":{\"outlinewidth\":0,\"ticks\":\"\"}},\"colorscale\":{\"diverging\":[[0,\"#8e0152\"],[0.1,\"#c51b7d\"],[0.2,\"#de77ae\"],[0.3,\"#f1b6da\"],[0.4,\"#fde0ef\"],[0.5,\"#f7f7f7\"],[0.6,\"#e6f5d0\"],[0.7,\"#b8e186\"],[0.8,\"#7fbc41\"],[0.9,\"#4d9221\"],[1,\"#276419\"]],\"sequential\":[[0.0,\"#0d0887\"],[0.1111111111111111,\"#46039f\"],[0.2222222222222222,\"#7201a8\"],[0.3333333333333333,\"#9c179e\"],[0.4444444444444444,\"#bd3786\"],[0.5555555555555556,\"#d8576b\"],[0.6666666666666666,\"#ed7953\"],[0.7777777777777778,\"#fb9f3a\"],[0.8888888888888888,\"#fdca26\"],[1.0,\"#f0f921\"]],\"sequentialminus\":[[0.0,\"#0d0887\"],[0.1111111111111111,\"#46039f\"],[0.2222222222222222,\"#7201a8\"],[0.3333333333333333,\"#9c179e\"],[0.4444444444444444,\"#bd3786\"],[0.5555555555555556,\"#d8576b\"],[0.6666666666666666,\"#ed7953\"],[0.7777777777777778,\"#fb9f3a\"],[0.8888888888888888,\"#fdca26\"],[1.0,\"#f0f921\"]]},\"colorway\":[\"#636efa\",\"#EF553B\",\"#00cc96\",\"#ab63fa\",\"#FFA15A\",\"#19d3f3\",\"#FF6692\",\"#B6E880\",\"#FF97FF\",\"#FECB52\"],\"font\":{\"color\":\"#2a3f5f\"},\"geo\":{\"bgcolor\":\"white\",\"lakecolor\":\"white\",\"landcolor\":\"#E5ECF6\",\"showlakes\":true,\"showland\":true,\"subunitcolor\":\"white\"},\"hoverlabel\":{\"align\":\"left\"},\"hovermode\":\"closest\",\"mapbox\":{\"style\":\"light\"},\"paper_bgcolor\":\"white\",\"plot_bgcolor\":\"#E5ECF6\",\"polar\":{\"angularaxis\":{\"gridcolor\":\"white\",\"linecolor\":\"white\",\"ticks\":\"\"},\"bgcolor\":\"#E5ECF6\",\"radialaxis\":{\"gridcolor\":\"white\",\"linecolor\":\"white\",\"ticks\":\"\"}},\"scene\":{\"xaxis\":{\"backgroundcolor\":\"#E5ECF6\",\"gridcolor\":\"white\",\"gridwidth\":2,\"linecolor\":\"white\",\"showbackground\":true,\"ticks\":\"\",\"zerolinecolor\":\"white\"},\"yaxis\":{\"backgroundcolor\":\"#E5ECF6\",\"gridcolor\":\"white\",\"gridwidth\":2,\"linecolor\":\"white\",\"showbackground\":true,\"ticks\":\"\",\"zerolinecolor\":\"white\"},\"zaxis\":{\"backgroundcolor\":\"#E5ECF6\",\"gridcolor\":\"white\",\"gridwidth\":2,\"linecolor\":\"white\",\"showbackground\":true,\"ticks\":\"\",\"zerolinecolor\":\"white\"}},\"shapedefaults\":{\"line\":{\"color\":\"#2a3f5f\"}},\"ternary\":{\"aaxis\":{\"gridcolor\":\"white\",\"linecolor\":\"white\",\"ticks\":\"\"},\"baxis\":{\"gridcolor\":\"white\",\"linecolor\":\"white\",\"ticks\":\"\"},\"bgcolor\":\"#E5ECF6\",\"caxis\":{\"gridcolor\":\"white\",\"linecolor\":\"white\",\"ticks\":\"\"}},\"title\":{\"x\":0.05},\"xaxis\":{\"automargin\":true,\"gridcolor\":\"white\",\"linecolor\":\"white\",\"ticks\":\"\",\"title\":{\"standoff\":15},\"zerolinecolor\":\"white\",\"zerolinewidth\":2},\"yaxis\":{\"automargin\":true,\"gridcolor\":\"white\",\"linecolor\":\"white\",\"ticks\":\"\",\"title\":{\"standoff\":15},\"zerolinecolor\":\"white\",\"zerolinewidth\":2}}},\"geo\":{\"domain\":{\"x\":[0.0,1.0],\"y\":[0.0,1.0]},\"center\":{},\"scope\":\"usa\"},\"coloraxis\":{\"colorbar\":{\"title\":{\"text\":\"Case Rate\"}},\"colorscale\":[[0.0,\"rgb(0,0,131)\"],[0.2,\"rgb(0,60,170)\"],[0.4,\"rgb(5,255,255)\"],[0.6,\"rgb(255,255,0)\"],[0.8,\"rgb(250,0,0)\"],[1.0,\"rgb(128,0,0)\"]],\"cmin\":257.6896428571428,\"cmax\":2294.2152380952384},\"legend\":{\"tracegroupgap\":0},\"title\":{\"text\":\"Case Rate at 100k in last 7 days\"}},                        {\"responsive\": true}                    ).then(function(){\n",
       "                            \n",
       "var gd = document.getElementById('f4abc759-29ba-4847-95cf-f382ba879188');\n",
       "var x = new MutationObserver(function (mutations, observer) {{\n",
       "        var display = window.getComputedStyle(gd).display;\n",
       "        if (!display || display === 'none') {{\n",
       "            console.log([gd, 'removed!']);\n",
       "            Plotly.purge(gd);\n",
       "            observer.disconnect();\n",
       "        }}\n",
       "}});\n",
       "\n",
       "// Listen for the removal of the full notebook cells\n",
       "var notebookContainer = gd.closest('#notebook-container');\n",
       "if (notebookContainer) {{\n",
       "    x.observe(notebookContainer, {childList: true});\n",
       "}}\n",
       "\n",
       "// Listen for the clearing of the current output cell\n",
       "var outputEl = gd.closest('.output');\n",
       "if (outputEl) {{\n",
       "    x.observe(outputEl, {childList: true});\n",
       "}}\n",
       "\n",
       "                        })                };                });            </script>        </div>"
      ]
     },
     "metadata": {},
     "output_type": "display_data"
    }
   ],
   "source": [
    "fig = px.choropleth(locations=mean_df.index.values, \n",
    "                    locationmode=\"USA-states\", \n",
    "                    color=mean_df['Cases - last 7 days per 100k'],\n",
    "                    color_continuous_scale=\"Jet\",\n",
    "                    range_color=(mean_df.min()[0], mean_df.max()[0]),\n",
    "                    labels={'color': 'Case Rate', 'locations': 'Code'},\n",
    "                    title='Case Rate at 100k in last 7 days',\n",
    "                    scope=\"usa\")\n",
    "fig.show()"
   ]
  },
  {
   "cell_type": "code",
   "execution_count": 77,
   "id": "b1dda6f7",
   "metadata": {},
   "outputs": [
    {
     "data": {
      "application/vnd.plotly.v1+json": {
       "config": {
        "plotlyServerURL": "https://plot.ly"
       },
       "data": [
        {
         "coloraxis": "coloraxis",
         "geo": "geo",
         "hovertemplate": "Code=%{location}<br>% vaccinated=%{z}<extra></extra>",
         "locationmode": "USA-states",
         "locations": [
          "AK",
          "AL",
          "AR",
          "AZ",
          "CA",
          "CO",
          "CT",
          "DC",
          "DE",
          "FL",
          "GA",
          "HI",
          "IA",
          "ID",
          "IL",
          "IN",
          "KS",
          "KY",
          "LA",
          "MA",
          "MD",
          "ME",
          "MI",
          "MN",
          "MO",
          "MS",
          "MT",
          "NC",
          "ND",
          "NE",
          "NH",
          "NJ",
          "NM",
          "NV",
          "NY",
          "OH",
          "OK",
          "OR",
          "PA",
          "PR",
          "RI",
          "SC",
          "SD",
          "TN",
          "TX",
          "UT",
          "VA",
          "VT",
          "WA",
          "WI",
          "WV",
          "WY"
         ],
         "name": "",
         "type": "choropleth",
         "z": [
          60.43571428571429,
          41.5089552238806,
          43.80533333333334,
          60.733333333333334,
          52.32931034482758,
          54.39375,
          72.35,
          65,
          60.29999999999999,
          51.87164179104478,
          25.033333333333335,
          0,
          52.743434343434345,
          41.475,
          50.6656862745098,
          46.8445652173913,
          46.174285714285716,
          46.1975,
          44.3390625,
          53.33571428571429,
          63.69583333333333,
          70.48125,
          53.53012048192771,
          55.739080459770115,
          38.899130434782606,
          46.51951219512195,
          45.57678571428572,
          51.151,
          43.507547169811325,
          40.081720430107524,
          64.36,
          65.0047619047619,
          59.878787878787875,
          43.370588235294115,
          63.435483870967744,
          47.725,
          42.835064935064935,
          57.80833333333333,
          53.83880597014925,
          73.23461538461538,
          73.97999999999999,
          47.345652173913045,
          50.99090909090909,
          43.078947368421055,
          44.48779527559055,
          50.85862068965517,
          43.37593984962406,
          54.621428571428574,
          56.282051282051285,
          56.456944444444446,
          51.27090909090909,
          43.10434782608696
         ]
        }
       ],
       "layout": {
        "coloraxis": {
         "cmax": 73.97999999999999,
         "cmin": 0,
         "colorbar": {
          "title": {
           "text": "% vaccinated"
          }
         },
         "colorscale": [
          [
           0,
           "rgb(0,0,131)"
          ],
          [
           0.2,
           "rgb(0,60,170)"
          ],
          [
           0.4,
           "rgb(5,255,255)"
          ],
          [
           0.6,
           "rgb(255,255,0)"
          ],
          [
           0.8,
           "rgb(250,0,0)"
          ],
          [
           1,
           "rgb(128,0,0)"
          ]
         ]
        },
        "geo": {
         "center": {},
         "domain": {
          "x": [
           0,
           1
          ],
          "y": [
           0,
           1
          ]
         },
         "scope": "usa"
        },
        "legend": {
         "tracegroupgap": 0
        },
        "template": {
         "data": {
          "bar": [
           {
            "error_x": {
             "color": "#2a3f5f"
            },
            "error_y": {
             "color": "#2a3f5f"
            },
            "marker": {
             "line": {
              "color": "#E5ECF6",
              "width": 0.5
             },
             "pattern": {
              "fillmode": "overlay",
              "size": 10,
              "solidity": 0.2
             }
            },
            "type": "bar"
           }
          ],
          "barpolar": [
           {
            "marker": {
             "line": {
              "color": "#E5ECF6",
              "width": 0.5
             },
             "pattern": {
              "fillmode": "overlay",
              "size": 10,
              "solidity": 0.2
             }
            },
            "type": "barpolar"
           }
          ],
          "carpet": [
           {
            "aaxis": {
             "endlinecolor": "#2a3f5f",
             "gridcolor": "white",
             "linecolor": "white",
             "minorgridcolor": "white",
             "startlinecolor": "#2a3f5f"
            },
            "baxis": {
             "endlinecolor": "#2a3f5f",
             "gridcolor": "white",
             "linecolor": "white",
             "minorgridcolor": "white",
             "startlinecolor": "#2a3f5f"
            },
            "type": "carpet"
           }
          ],
          "choropleth": [
           {
            "colorbar": {
             "outlinewidth": 0,
             "ticks": ""
            },
            "type": "choropleth"
           }
          ],
          "contour": [
           {
            "colorbar": {
             "outlinewidth": 0,
             "ticks": ""
            },
            "colorscale": [
             [
              0,
              "#0d0887"
             ],
             [
              0.1111111111111111,
              "#46039f"
             ],
             [
              0.2222222222222222,
              "#7201a8"
             ],
             [
              0.3333333333333333,
              "#9c179e"
             ],
             [
              0.4444444444444444,
              "#bd3786"
             ],
             [
              0.5555555555555556,
              "#d8576b"
             ],
             [
              0.6666666666666666,
              "#ed7953"
             ],
             [
              0.7777777777777778,
              "#fb9f3a"
             ],
             [
              0.8888888888888888,
              "#fdca26"
             ],
             [
              1,
              "#f0f921"
             ]
            ],
            "type": "contour"
           }
          ],
          "contourcarpet": [
           {
            "colorbar": {
             "outlinewidth": 0,
             "ticks": ""
            },
            "type": "contourcarpet"
           }
          ],
          "heatmap": [
           {
            "colorbar": {
             "outlinewidth": 0,
             "ticks": ""
            },
            "colorscale": [
             [
              0,
              "#0d0887"
             ],
             [
              0.1111111111111111,
              "#46039f"
             ],
             [
              0.2222222222222222,
              "#7201a8"
             ],
             [
              0.3333333333333333,
              "#9c179e"
             ],
             [
              0.4444444444444444,
              "#bd3786"
             ],
             [
              0.5555555555555556,
              "#d8576b"
             ],
             [
              0.6666666666666666,
              "#ed7953"
             ],
             [
              0.7777777777777778,
              "#fb9f3a"
             ],
             [
              0.8888888888888888,
              "#fdca26"
             ],
             [
              1,
              "#f0f921"
             ]
            ],
            "type": "heatmap"
           }
          ],
          "heatmapgl": [
           {
            "colorbar": {
             "outlinewidth": 0,
             "ticks": ""
            },
            "colorscale": [
             [
              0,
              "#0d0887"
             ],
             [
              0.1111111111111111,
              "#46039f"
             ],
             [
              0.2222222222222222,
              "#7201a8"
             ],
             [
              0.3333333333333333,
              "#9c179e"
             ],
             [
              0.4444444444444444,
              "#bd3786"
             ],
             [
              0.5555555555555556,
              "#d8576b"
             ],
             [
              0.6666666666666666,
              "#ed7953"
             ],
             [
              0.7777777777777778,
              "#fb9f3a"
             ],
             [
              0.8888888888888888,
              "#fdca26"
             ],
             [
              1,
              "#f0f921"
             ]
            ],
            "type": "heatmapgl"
           }
          ],
          "histogram": [
           {
            "marker": {
             "pattern": {
              "fillmode": "overlay",
              "size": 10,
              "solidity": 0.2
             }
            },
            "type": "histogram"
           }
          ],
          "histogram2d": [
           {
            "colorbar": {
             "outlinewidth": 0,
             "ticks": ""
            },
            "colorscale": [
             [
              0,
              "#0d0887"
             ],
             [
              0.1111111111111111,
              "#46039f"
             ],
             [
              0.2222222222222222,
              "#7201a8"
             ],
             [
              0.3333333333333333,
              "#9c179e"
             ],
             [
              0.4444444444444444,
              "#bd3786"
             ],
             [
              0.5555555555555556,
              "#d8576b"
             ],
             [
              0.6666666666666666,
              "#ed7953"
             ],
             [
              0.7777777777777778,
              "#fb9f3a"
             ],
             [
              0.8888888888888888,
              "#fdca26"
             ],
             [
              1,
              "#f0f921"
             ]
            ],
            "type": "histogram2d"
           }
          ],
          "histogram2dcontour": [
           {
            "colorbar": {
             "outlinewidth": 0,
             "ticks": ""
            },
            "colorscale": [
             [
              0,
              "#0d0887"
             ],
             [
              0.1111111111111111,
              "#46039f"
             ],
             [
              0.2222222222222222,
              "#7201a8"
             ],
             [
              0.3333333333333333,
              "#9c179e"
             ],
             [
              0.4444444444444444,
              "#bd3786"
             ],
             [
              0.5555555555555556,
              "#d8576b"
             ],
             [
              0.6666666666666666,
              "#ed7953"
             ],
             [
              0.7777777777777778,
              "#fb9f3a"
             ],
             [
              0.8888888888888888,
              "#fdca26"
             ],
             [
              1,
              "#f0f921"
             ]
            ],
            "type": "histogram2dcontour"
           }
          ],
          "mesh3d": [
           {
            "colorbar": {
             "outlinewidth": 0,
             "ticks": ""
            },
            "type": "mesh3d"
           }
          ],
          "parcoords": [
           {
            "line": {
             "colorbar": {
              "outlinewidth": 0,
              "ticks": ""
             }
            },
            "type": "parcoords"
           }
          ],
          "pie": [
           {
            "automargin": true,
            "type": "pie"
           }
          ],
          "scatter": [
           {
            "marker": {
             "colorbar": {
              "outlinewidth": 0,
              "ticks": ""
             }
            },
            "type": "scatter"
           }
          ],
          "scatter3d": [
           {
            "line": {
             "colorbar": {
              "outlinewidth": 0,
              "ticks": ""
             }
            },
            "marker": {
             "colorbar": {
              "outlinewidth": 0,
              "ticks": ""
             }
            },
            "type": "scatter3d"
           }
          ],
          "scattercarpet": [
           {
            "marker": {
             "colorbar": {
              "outlinewidth": 0,
              "ticks": ""
             }
            },
            "type": "scattercarpet"
           }
          ],
          "scattergeo": [
           {
            "marker": {
             "colorbar": {
              "outlinewidth": 0,
              "ticks": ""
             }
            },
            "type": "scattergeo"
           }
          ],
          "scattergl": [
           {
            "marker": {
             "colorbar": {
              "outlinewidth": 0,
              "ticks": ""
             }
            },
            "type": "scattergl"
           }
          ],
          "scattermapbox": [
           {
            "marker": {
             "colorbar": {
              "outlinewidth": 0,
              "ticks": ""
             }
            },
            "type": "scattermapbox"
           }
          ],
          "scatterpolar": [
           {
            "marker": {
             "colorbar": {
              "outlinewidth": 0,
              "ticks": ""
             }
            },
            "type": "scatterpolar"
           }
          ],
          "scatterpolargl": [
           {
            "marker": {
             "colorbar": {
              "outlinewidth": 0,
              "ticks": ""
             }
            },
            "type": "scatterpolargl"
           }
          ],
          "scatterternary": [
           {
            "marker": {
             "colorbar": {
              "outlinewidth": 0,
              "ticks": ""
             }
            },
            "type": "scatterternary"
           }
          ],
          "surface": [
           {
            "colorbar": {
             "outlinewidth": 0,
             "ticks": ""
            },
            "colorscale": [
             [
              0,
              "#0d0887"
             ],
             [
              0.1111111111111111,
              "#46039f"
             ],
             [
              0.2222222222222222,
              "#7201a8"
             ],
             [
              0.3333333333333333,
              "#9c179e"
             ],
             [
              0.4444444444444444,
              "#bd3786"
             ],
             [
              0.5555555555555556,
              "#d8576b"
             ],
             [
              0.6666666666666666,
              "#ed7953"
             ],
             [
              0.7777777777777778,
              "#fb9f3a"
             ],
             [
              0.8888888888888888,
              "#fdca26"
             ],
             [
              1,
              "#f0f921"
             ]
            ],
            "type": "surface"
           }
          ],
          "table": [
           {
            "cells": {
             "fill": {
              "color": "#EBF0F8"
             },
             "line": {
              "color": "white"
             }
            },
            "header": {
             "fill": {
              "color": "#C8D4E3"
             },
             "line": {
              "color": "white"
             }
            },
            "type": "table"
           }
          ]
         },
         "layout": {
          "annotationdefaults": {
           "arrowcolor": "#2a3f5f",
           "arrowhead": 0,
           "arrowwidth": 1
          },
          "autotypenumbers": "strict",
          "coloraxis": {
           "colorbar": {
            "outlinewidth": 0,
            "ticks": ""
           }
          },
          "colorscale": {
           "diverging": [
            [
             0,
             "#8e0152"
            ],
            [
             0.1,
             "#c51b7d"
            ],
            [
             0.2,
             "#de77ae"
            ],
            [
             0.3,
             "#f1b6da"
            ],
            [
             0.4,
             "#fde0ef"
            ],
            [
             0.5,
             "#f7f7f7"
            ],
            [
             0.6,
             "#e6f5d0"
            ],
            [
             0.7,
             "#b8e186"
            ],
            [
             0.8,
             "#7fbc41"
            ],
            [
             0.9,
             "#4d9221"
            ],
            [
             1,
             "#276419"
            ]
           ],
           "sequential": [
            [
             0,
             "#0d0887"
            ],
            [
             0.1111111111111111,
             "#46039f"
            ],
            [
             0.2222222222222222,
             "#7201a8"
            ],
            [
             0.3333333333333333,
             "#9c179e"
            ],
            [
             0.4444444444444444,
             "#bd3786"
            ],
            [
             0.5555555555555556,
             "#d8576b"
            ],
            [
             0.6666666666666666,
             "#ed7953"
            ],
            [
             0.7777777777777778,
             "#fb9f3a"
            ],
            [
             0.8888888888888888,
             "#fdca26"
            ],
            [
             1,
             "#f0f921"
            ]
           ],
           "sequentialminus": [
            [
             0,
             "#0d0887"
            ],
            [
             0.1111111111111111,
             "#46039f"
            ],
            [
             0.2222222222222222,
             "#7201a8"
            ],
            [
             0.3333333333333333,
             "#9c179e"
            ],
            [
             0.4444444444444444,
             "#bd3786"
            ],
            [
             0.5555555555555556,
             "#d8576b"
            ],
            [
             0.6666666666666666,
             "#ed7953"
            ],
            [
             0.7777777777777778,
             "#fb9f3a"
            ],
            [
             0.8888888888888888,
             "#fdca26"
            ],
            [
             1,
             "#f0f921"
            ]
           ]
          },
          "colorway": [
           "#636efa",
           "#EF553B",
           "#00cc96",
           "#ab63fa",
           "#FFA15A",
           "#19d3f3",
           "#FF6692",
           "#B6E880",
           "#FF97FF",
           "#FECB52"
          ],
          "font": {
           "color": "#2a3f5f"
          },
          "geo": {
           "bgcolor": "white",
           "lakecolor": "white",
           "landcolor": "#E5ECF6",
           "showlakes": true,
           "showland": true,
           "subunitcolor": "white"
          },
          "hoverlabel": {
           "align": "left"
          },
          "hovermode": "closest",
          "mapbox": {
           "style": "light"
          },
          "paper_bgcolor": "white",
          "plot_bgcolor": "#E5ECF6",
          "polar": {
           "angularaxis": {
            "gridcolor": "white",
            "linecolor": "white",
            "ticks": ""
           },
           "bgcolor": "#E5ECF6",
           "radialaxis": {
            "gridcolor": "white",
            "linecolor": "white",
            "ticks": ""
           }
          },
          "scene": {
           "xaxis": {
            "backgroundcolor": "#E5ECF6",
            "gridcolor": "white",
            "gridwidth": 2,
            "linecolor": "white",
            "showbackground": true,
            "ticks": "",
            "zerolinecolor": "white"
           },
           "yaxis": {
            "backgroundcolor": "#E5ECF6",
            "gridcolor": "white",
            "gridwidth": 2,
            "linecolor": "white",
            "showbackground": true,
            "ticks": "",
            "zerolinecolor": "white"
           },
           "zaxis": {
            "backgroundcolor": "#E5ECF6",
            "gridcolor": "white",
            "gridwidth": 2,
            "linecolor": "white",
            "showbackground": true,
            "ticks": "",
            "zerolinecolor": "white"
           }
          },
          "shapedefaults": {
           "line": {
            "color": "#2a3f5f"
           }
          },
          "ternary": {
           "aaxis": {
            "gridcolor": "white",
            "linecolor": "white",
            "ticks": ""
           },
           "baxis": {
            "gridcolor": "white",
            "linecolor": "white",
            "ticks": ""
           },
           "bgcolor": "#E5ECF6",
           "caxis": {
            "gridcolor": "white",
            "linecolor": "white",
            "ticks": ""
           }
          },
          "title": {
           "x": 0.05
          },
          "xaxis": {
           "automargin": true,
           "gridcolor": "white",
           "linecolor": "white",
           "ticks": "",
           "title": {
            "standoff": 15
           },
           "zerolinecolor": "white",
           "zerolinewidth": 2
          },
          "yaxis": {
           "automargin": true,
           "gridcolor": "white",
           "linecolor": "white",
           "ticks": "",
           "title": {
            "standoff": 15
           },
           "zerolinecolor": "white",
           "zerolinewidth": 2
          }
         }
        },
        "title": {
         "text": "Percent of fully vaccinated population"
        }
       }
      },
      "text/html": [
       "<div>                            <div id=\"5c590db3-5ccc-4461-8953-2addd3edda3b\" class=\"plotly-graph-div\" style=\"height:525px; width:100%;\"></div>            <script type=\"text/javascript\">                require([\"plotly\"], function(Plotly) {                    window.PLOTLYENV=window.PLOTLYENV || {};                                    if (document.getElementById(\"5c590db3-5ccc-4461-8953-2addd3edda3b\")) {                    Plotly.newPlot(                        \"5c590db3-5ccc-4461-8953-2addd3edda3b\",                        [{\"coloraxis\":\"coloraxis\",\"geo\":\"geo\",\"hovertemplate\":\"Code=%{location}<br>% vaccinated=%{z}<extra></extra>\",\"locationmode\":\"USA-states\",\"locations\":[\"AK\",\"AL\",\"AR\",\"AZ\",\"CA\",\"CO\",\"CT\",\"DC\",\"DE\",\"FL\",\"GA\",\"HI\",\"IA\",\"ID\",\"IL\",\"IN\",\"KS\",\"KY\",\"LA\",\"MA\",\"MD\",\"ME\",\"MI\",\"MN\",\"MO\",\"MS\",\"MT\",\"NC\",\"ND\",\"NE\",\"NH\",\"NJ\",\"NM\",\"NV\",\"NY\",\"OH\",\"OK\",\"OR\",\"PA\",\"PR\",\"RI\",\"SC\",\"SD\",\"TN\",\"TX\",\"UT\",\"VA\",\"VT\",\"WA\",\"WI\",\"WV\",\"WY\"],\"name\":\"\",\"z\":[60.43571428571429,41.5089552238806,43.80533333333334,60.733333333333334,52.32931034482758,54.39375,72.35,65.0,60.29999999999999,51.87164179104478,25.033333333333335,0.0,52.743434343434345,41.475,50.6656862745098,46.8445652173913,46.174285714285716,46.1975,44.3390625,53.33571428571429,63.69583333333333,70.48125,53.53012048192771,55.739080459770115,38.899130434782606,46.51951219512195,45.57678571428572,51.151,43.507547169811325,40.081720430107524,64.36,65.0047619047619,59.878787878787875,43.370588235294115,63.435483870967744,47.725,42.835064935064935,57.80833333333333,53.83880597014925,73.23461538461538,73.97999999999999,47.345652173913045,50.99090909090909,43.078947368421055,44.48779527559055,50.85862068965517,43.37593984962406,54.621428571428574,56.282051282051285,56.456944444444446,51.27090909090909,43.10434782608696],\"type\":\"choropleth\"}],                        {\"template\":{\"data\":{\"bar\":[{\"error_x\":{\"color\":\"#2a3f5f\"},\"error_y\":{\"color\":\"#2a3f5f\"},\"marker\":{\"line\":{\"color\":\"#E5ECF6\",\"width\":0.5},\"pattern\":{\"fillmode\":\"overlay\",\"size\":10,\"solidity\":0.2}},\"type\":\"bar\"}],\"barpolar\":[{\"marker\":{\"line\":{\"color\":\"#E5ECF6\",\"width\":0.5},\"pattern\":{\"fillmode\":\"overlay\",\"size\":10,\"solidity\":0.2}},\"type\":\"barpolar\"}],\"carpet\":[{\"aaxis\":{\"endlinecolor\":\"#2a3f5f\",\"gridcolor\":\"white\",\"linecolor\":\"white\",\"minorgridcolor\":\"white\",\"startlinecolor\":\"#2a3f5f\"},\"baxis\":{\"endlinecolor\":\"#2a3f5f\",\"gridcolor\":\"white\",\"linecolor\":\"white\",\"minorgridcolor\":\"white\",\"startlinecolor\":\"#2a3f5f\"},\"type\":\"carpet\"}],\"choropleth\":[{\"colorbar\":{\"outlinewidth\":0,\"ticks\":\"\"},\"type\":\"choropleth\"}],\"contour\":[{\"colorbar\":{\"outlinewidth\":0,\"ticks\":\"\"},\"colorscale\":[[0.0,\"#0d0887\"],[0.1111111111111111,\"#46039f\"],[0.2222222222222222,\"#7201a8\"],[0.3333333333333333,\"#9c179e\"],[0.4444444444444444,\"#bd3786\"],[0.5555555555555556,\"#d8576b\"],[0.6666666666666666,\"#ed7953\"],[0.7777777777777778,\"#fb9f3a\"],[0.8888888888888888,\"#fdca26\"],[1.0,\"#f0f921\"]],\"type\":\"contour\"}],\"contourcarpet\":[{\"colorbar\":{\"outlinewidth\":0,\"ticks\":\"\"},\"type\":\"contourcarpet\"}],\"heatmap\":[{\"colorbar\":{\"outlinewidth\":0,\"ticks\":\"\"},\"colorscale\":[[0.0,\"#0d0887\"],[0.1111111111111111,\"#46039f\"],[0.2222222222222222,\"#7201a8\"],[0.3333333333333333,\"#9c179e\"],[0.4444444444444444,\"#bd3786\"],[0.5555555555555556,\"#d8576b\"],[0.6666666666666666,\"#ed7953\"],[0.7777777777777778,\"#fb9f3a\"],[0.8888888888888888,\"#fdca26\"],[1.0,\"#f0f921\"]],\"type\":\"heatmap\"}],\"heatmapgl\":[{\"colorbar\":{\"outlinewidth\":0,\"ticks\":\"\"},\"colorscale\":[[0.0,\"#0d0887\"],[0.1111111111111111,\"#46039f\"],[0.2222222222222222,\"#7201a8\"],[0.3333333333333333,\"#9c179e\"],[0.4444444444444444,\"#bd3786\"],[0.5555555555555556,\"#d8576b\"],[0.6666666666666666,\"#ed7953\"],[0.7777777777777778,\"#fb9f3a\"],[0.8888888888888888,\"#fdca26\"],[1.0,\"#f0f921\"]],\"type\":\"heatmapgl\"}],\"histogram\":[{\"marker\":{\"pattern\":{\"fillmode\":\"overlay\",\"size\":10,\"solidity\":0.2}},\"type\":\"histogram\"}],\"histogram2d\":[{\"colorbar\":{\"outlinewidth\":0,\"ticks\":\"\"},\"colorscale\":[[0.0,\"#0d0887\"],[0.1111111111111111,\"#46039f\"],[0.2222222222222222,\"#7201a8\"],[0.3333333333333333,\"#9c179e\"],[0.4444444444444444,\"#bd3786\"],[0.5555555555555556,\"#d8576b\"],[0.6666666666666666,\"#ed7953\"],[0.7777777777777778,\"#fb9f3a\"],[0.8888888888888888,\"#fdca26\"],[1.0,\"#f0f921\"]],\"type\":\"histogram2d\"}],\"histogram2dcontour\":[{\"colorbar\":{\"outlinewidth\":0,\"ticks\":\"\"},\"colorscale\":[[0.0,\"#0d0887\"],[0.1111111111111111,\"#46039f\"],[0.2222222222222222,\"#7201a8\"],[0.3333333333333333,\"#9c179e\"],[0.4444444444444444,\"#bd3786\"],[0.5555555555555556,\"#d8576b\"],[0.6666666666666666,\"#ed7953\"],[0.7777777777777778,\"#fb9f3a\"],[0.8888888888888888,\"#fdca26\"],[1.0,\"#f0f921\"]],\"type\":\"histogram2dcontour\"}],\"mesh3d\":[{\"colorbar\":{\"outlinewidth\":0,\"ticks\":\"\"},\"type\":\"mesh3d\"}],\"parcoords\":[{\"line\":{\"colorbar\":{\"outlinewidth\":0,\"ticks\":\"\"}},\"type\":\"parcoords\"}],\"pie\":[{\"automargin\":true,\"type\":\"pie\"}],\"scatter\":[{\"marker\":{\"colorbar\":{\"outlinewidth\":0,\"ticks\":\"\"}},\"type\":\"scatter\"}],\"scatter3d\":[{\"line\":{\"colorbar\":{\"outlinewidth\":0,\"ticks\":\"\"}},\"marker\":{\"colorbar\":{\"outlinewidth\":0,\"ticks\":\"\"}},\"type\":\"scatter3d\"}],\"scattercarpet\":[{\"marker\":{\"colorbar\":{\"outlinewidth\":0,\"ticks\":\"\"}},\"type\":\"scattercarpet\"}],\"scattergeo\":[{\"marker\":{\"colorbar\":{\"outlinewidth\":0,\"ticks\":\"\"}},\"type\":\"scattergeo\"}],\"scattergl\":[{\"marker\":{\"colorbar\":{\"outlinewidth\":0,\"ticks\":\"\"}},\"type\":\"scattergl\"}],\"scattermapbox\":[{\"marker\":{\"colorbar\":{\"outlinewidth\":0,\"ticks\":\"\"}},\"type\":\"scattermapbox\"}],\"scatterpolar\":[{\"marker\":{\"colorbar\":{\"outlinewidth\":0,\"ticks\":\"\"}},\"type\":\"scatterpolar\"}],\"scatterpolargl\":[{\"marker\":{\"colorbar\":{\"outlinewidth\":0,\"ticks\":\"\"}},\"type\":\"scatterpolargl\"}],\"scatterternary\":[{\"marker\":{\"colorbar\":{\"outlinewidth\":0,\"ticks\":\"\"}},\"type\":\"scatterternary\"}],\"surface\":[{\"colorbar\":{\"outlinewidth\":0,\"ticks\":\"\"},\"colorscale\":[[0.0,\"#0d0887\"],[0.1111111111111111,\"#46039f\"],[0.2222222222222222,\"#7201a8\"],[0.3333333333333333,\"#9c179e\"],[0.4444444444444444,\"#bd3786\"],[0.5555555555555556,\"#d8576b\"],[0.6666666666666666,\"#ed7953\"],[0.7777777777777778,\"#fb9f3a\"],[0.8888888888888888,\"#fdca26\"],[1.0,\"#f0f921\"]],\"type\":\"surface\"}],\"table\":[{\"cells\":{\"fill\":{\"color\":\"#EBF0F8\"},\"line\":{\"color\":\"white\"}},\"header\":{\"fill\":{\"color\":\"#C8D4E3\"},\"line\":{\"color\":\"white\"}},\"type\":\"table\"}]},\"layout\":{\"annotationdefaults\":{\"arrowcolor\":\"#2a3f5f\",\"arrowhead\":0,\"arrowwidth\":1},\"autotypenumbers\":\"strict\",\"coloraxis\":{\"colorbar\":{\"outlinewidth\":0,\"ticks\":\"\"}},\"colorscale\":{\"diverging\":[[0,\"#8e0152\"],[0.1,\"#c51b7d\"],[0.2,\"#de77ae\"],[0.3,\"#f1b6da\"],[0.4,\"#fde0ef\"],[0.5,\"#f7f7f7\"],[0.6,\"#e6f5d0\"],[0.7,\"#b8e186\"],[0.8,\"#7fbc41\"],[0.9,\"#4d9221\"],[1,\"#276419\"]],\"sequential\":[[0.0,\"#0d0887\"],[0.1111111111111111,\"#46039f\"],[0.2222222222222222,\"#7201a8\"],[0.3333333333333333,\"#9c179e\"],[0.4444444444444444,\"#bd3786\"],[0.5555555555555556,\"#d8576b\"],[0.6666666666666666,\"#ed7953\"],[0.7777777777777778,\"#fb9f3a\"],[0.8888888888888888,\"#fdca26\"],[1.0,\"#f0f921\"]],\"sequentialminus\":[[0.0,\"#0d0887\"],[0.1111111111111111,\"#46039f\"],[0.2222222222222222,\"#7201a8\"],[0.3333333333333333,\"#9c179e\"],[0.4444444444444444,\"#bd3786\"],[0.5555555555555556,\"#d8576b\"],[0.6666666666666666,\"#ed7953\"],[0.7777777777777778,\"#fb9f3a\"],[0.8888888888888888,\"#fdca26\"],[1.0,\"#f0f921\"]]},\"colorway\":[\"#636efa\",\"#EF553B\",\"#00cc96\",\"#ab63fa\",\"#FFA15A\",\"#19d3f3\",\"#FF6692\",\"#B6E880\",\"#FF97FF\",\"#FECB52\"],\"font\":{\"color\":\"#2a3f5f\"},\"geo\":{\"bgcolor\":\"white\",\"lakecolor\":\"white\",\"landcolor\":\"#E5ECF6\",\"showlakes\":true,\"showland\":true,\"subunitcolor\":\"white\"},\"hoverlabel\":{\"align\":\"left\"},\"hovermode\":\"closest\",\"mapbox\":{\"style\":\"light\"},\"paper_bgcolor\":\"white\",\"plot_bgcolor\":\"#E5ECF6\",\"polar\":{\"angularaxis\":{\"gridcolor\":\"white\",\"linecolor\":\"white\",\"ticks\":\"\"},\"bgcolor\":\"#E5ECF6\",\"radialaxis\":{\"gridcolor\":\"white\",\"linecolor\":\"white\",\"ticks\":\"\"}},\"scene\":{\"xaxis\":{\"backgroundcolor\":\"#E5ECF6\",\"gridcolor\":\"white\",\"gridwidth\":2,\"linecolor\":\"white\",\"showbackground\":true,\"ticks\":\"\",\"zerolinecolor\":\"white\"},\"yaxis\":{\"backgroundcolor\":\"#E5ECF6\",\"gridcolor\":\"white\",\"gridwidth\":2,\"linecolor\":\"white\",\"showbackground\":true,\"ticks\":\"\",\"zerolinecolor\":\"white\"},\"zaxis\":{\"backgroundcolor\":\"#E5ECF6\",\"gridcolor\":\"white\",\"gridwidth\":2,\"linecolor\":\"white\",\"showbackground\":true,\"ticks\":\"\",\"zerolinecolor\":\"white\"}},\"shapedefaults\":{\"line\":{\"color\":\"#2a3f5f\"}},\"ternary\":{\"aaxis\":{\"gridcolor\":\"white\",\"linecolor\":\"white\",\"ticks\":\"\"},\"baxis\":{\"gridcolor\":\"white\",\"linecolor\":\"white\",\"ticks\":\"\"},\"bgcolor\":\"#E5ECF6\",\"caxis\":{\"gridcolor\":\"white\",\"linecolor\":\"white\",\"ticks\":\"\"}},\"title\":{\"x\":0.05},\"xaxis\":{\"automargin\":true,\"gridcolor\":\"white\",\"linecolor\":\"white\",\"ticks\":\"\",\"title\":{\"standoff\":15},\"zerolinecolor\":\"white\",\"zerolinewidth\":2},\"yaxis\":{\"automargin\":true,\"gridcolor\":\"white\",\"linecolor\":\"white\",\"ticks\":\"\",\"title\":{\"standoff\":15},\"zerolinecolor\":\"white\",\"zerolinewidth\":2}}},\"geo\":{\"domain\":{\"x\":[0.0,1.0],\"y\":[0.0,1.0]},\"center\":{},\"scope\":\"usa\"},\"coloraxis\":{\"colorbar\":{\"title\":{\"text\":\"% vaccinated\"}},\"colorscale\":[[0.0,\"rgb(0,0,131)\"],[0.2,\"rgb(0,60,170)\"],[0.4,\"rgb(5,255,255)\"],[0.6,\"rgb(255,255,0)\"],[0.8,\"rgb(250,0,0)\"],[1.0,\"rgb(128,0,0)\"]],\"cmin\":0.0,\"cmax\":73.97999999999999},\"legend\":{\"tracegroupgap\":0},\"title\":{\"text\":\"Percent of fully vaccinated population\"}},                        {\"responsive\": true}                    ).then(function(){\n",
       "                            \n",
       "var gd = document.getElementById('5c590db3-5ccc-4461-8953-2addd3edda3b');\n",
       "var x = new MutationObserver(function (mutations, observer) {{\n",
       "        var display = window.getComputedStyle(gd).display;\n",
       "        if (!display || display === 'none') {{\n",
       "            console.log([gd, 'removed!']);\n",
       "            Plotly.purge(gd);\n",
       "            observer.disconnect();\n",
       "        }}\n",
       "}});\n",
       "\n",
       "// Listen for the removal of the full notebook cells\n",
       "var notebookContainer = gd.closest('#notebook-container');\n",
       "if (notebookContainer) {{\n",
       "    x.observe(notebookContainer, {childList: true});\n",
       "}}\n",
       "\n",
       "// Listen for the clearing of the current output cell\n",
       "var outputEl = gd.closest('.output');\n",
       "if (outputEl) {{\n",
       "    x.observe(outputEl, {childList: true});\n",
       "}}\n",
       "\n",
       "                        })                };                });            </script>        </div>"
      ]
     },
     "metadata": {},
     "output_type": "display_data"
    }
   ],
   "source": [
    "fig = px.choropleth(locations=mean_df.index.values, \n",
    "                    locationmode=\"USA-states\", \n",
    "                    color=mean_df['% total pop fully vaccinated'],\n",
    "                    color_continuous_scale=\"Jet\",\n",
    "                    range_color=(mean_df.min()[1], mean_df.max()[1]),\n",
    "                    labels={'color': '% vaccinated', 'locations': 'Code'},\n",
    "                    title='Percent of fully vaccinated population',\n",
    "                    scope=\"usa\")\n",
    "fig.show()"
   ]
  },
  {
   "cell_type": "code",
   "execution_count": 91,
   "id": "a341323f",
   "metadata": {},
   "outputs": [
    {
     "data": {
      "application/vnd.plotly.v1+json": {
       "config": {
        "plotlyServerURL": "https://plot.ly"
       },
       "data": [
        {
         "coloraxis": "coloraxis",
         "hovertemplate": "State: %{x}<br>State: %{y}<br>color: %{z}<extra></extra>",
         "name": "0",
         "type": "heatmap",
         "x": [
          "AK",
          "AL",
          "AR",
          "AZ",
          "CA",
          "CO",
          "CT",
          "DC",
          "DE",
          "FL",
          "GA",
          "HI",
          "IA",
          "ID",
          "IL",
          "IN",
          "KS",
          "KY",
          "LA",
          "MA",
          "MD",
          "ME",
          "MI",
          "MN",
          "MO",
          "MS",
          "MT",
          "NC",
          "ND",
          "NE",
          "NH",
          "NJ",
          "NM",
          "NV",
          "NY",
          "OH",
          "OK",
          "OR",
          "PA",
          "PR",
          "RI",
          "SC",
          "SD",
          "TN",
          "TX",
          "UT",
          "VA",
          "VT",
          "WA",
          "WI",
          "WV",
          "WY"
         ],
         "xaxis": "x",
         "y": [
          "AK",
          "AL",
          "AR",
          "AZ",
          "CA",
          "CO",
          "CT",
          "DC",
          "DE",
          "FL",
          "GA",
          "HI",
          "IA",
          "ID",
          "IL",
          "IN",
          "KS",
          "KY",
          "LA",
          "MA",
          "MD",
          "ME",
          "MI",
          "MN",
          "MO",
          "MS",
          "MT",
          "NC",
          "ND",
          "NE",
          "NH",
          "NJ",
          "NM",
          "NV",
          "NY",
          "OH",
          "OK",
          "OR",
          "PA",
          "PR",
          "RI",
          "SC",
          "SD",
          "TN",
          "TX",
          "UT",
          "VA",
          "VT",
          "WA",
          "WI",
          "WV",
          "WY"
         ],
         "yaxis": "y",
         "z": [
          [
           1,
           1.0000000000000002,
           0.9999999999999999,
           0.9999999999999998,
           1.0000000000000002,
           1,
           1,
           1,
           1,
           1,
           0.9999999999999999,
           1.0000000000000002,
           1,
           1,
           1.0000000000000002,
           1,
           1.0000000000000002,
           1,
           1,
           1.0000000000000002,
           1,
           1,
           1,
           0.9999999999999998,
           1,
           1,
           1.0000000000000002,
           1,
           1.0000000000000002,
           1,
           1,
           1,
           1,
           1,
           1,
           1,
           0.9999999999999998,
           1,
           1.0000000000000002,
           1.0000000000000002,
           1,
           1,
           1,
           1,
           1,
           1,
           1,
           1,
           1,
           1.0000000000000002,
           1.0000000000000002,
           1
          ],
          [
           1.0000000000000002,
           1,
           0.9999999999999998,
           1,
           1,
           0.9999999999999999,
           1,
           1,
           1,
           1.0000000000000002,
           0.9999999999999998,
           1.0000000000000002,
           0.9999999999999999,
           1,
           1.0000000000000002,
           1,
           1.0000000000000002,
           1,
           1,
           1,
           1.0000000000000002,
           1,
           1,
           0.9999999999999999,
           1,
           1,
           1.0000000000000002,
           1,
           1,
           1.0000000000000002,
           0.9999999999999999,
           1,
           0.9999999999999999,
           1,
           1.0000000000000002,
           0.9999999999999998,
           0.9999999999999999,
           0.9999999999999999,
           1,
           1.0000000000000002,
           1,
           1,
           1,
           1.0000000000000002,
           1,
           0.9999999999999999,
           1,
           1.0000000000000002,
           1,
           1,
           1,
           1
          ],
          [
           0.9999999999999999,
           0.9999999999999998,
           1,
           1,
           1,
           1,
           0.9999999999999999,
           1,
           1.0000000000000002,
           1.0000000000000002,
           1,
           1.0000000000000002,
           1,
           1,
           1,
           1,
           1,
           1,
           1,
           1.0000000000000002,
           1.0000000000000002,
           1.0000000000000002,
           1.0000000000000002,
           1,
           1,
           1.0000000000000002,
           1.0000000000000002,
           1.0000000000000002,
           1.0000000000000002,
           1.0000000000000002,
           1.0000000000000002,
           1,
           1,
           1.0000000000000002,
           1.0000000000000002,
           0.9999999999999998,
           1.0000000000000002,
           1,
           1,
           1.0000000000000002,
           1,
           1.0000000000000002,
           1.0000000000000002,
           1.0000000000000002,
           1,
           1,
           1,
           1.0000000000000002,
           1,
           1,
           1,
           1
          ],
          [
           0.9999999999999998,
           1,
           1,
           1,
           1,
           1,
           1,
           1,
           1,
           1,
           0.9999999999999999,
           1,
           1,
           1,
           0.9999999999999998,
           1,
           1,
           1,
           1,
           1,
           1.0000000000000002,
           1,
           1,
           0.9999999999999998,
           1,
           1,
           1,
           1.0000000000000002,
           1.0000000000000002,
           1,
           1,
           1,
           1,
           1,
           1,
           0.9999999999999999,
           1,
           0.9999999999999999,
           0.9999999999999999,
           1,
           1,
           1.0000000000000002,
           1,
           1,
           1,
           1,
           1,
           1,
           0.9999999999999999,
           1,
           1,
           1
          ],
          [
           1.0000000000000002,
           1,
           1,
           1,
           1,
           1,
           1,
           1,
           1,
           1.0000000000000002,
           0.9999999999999999,
           1,
           0.9999999999999998,
           1.0000000000000002,
           1,
           1,
           1,
           1,
           1,
           1,
           1.0000000000000002,
           1,
           1.0000000000000002,
           1,
           1,
           1,
           1,
           1.0000000000000002,
           1.0000000000000002,
           1.0000000000000002,
           1,
           1,
           1,
           1,
           1.0000000000000002,
           0.9999999999999998,
           1,
           1,
           1,
           1.0000000000000002,
           1,
           1,
           1,
           1.0000000000000002,
           1,
           1,
           1.0000000000000002,
           1.0000000000000002,
           1,
           1,
           1.0000000000000002,
           1
          ],
          [
           1,
           0.9999999999999999,
           1,
           1,
           1,
           1,
           1,
           1,
           1,
           1.0000000000000002,
           1,
           1.0000000000000002,
           1,
           1.0000000000000002,
           1,
           1,
           1.0000000000000002,
           1,
           1,
           1.0000000000000002,
           1.0000000000000002,
           1,
           1.0000000000000002,
           1,
           1,
           1.0000000000000002,
           1.0000000000000002,
           1.0000000000000002,
           1.0000000000000002,
           1.0000000000000002,
           1,
           1.0000000000000002,
           1,
           1.0000000000000002,
           1,
           1,
           1,
           1,
           1,
           1.0000000000000002,
           1,
           1.0000000000000002,
           1,
           1.0000000000000002,
           1,
           1,
           1.0000000000000002,
           1,
           1,
           1,
           1.0000000000000002,
           1
          ],
          [
           1,
           1,
           0.9999999999999999,
           1,
           1,
           1,
           1,
           1.0000000000000002,
           1,
           1.0000000000000002,
           1.0000000000000002,
           1.0000000000000002,
           1,
           1.0000000000000002,
           1.0000000000000002,
           1.0000000000000002,
           1.0000000000000002,
           1,
           1,
           1.0000000000000002,
           1.0000000000000002,
           1.0000000000000002,
           1.0000000000000002,
           1.0000000000000002,
           1.0000000000000002,
           1.0000000000000002,
           1.0000000000000002,
           1.0000000000000002,
           1.0000000000000002,
           1.0000000000000002,
           1,
           1.0000000000000002,
           1,
           1.0000000000000002,
           1.0000000000000002,
           1,
           1,
           0.9999999999999999,
           1.0000000000000002,
           1.0000000000000002,
           1,
           1.0000000000000002,
           1.0000000000000002,
           1.0000000000000002,
           1.0000000000000002,
           1.0000000000000002,
           1.0000000000000002,
           1.0000000000000002,
           1.0000000000000002,
           1.0000000000000002,
           1.0000000000000002,
           1
          ],
          [
           1,
           1,
           1,
           1,
           1,
           1,
           1.0000000000000002,
           1,
           1,
           1,
           0.9999999999999998,
           1,
           0.9999999999999999,
           1.0000000000000002,
           1,
           1,
           1,
           1,
           1,
           1,
           1,
           1,
           0.9999999999999999,
           0.9999999999999999,
           1,
           1,
           1,
           1,
           1,
           0.9999999999999999,
           0.9999999999999999,
           1.0000000000000002,
           1,
           1,
           1,
           0.9999999999999998,
           1,
           0.9999999999999998,
           1,
           1,
           0.9999999999999999,
           1,
           1,
           1,
           1,
           1,
           1.0000000000000002,
           1,
           1,
           1.0000000000000002,
           1,
           1
          ],
          [
           1,
           1,
           1.0000000000000002,
           1,
           1,
           1,
           1,
           1,
           1,
           1,
           0.9999999999999999,
           1,
           1,
           1,
           1,
           1,
           1.0000000000000002,
           1,
           1,
           1,
           1,
           1,
           1.0000000000000002,
           1,
           0.9999999999999998,
           1,
           1,
           1.0000000000000002,
           1.0000000000000002,
           1,
           1,
           1,
           0.9999999999999998,
           0.9999999999999999,
           1,
           0.9999999999999999,
           0.9999999999999999,
           0.9999999999999998,
           1,
           1,
           1,
           1,
           0.9999999999999999,
           1.0000000000000002,
           0.9999999999999999,
           1,
           1,
           1,
           0.9999999999999998,
           1.0000000000000002,
           1,
           1
          ],
          [
           1,
           1.0000000000000002,
           1.0000000000000002,
           1,
           1.0000000000000002,
           1.0000000000000002,
           1.0000000000000002,
           1,
           1,
           1,
           1,
           1,
           1,
           1.0000000000000002,
           1.0000000000000002,
           1,
           1,
           1,
           1,
           1,
           1,
           1.0000000000000002,
           1.0000000000000002,
           1,
           1,
           1,
           1.0000000000000002,
           1.0000000000000002,
           1,
           1.0000000000000002,
           1,
           1,
           1,
           1.0000000000000002,
           1.0000000000000002,
           1,
           1,
           1,
           1,
           1.0000000000000002,
           1,
           1,
           1,
           1.0000000000000002,
           1,
           1,
           1.0000000000000002,
           1,
           1,
           1.0000000000000002,
           1.0000000000000002,
           1
          ],
          [
           0.9999999999999999,
           0.9999999999999998,
           1,
           0.9999999999999999,
           0.9999999999999999,
           1,
           1.0000000000000002,
           0.9999999999999998,
           0.9999999999999999,
           1,
           1,
           1,
           1.0000000000000002,
           1.0000000000000002,
           1,
           1.0000000000000002,
           1.0000000000000002,
           1.0000000000000002,
           1.0000000000000002,
           1.0000000000000002,
           1.0000000000000002,
           1.0000000000000002,
           1.0000000000000002,
           1.0000000000000002,
           1.0000000000000002,
           1.0000000000000002,
           1.0000000000000002,
           1.0000000000000002,
           1.0000000000000002,
           1.0000000000000002,
           1.0000000000000002,
           1.0000000000000002,
           1,
           1.0000000000000002,
           1.0000000000000002,
           1.0000000000000002,
           1,
           1,
           1.0000000000000002,
           1.0000000000000004,
           1.0000000000000002,
           1.0000000000000002,
           1,
           1.0000000000000002,
           1.0000000000000002,
           1.0000000000000002,
           1.0000000000000002,
           1.0000000000000002,
           1,
           1,
           1.0000000000000002,
           1.0000000000000002
          ],
          [
           1.0000000000000002,
           1.0000000000000002,
           1.0000000000000002,
           1,
           1,
           1.0000000000000002,
           1.0000000000000002,
           1,
           1,
           1,
           1,
           1,
           1,
           1.0000000000000002,
           1,
           1,
           1.0000000000000002,
           1,
           1,
           1.0000000000000002,
           1.0000000000000002,
           1.0000000000000002,
           1,
           1,
           1.0000000000000002,
           1.0000000000000002,
           1.0000000000000002,
           1,
           1.0000000000000002,
           1,
           1,
           1,
           1,
           1,
           1.0000000000000002,
           0.9999999999999998,
           1,
           1,
           1,
           1.0000000000000002,
           1,
           1,
           1,
           1,
           1,
           1,
           1,
           1.0000000000000002,
           1,
           1.0000000000000002,
           1.0000000000000002,
           1.0000000000000002
          ],
          [
           1,
           0.9999999999999999,
           1,
           1,
           0.9999999999999998,
           1,
           1,
           0.9999999999999999,
           1,
           1,
           1.0000000000000002,
           1,
           1,
           1.0000000000000002,
           1.0000000000000002,
           1.0000000000000002,
           1.0000000000000002,
           1.0000000000000002,
           1,
           1,
           1.0000000000000002,
           1.0000000000000002,
           1.0000000000000002,
           1,
           1,
           1,
           1.0000000000000002,
           1.0000000000000002,
           1.0000000000000002,
           1,
           1,
           1.0000000000000002,
           1.0000000000000002,
           1.0000000000000002,
           1.0000000000000002,
           1,
           1,
           0.9999999999999999,
           1.0000000000000002,
           1.0000000000000002,
           1,
           1.0000000000000002,
           1,
           1,
           1.0000000000000002,
           1.0000000000000002,
           1,
           1,
           1,
           1.0000000000000002,
           1.0000000000000002,
           1.0000000000000002
          ],
          [
           1,
           1,
           1,
           1,
           1.0000000000000002,
           1.0000000000000002,
           1.0000000000000002,
           1.0000000000000002,
           1,
           1.0000000000000002,
           1.0000000000000002,
           1.0000000000000002,
           1.0000000000000002,
           1,
           0.9999999999999999,
           0.9999999999999998,
           1,
           1,
           0.9999999999999999,
           0.9999999999999999,
           0.9999999999999999,
           0.9999999999999999,
           1,
           0.9999999999999998,
           0.9999999999999998,
           0.9999999999999999,
           1,
           1,
           0.9999999999999998,
           1,
           1,
           0.9999999999999999,
           0.9999999999999999,
           0.9999999999999998,
           1,
           0.9999999999999998,
           0.9999999999999998,
           0.9999999999999999,
           0.9999999999999998,
           0.9999999999999998,
           0.9999999999999999,
           0.9999999999999999,
           0.9999999999999999,
           0.9999999999999998,
           0.9999999999999998,
           0.9999999999999999,
           1,
           0.9999999999999998,
           0.9999999999999999,
           1,
           0.9999999999999999,
           0.9999999999999998
          ],
          [
           1.0000000000000002,
           1.0000000000000002,
           1,
           0.9999999999999998,
           1,
           1,
           1.0000000000000002,
           1,
           1,
           1.0000000000000002,
           1,
           1,
           1.0000000000000002,
           0.9999999999999999,
           1,
           0.9999999999999999,
           1,
           0.9999999999999998,
           0.9999999999999998,
           1,
           1,
           0.9999999999999998,
           0.9999999999999998,
           0.9999999999999998,
           1,
           0.9999999999999999,
           1,
           1,
           1,
           0.9999999999999998,
           0.9999999999999998,
           0.9999999999999999,
           0.9999999999999998,
           0.9999999999999999,
           1,
           0.9999999999999999,
           1,
           0.9999999999999998,
           0.9999999999999999,
           1,
           0.9999999999999998,
           1,
           0.9999999999999998,
           0.9999999999999998,
           1,
           0.9999999999999999,
           0.9999999999999999,
           1,
           0.9999999999999999,
           1,
           0.9999999999999999,
           1
          ],
          [
           1,
           1,
           1,
           1,
           1,
           1,
           1.0000000000000002,
           1,
           1,
           1,
           1.0000000000000002,
           1,
           1.0000000000000002,
           0.9999999999999998,
           0.9999999999999999,
           1,
           1.0000000000000002,
           1,
           1,
           1,
           1,
           1,
           1,
           1,
           1,
           1,
           1.0000000000000002,
           1.0000000000000002,
           1.0000000000000002,
           1.0000000000000002,
           0.9999999999999999,
           1,
           1,
           1,
           1.0000000000000002,
           0.9999999999999999,
           0.9999999999999999,
           0.9999999999999998,
           1,
           1.0000000000000002,
           1,
           1,
           0.9999999999999999,
           1,
           1,
           1,
           1,
           1,
           0.9999999999999998,
           1,
           1,
           1
          ],
          [
           1.0000000000000002,
           1.0000000000000002,
           1,
           1,
           1,
           1.0000000000000002,
           1.0000000000000002,
           1,
           1.0000000000000002,
           1,
           1.0000000000000002,
           1.0000000000000002,
           1.0000000000000002,
           1,
           1,
           1.0000000000000002,
           1,
           0.9999999999999999,
           0.9999999999999999,
           1,
           1,
           1,
           0.9999999999999999,
           0.9999999999999997,
           0.9999999999999997,
           0.9999999999999999,
           1,
           1,
           1,
           0.9999999999999999,
           0.9999999999999999,
           0.9999999999999998,
           0.9999999999999999,
           1,
           1,
           0.9999999999999996,
           0.9999999999999999,
           0.9999999999999998,
           1,
           1,
           0.9999999999999997,
           1,
           0.9999999999999999,
           1,
           0.9999999999999999,
           0.9999999999999998,
           1,
           1,
           0.9999999999999998,
           1,
           0.9999999999999998,
           0.9999999999999998
          ],
          [
           1,
           1,
           1,
           1,
           1,
           1,
           1,
           1,
           1,
           1,
           1.0000000000000002,
           1,
           1.0000000000000002,
           1,
           0.9999999999999998,
           1,
           0.9999999999999999,
           1,
           1,
           1.0000000000000002,
           1,
           1,
           1,
           1,
           1,
           1,
           1.0000000000000002,
           1,
           1.0000000000000002,
           1,
           1,
           1,
           1,
           1.0000000000000002,
           1.0000000000000002,
           1,
           0.9999999999999999,
           1,
           1,
           1.0000000000000002,
           1,
           1,
           1,
           1.0000000000000002,
           1,
           1,
           1,
           1,
           1,
           1.0000000000000002,
           1,
           1
          ],
          [
           1,
           1,
           1,
           1,
           1,
           1,
           1,
           1,
           1,
           1,
           1.0000000000000002,
           1,
           1,
           0.9999999999999999,
           0.9999999999999998,
           1,
           0.9999999999999999,
           1,
           1,
           1,
           1,
           1.0000000000000002,
           1.0000000000000002,
           1,
           0.9999999999999998,
           1,
           1,
           1.0000000000000002,
           1,
           1,
           1,
           1,
           1,
           1,
           1,
           1,
           0.9999999999999998,
           0.9999999999999999,
           0.9999999999999998,
           1.0000000000000002,
           1,
           1,
           1,
           1,
           1,
           0.9999999999999999,
           1,
           1,
           1,
           1,
           1,
           1
          ],
          [
           1.0000000000000002,
           1,
           1.0000000000000002,
           1,
           1,
           1.0000000000000002,
           1.0000000000000002,
           1,
           1,
           1,
           1.0000000000000002,
           1.0000000000000002,
           1,
           0.9999999999999999,
           1,
           1,
           1,
           1.0000000000000002,
           1,
           1,
           0.9999999999999998,
           1,
           0.9999999999999999,
           0.9999999999999998,
           0.9999999999999998,
           1,
           1,
           1,
           1,
           1,
           1,
           1,
           1,
           0.9999999999999999,
           1,
           0.9999999999999999,
           0.9999999999999998,
           0.9999999999999998,
           0.9999999999999999,
           1,
           0.9999999999999998,
           0.9999999999999999,
           0.9999999999999998,
           0.9999999999999998,
           1,
           0.9999999999999999,
           1,
           1,
           0.9999999999999999,
           1,
           0.9999999999999999,
           0.9999999999999999
          ],
          [
           1,
           1.0000000000000002,
           1.0000000000000002,
           1.0000000000000002,
           1.0000000000000002,
           1.0000000000000002,
           1.0000000000000002,
           1,
           1,
           1,
           1.0000000000000002,
           1.0000000000000002,
           1.0000000000000002,
           0.9999999999999999,
           1,
           1,
           1,
           1,
           1,
           0.9999999999999998,
           1,
           1,
           1,
           0.9999999999999998,
           1,
           0.9999999999999999,
           1.0000000000000002,
           1,
           1,
           0.9999999999999998,
           0.9999999999999998,
           1,
           1,
           1,
           1,
           0.9999999999999999,
           0.9999999999999998,
           0.9999999999999998,
           0.9999999999999999,
           1.0000000000000002,
           1,
           1,
           0.9999999999999998,
           0.9999999999999998,
           1,
           0.9999999999999999,
           1,
           1,
           0.9999999999999999,
           1,
           1,
           0.9999999999999999
          ],
          [
           1,
           1,
           1.0000000000000002,
           1,
           1,
           1,
           1.0000000000000002,
           1,
           1,
           1.0000000000000002,
           1.0000000000000002,
           1.0000000000000002,
           1.0000000000000002,
           0.9999999999999999,
           0.9999999999999998,
           1,
           1,
           1,
           1.0000000000000002,
           1,
           1,
           1,
           1,
           1,
           0.9999999999999998,
           0.9999999999999999,
           1,
           1,
           1,
           1,
           0.9999999999999998,
           1,
           0.9999999999999998,
           0.9999999999999999,
           0.9999999999999998,
           0.9999999999999997,
           0.9999999999999998,
           0.9999999999999999,
           0.9999999999999999,
           1.0000000000000002,
           1,
           1,
           0.9999999999999998,
           1,
           1,
           0.9999999999999999,
           0.9999999999999999,
           1,
           0.9999999999999999,
           1,
           1,
           0.9999999999999999
          ],
          [
           1,
           1,
           1.0000000000000002,
           1,
           1.0000000000000002,
           1.0000000000000002,
           1.0000000000000002,
           0.9999999999999999,
           1.0000000000000002,
           1.0000000000000002,
           1.0000000000000002,
           1,
           1.0000000000000002,
           1,
           0.9999999999999998,
           1,
           0.9999999999999999,
           1,
           1.0000000000000002,
           0.9999999999999999,
           1,
           1,
           1,
           1,
           1,
           1,
           1.0000000000000002,
           1.0000000000000002,
           1.0000000000000002,
           1,
           1,
           1,
           1,
           1,
           1,
           1,
           0.9999999999999999,
           1,
           1,
           1.0000000000000002,
           1,
           1,
           1,
           1.0000000000000002,
           1,
           1,
           1.0000000000000002,
           1.0000000000000002,
           1,
           1,
           1,
           1
          ],
          [
           0.9999999999999998,
           0.9999999999999999,
           1,
           0.9999999999999998,
           1,
           1,
           1.0000000000000002,
           0.9999999999999999,
           1,
           1,
           1.0000000000000002,
           1,
           1,
           0.9999999999999998,
           0.9999999999999998,
           1,
           0.9999999999999997,
           1,
           1,
           0.9999999999999998,
           0.9999999999999998,
           1,
           1,
           1,
           1,
           1.0000000000000002,
           1.0000000000000002,
           1.0000000000000002,
           1.0000000000000002,
           1,
           1.0000000000000002,
           1.0000000000000002,
           1,
           1,
           1,
           1,
           1.0000000000000002,
           1,
           1,
           1.0000000000000002,
           1,
           1.0000000000000002,
           1.0000000000000002,
           1.0000000000000002,
           1,
           1.0000000000000002,
           1.0000000000000002,
           1.0000000000000002,
           1,
           1.0000000000000002,
           1.0000000000000002,
           1.0000000000000002
          ],
          [
           1,
           1,
           1,
           1,
           1,
           1,
           1.0000000000000002,
           1,
           0.9999999999999998,
           1,
           1.0000000000000002,
           1.0000000000000002,
           1,
           0.9999999999999998,
           1,
           1,
           0.9999999999999997,
           1,
           0.9999999999999998,
           0.9999999999999998,
           1,
           0.9999999999999998,
           1,
           1,
           1,
           1,
           1,
           0.9999999999999999,
           1,
           1,
           0.9999999999999998,
           1,
           1,
           0.9999999999999999,
           1,
           0.9999999999999997,
           0.9999999999999998,
           0.9999999999999999,
           1,
           1,
           0.9999999999999998,
           1,
           0.9999999999999998,
           1,
           1,
           0.9999999999999999,
           1,
           1,
           1,
           1,
           1,
           0.9999999999999999
          ],
          [
           1,
           1,
           1.0000000000000002,
           1,
           1,
           1.0000000000000002,
           1.0000000000000002,
           1,
           1,
           1,
           1.0000000000000002,
           1.0000000000000002,
           1,
           0.9999999999999999,
           0.9999999999999999,
           1,
           0.9999999999999999,
           1,
           1,
           1,
           0.9999999999999999,
           0.9999999999999999,
           1,
           1.0000000000000002,
           1,
           1,
           1.0000000000000002,
           1,
           1,
           1.0000000000000002,
           1,
           1,
           1,
           1,
           1.0000000000000002,
           0.9999999999999999,
           1,
           0.9999999999999999,
           1,
           1.0000000000000002,
           0.9999999999999999,
           1.0000000000000002,
           1,
           1,
           1.0000000000000002,
           1,
           1,
           1,
           1,
           1,
           1.0000000000000002,
           1
          ],
          [
           1.0000000000000002,
           1.0000000000000002,
           1.0000000000000002,
           1,
           1,
           1.0000000000000002,
           1.0000000000000002,
           1,
           1,
           1.0000000000000002,
           1.0000000000000002,
           1.0000000000000002,
           1.0000000000000002,
           1,
           1,
           1.0000000000000002,
           1,
           1.0000000000000002,
           1,
           1,
           1.0000000000000002,
           1,
           1.0000000000000002,
           1.0000000000000002,
           1,
           1.0000000000000002,
           1,
           1,
           1,
           1,
           1,
           1,
           1,
           1,
           1,
           0.9999999999999999,
           1,
           1,
           0.9999999999999999,
           1,
           0.9999999999999998,
           1,
           1,
           1,
           1,
           1,
           0.9999999999999999,
           1,
           1,
           1,
           1,
           1
          ],
          [
           1,
           1,
           1.0000000000000002,
           1.0000000000000002,
           1.0000000000000002,
           1.0000000000000002,
           1.0000000000000002,
           1,
           1.0000000000000002,
           1.0000000000000002,
           1.0000000000000002,
           1,
           1.0000000000000002,
           1,
           1,
           1.0000000000000002,
           1,
           1,
           1.0000000000000002,
           1,
           1,
           1,
           1.0000000000000002,
           1.0000000000000002,
           0.9999999999999999,
           1,
           1,
           1,
           0.9999999999999998,
           1,
           0.9999999999999999,
           0.9999999999999998,
           0.9999999999999998,
           0.9999999999999998,
           0.9999999999999999,
           0.9999999999999998,
           0.9999999999999998,
           0.9999999999999999,
           1,
           1,
           0.9999999999999999,
           1,
           0.9999999999999999,
           0.9999999999999999,
           0.9999999999999998,
           0.9999999999999999,
           0.9999999999999998,
           0.9999999999999998,
           0.9999999999999999,
           0.9999999999999998,
           0.9999999999999998,
           0.9999999999999998
          ],
          [
           1.0000000000000002,
           1,
           1.0000000000000002,
           1.0000000000000002,
           1.0000000000000002,
           1.0000000000000002,
           1.0000000000000002,
           1,
           1.0000000000000002,
           1,
           1.0000000000000002,
           1.0000000000000002,
           1.0000000000000002,
           0.9999999999999998,
           1,
           1.0000000000000002,
           1,
           1.0000000000000002,
           1,
           1,
           1,
           1,
           1.0000000000000002,
           1.0000000000000002,
           1,
           1,
           1,
           0.9999999999999998,
           1,
           1,
           0.9999999999999999,
           1,
           1,
           0.9999999999999999,
           1,
           0.9999999999999999,
           0.9999999999999999,
           0.9999999999999998,
           1,
           1,
           0.9999999999999999,
           1,
           1,
           1.0000000000000002,
           1,
           0.9999999999999998,
           1,
           1,
           1,
           1,
           1,
           1
          ],
          [
           1,
           1.0000000000000002,
           1.0000000000000002,
           1,
           1.0000000000000002,
           1.0000000000000002,
           1.0000000000000002,
           0.9999999999999999,
           1,
           1.0000000000000002,
           1.0000000000000002,
           1,
           1,
           1,
           0.9999999999999998,
           1.0000000000000002,
           0.9999999999999999,
           1,
           1,
           1,
           0.9999999999999998,
           1,
           1,
           1,
           1,
           1.0000000000000002,
           1,
           1,
           1,
           1,
           1,
           1.0000000000000002,
           1.0000000000000002,
           1,
           1.0000000000000002,
           1,
           1,
           0.9999999999999999,
           1,
           1.0000000000000002,
           1,
           1,
           1,
           1,
           1,
           1,
           1,
           1,
           1,
           1.0000000000000002,
           1,
           1.0000000000000002
          ],
          [
           1,
           0.9999999999999999,
           1.0000000000000002,
           1,
           1,
           1,
           1,
           0.9999999999999999,
           1,
           1,
           1.0000000000000002,
           1,
           1,
           1,
           0.9999999999999998,
           0.9999999999999999,
           0.9999999999999999,
           1,
           1,
           1,
           0.9999999999999998,
           0.9999999999999998,
           1,
           1.0000000000000002,
           0.9999999999999998,
           1,
           1,
           0.9999999999999999,
           0.9999999999999999,
           1,
           1,
           1,
           0.9999999999999998,
           1,
           1.0000000000000002,
           0.9999999999999999,
           0.9999999999999999,
           0.9999999999999998,
           1,
           1,
           1,
           1,
           1,
           0.9999999999999999,
           1,
           1,
           1.0000000000000002,
           1,
           1,
           1,
           1,
           1
          ],
          [
           1,
           1,
           1,
           1,
           1,
           1.0000000000000002,
           1.0000000000000002,
           1.0000000000000002,
           1,
           1,
           1.0000000000000002,
           1,
           1.0000000000000002,
           0.9999999999999999,
           0.9999999999999999,
           1,
           0.9999999999999998,
           1,
           1,
           1,
           1,
           1,
           1,
           1.0000000000000002,
           1,
           1,
           1,
           0.9999999999999998,
           1,
           1.0000000000000002,
           1,
           1,
           1,
           1,
           1.0000000000000002,
           1,
           0.9999999999999999,
           0.9999999999999999,
           1,
           1.0000000000000002,
           0.9999999999999999,
           1,
           1,
           1.0000000000000002,
           1,
           1,
           1,
           1,
           1,
           1.0000000000000002,
           1,
           1
          ],
          [
           1,
           0.9999999999999999,
           1,
           1,
           1,
           1,
           1,
           1,
           0.9999999999999998,
           1,
           1,
           1,
           1.0000000000000002,
           0.9999999999999999,
           0.9999999999999998,
           1,
           0.9999999999999999,
           1,
           1,
           1,
           1,
           0.9999999999999998,
           1,
           1,
           1,
           1,
           1,
           0.9999999999999998,
           1,
           1.0000000000000002,
           0.9999999999999998,
           1,
           1,
           0.9999999999999999,
           1,
           1,
           1,
           0.9999999999999999,
           0.9999999999999999,
           1.0000000000000002,
           1,
           1,
           1,
           1,
           1,
           1,
           1,
           1.0000000000000002,
           0.9999999999999999,
           1,
           1,
           1
          ],
          [
           1,
           1,
           1.0000000000000002,
           1,
           1,
           1.0000000000000002,
           1.0000000000000002,
           1,
           0.9999999999999999,
           1.0000000000000002,
           1.0000000000000002,
           1,
           1.0000000000000002,
           0.9999999999999998,
           0.9999999999999999,
           1,
           1,
           1.0000000000000002,
           1,
           0.9999999999999999,
           1,
           0.9999999999999999,
           1,
           1,
           0.9999999999999999,
           1,
           1,
           0.9999999999999998,
           0.9999999999999999,
           1,
           1,
           1,
           0.9999999999999999,
           1,
           1,
           1,
           1,
           0.9999999999999998,
           1,
           1.0000000000000002,
           0.9999999999999999,
           1,
           1,
           1,
           1,
           1,
           1.0000000000000002,
           1,
           1,
           1,
           1,
           1
          ],
          [
           1,
           1.0000000000000002,
           1.0000000000000002,
           1,
           1.0000000000000002,
           1,
           1.0000000000000002,
           1,
           1,
           1.0000000000000002,
           1.0000000000000002,
           1.0000000000000002,
           1.0000000000000002,
           1,
           1,
           1.0000000000000002,
           1,
           1.0000000000000002,
           1,
           1,
           1,
           0.9999999999999998,
           1,
           1,
           1,
           1.0000000000000002,
           1,
           0.9999999999999999,
           1,
           1.0000000000000002,
           1.0000000000000002,
           1.0000000000000002,
           1,
           1,
           1,
           0.9999999999999998,
           1,
           0.9999999999999998,
           0.9999999999999999,
           1,
           0.9999999999999998,
           0.9999999999999998,
           0.9999999999999999,
           1,
           0.9999999999999999,
           0.9999999999999998,
           0.9999999999999999,
           1,
           0.9999999999999998,
           1,
           1,
           0.9999999999999999
          ],
          [
           1,
           0.9999999999999998,
           0.9999999999999998,
           0.9999999999999999,
           0.9999999999999998,
           1,
           1,
           0.9999999999999998,
           0.9999999999999999,
           1,
           1.0000000000000002,
           0.9999999999999998,
           1,
           0.9999999999999998,
           0.9999999999999999,
           0.9999999999999999,
           0.9999999999999996,
           1,
           1,
           0.9999999999999999,
           0.9999999999999999,
           0.9999999999999997,
           1,
           1,
           0.9999999999999997,
           0.9999999999999999,
           0.9999999999999999,
           0.9999999999999998,
           0.9999999999999999,
           1,
           0.9999999999999999,
           1,
           1,
           1,
           0.9999999999999998,
           1,
           1.0000000000000002,
           1,
           1.0000000000000002,
           1.0000000000000002,
           1.0000000000000002,
           1.0000000000000002,
           1.0000000000000002,
           1.0000000000000002,
           1.0000000000000002,
           1,
           1.0000000000000002,
           1.0000000000000002,
           1.0000000000000002,
           1.0000000000000002,
           1.0000000000000002,
           1.0000000000000002
          ],
          [
           0.9999999999999998,
           0.9999999999999999,
           1.0000000000000002,
           1,
           1,
           1,
           1,
           1,
           0.9999999999999999,
           1,
           1,
           1,
           1,
           0.9999999999999998,
           1,
           0.9999999999999999,
           0.9999999999999999,
           0.9999999999999999,
           0.9999999999999998,
           0.9999999999999998,
           0.9999999999999998,
           0.9999999999999998,
           0.9999999999999999,
           1.0000000000000002,
           0.9999999999999998,
           1,
           1,
           0.9999999999999998,
           0.9999999999999999,
           1,
           0.9999999999999999,
           0.9999999999999999,
           1,
           1,
           1,
           1.0000000000000002,
           1,
           1,
           1,
           1.0000000000000002,
           1.0000000000000002,
           1.0000000000000002,
           1.0000000000000002,
           1,
           1,
           1,
           1.0000000000000002,
           1.0000000000000002,
           1,
           1.0000000000000002,
           1,
           1.0000000000000002
          ],
          [
           1,
           0.9999999999999999,
           1,
           0.9999999999999999,
           1,
           1,
           0.9999999999999999,
           0.9999999999999998,
           0.9999999999999998,
           1,
           1,
           1,
           0.9999999999999999,
           0.9999999999999999,
           0.9999999999999998,
           0.9999999999999998,
           0.9999999999999998,
           1,
           0.9999999999999999,
           0.9999999999999998,
           0.9999999999999998,
           0.9999999999999999,
           1,
           1,
           0.9999999999999999,
           0.9999999999999999,
           1,
           0.9999999999999999,
           0.9999999999999998,
           0.9999999999999999,
           0.9999999999999998,
           0.9999999999999999,
           0.9999999999999999,
           0.9999999999999998,
           0.9999999999999998,
           1,
           1,
           1,
           1,
           1.0000000000000002,
           1.0000000000000002,
           1.0000000000000002,
           1,
           1.0000000000000002,
           1,
           1,
           1.0000000000000002,
           1.0000000000000002,
           1.0000000000000002,
           1.0000000000000002,
           1.0000000000000002,
           1
          ],
          [
           1.0000000000000002,
           1,
           1,
           0.9999999999999999,
           1,
           1,
           1.0000000000000002,
           1,
           1,
           1,
           1.0000000000000002,
           1,
           1.0000000000000002,
           0.9999999999999998,
           0.9999999999999999,
           1,
           1,
           1,
           0.9999999999999998,
           0.9999999999999999,
           0.9999999999999999,
           0.9999999999999999,
           1,
           1,
           1,
           1,
           0.9999999999999999,
           1,
           1,
           1,
           1,
           1,
           0.9999999999999999,
           1,
           0.9999999999999999,
           1.0000000000000002,
           1,
           1,
           1,
           1.0000000000000002,
           0.9999999999999999,
           1,
           0.9999999999999999,
           1,
           1,
           1,
           1.0000000000000002,
           1,
           0.9999999999999998,
           1,
           1,
           1
          ],
          [
           1.0000000000000002,
           1.0000000000000002,
           1.0000000000000002,
           1,
           1.0000000000000002,
           1.0000000000000002,
           1.0000000000000002,
           1,
           1,
           1.0000000000000002,
           1.0000000000000004,
           1.0000000000000002,
           1.0000000000000002,
           0.9999999999999998,
           1,
           1.0000000000000002,
           1,
           1.0000000000000002,
           1.0000000000000002,
           1,
           1.0000000000000002,
           1.0000000000000002,
           1.0000000000000002,
           1.0000000000000002,
           1,
           1.0000000000000002,
           1,
           1,
           1,
           1.0000000000000002,
           1,
           1.0000000000000002,
           1.0000000000000002,
           1.0000000000000002,
           1,
           1.0000000000000002,
           1.0000000000000002,
           1.0000000000000002,
           1.0000000000000002,
           1,
           0.9999999999999999,
           1,
           0.9999999999999999,
           1,
           1,
           0.9999999999999998,
           0.9999999999999999,
           0.9999999999999999,
           0.9999999999999998,
           1,
           1,
           0.9999999999999998
          ],
          [
           1,
           1,
           1,
           1,
           1,
           1,
           1,
           0.9999999999999999,
           1,
           1,
           1.0000000000000002,
           1,
           1,
           0.9999999999999999,
           0.9999999999999998,
           1,
           0.9999999999999997,
           1,
           1,
           0.9999999999999998,
           1,
           1,
           1,
           1,
           0.9999999999999998,
           0.9999999999999999,
           0.9999999999999998,
           0.9999999999999999,
           0.9999999999999999,
           1,
           1,
           0.9999999999999999,
           1,
           0.9999999999999999,
           0.9999999999999998,
           1.0000000000000002,
           1.0000000000000002,
           1.0000000000000002,
           0.9999999999999999,
           0.9999999999999999,
           1,
           1,
           0.9999999999999998,
           1,
           0.9999999999999999,
           1,
           1,
           1,
           1,
           1,
           1,
           0.9999999999999999
          ],
          [
           1,
           1,
           1.0000000000000002,
           1.0000000000000002,
           1,
           1.0000000000000002,
           1.0000000000000002,
           1,
           1,
           1,
           1.0000000000000002,
           1,
           1.0000000000000002,
           0.9999999999999999,
           1,
           1,
           1,
           1,
           1,
           0.9999999999999999,
           1,
           1,
           1,
           1.0000000000000002,
           1,
           1.0000000000000002,
           1,
           1,
           1,
           1,
           1,
           1,
           1,
           1,
           0.9999999999999998,
           1.0000000000000002,
           1.0000000000000002,
           1.0000000000000002,
           1,
           1,
           1,
           1,
           1.0000000000000002,
           1.0000000000000002,
           1,
           1,
           1.0000000000000002,
           1,
           1,
           1,
           1,
           1
          ],
          [
           1,
           1,
           1.0000000000000002,
           1,
           1,
           1,
           1.0000000000000002,
           1,
           0.9999999999999999,
           1,
           1,
           1,
           1,
           0.9999999999999999,
           0.9999999999999998,
           0.9999999999999999,
           0.9999999999999999,
           1,
           1,
           0.9999999999999998,
           0.9999999999999998,
           0.9999999999999998,
           1,
           1.0000000000000002,
           0.9999999999999998,
           1,
           1,
           0.9999999999999999,
           1,
           1,
           1,
           1,
           1,
           1,
           0.9999999999999999,
           1.0000000000000002,
           1.0000000000000002,
           1,
           0.9999999999999999,
           0.9999999999999999,
           0.9999999999999998,
           1.0000000000000002,
           1,
           1,
           1,
           1,
           0.9999999999999999,
           1,
           0.9999999999999999,
           1,
           1,
           1
          ],
          [
           1,
           1.0000000000000002,
           1.0000000000000002,
           1,
           1.0000000000000002,
           1.0000000000000002,
           1.0000000000000002,
           1,
           1.0000000000000002,
           1.0000000000000002,
           1.0000000000000002,
           1,
           1,
           0.9999999999999998,
           0.9999999999999998,
           1,
           1,
           1.0000000000000002,
           1,
           0.9999999999999998,
           0.9999999999999998,
           1,
           1.0000000000000002,
           1.0000000000000002,
           1,
           1,
           1,
           0.9999999999999999,
           1.0000000000000002,
           1,
           0.9999999999999999,
           1.0000000000000002,
           1,
           1,
           1,
           1.0000000000000002,
           1,
           1.0000000000000002,
           1,
           1,
           1,
           1.0000000000000002,
           1,
           1,
           1,
           1,
           1,
           1.0000000000000002,
           1,
           1,
           1.0000000000000002,
           1
          ],
          [
           1,
           1,
           1,
           1,
           1,
           1,
           1.0000000000000002,
           1,
           0.9999999999999999,
           1,
           1.0000000000000002,
           1,
           1.0000000000000002,
           0.9999999999999998,
           1,
           1,
           0.9999999999999999,
           1,
           1,
           1,
           1,
           1,
           1,
           1,
           1,
           1.0000000000000002,
           1,
           0.9999999999999998,
           1,
           1,
           1,
           1,
           1,
           1,
           0.9999999999999999,
           1.0000000000000002,
           1,
           1,
           1,
           1,
           0.9999999999999999,
           1,
           1,
           1,
           1,
           1,
           1,
           1,
           1,
           1,
           1,
           1
          ],
          [
           1,
           0.9999999999999999,
           1,
           1,
           1,
           1,
           1.0000000000000002,
           1,
           1,
           1,
           1.0000000000000002,
           1,
           1.0000000000000002,
           0.9999999999999999,
           0.9999999999999999,
           1,
           0.9999999999999998,
           1,
           0.9999999999999999,
           0.9999999999999999,
           0.9999999999999999,
           0.9999999999999999,
           1,
           1.0000000000000002,
           0.9999999999999999,
           1,
           1,
           0.9999999999999999,
           0.9999999999999998,
           1,
           1,
           1,
           1,
           1,
           0.9999999999999998,
           1,
           1,
           1,
           1,
           0.9999999999999998,
           1,
           1,
           1,
           1,
           1,
           1,
           1,
           1,
           1,
           1.0000000000000002,
           1,
           1
          ],
          [
           1,
           1,
           1,
           1,
           1.0000000000000002,
           1.0000000000000002,
           1.0000000000000002,
           1.0000000000000002,
           1,
           1.0000000000000002,
           1.0000000000000002,
           1,
           1,
           1,
           0.9999999999999999,
           1,
           1,
           1,
           1,
           1,
           1,
           0.9999999999999999,
           1.0000000000000002,
           1.0000000000000002,
           1,
           1,
           0.9999999999999999,
           0.9999999999999998,
           1,
           1,
           1.0000000000000002,
           1,
           1,
           1.0000000000000002,
           0.9999999999999999,
           1.0000000000000002,
           1.0000000000000002,
           1.0000000000000002,
           1.0000000000000002,
           0.9999999999999999,
           1,
           1.0000000000000002,
           0.9999999999999999,
           1,
           1,
           1,
           1,
           1,
           1,
           1.0000000000000002,
           1,
           1
          ],
          [
           1,
           1.0000000000000002,
           1.0000000000000002,
           1,
           1.0000000000000002,
           1,
           1.0000000000000002,
           1,
           1,
           1,
           1.0000000000000002,
           1.0000000000000002,
           1,
           0.9999999999999998,
           1,
           1,
           1,
           1,
           1,
           1,
           1,
           1,
           1.0000000000000002,
           1.0000000000000002,
           1,
           1,
           1,
           0.9999999999999998,
           1,
           1,
           1,
           1,
           1.0000000000000002,
           1,
           1,
           1.0000000000000002,
           1.0000000000000002,
           1.0000000000000002,
           1,
           0.9999999999999999,
           1,
           1,
           1,
           1.0000000000000002,
           1,
           1,
           1,
           1,
           1,
           1,
           1,
           0.9999999999999998
          ],
          [
           1,
           1,
           1,
           0.9999999999999999,
           1,
           1,
           1.0000000000000002,
           1,
           0.9999999999999998,
           1,
           1,
           1,
           1,
           0.9999999999999999,
           0.9999999999999999,
           0.9999999999999998,
           0.9999999999999998,
           1,
           1,
           0.9999999999999999,
           0.9999999999999999,
           0.9999999999999999,
           1,
           1,
           1,
           1,
           1,
           0.9999999999999999,
           1,
           1,
           1,
           1,
           0.9999999999999999,
           1,
           0.9999999999999998,
           1.0000000000000002,
           1,
           1.0000000000000002,
           0.9999999999999998,
           0.9999999999999998,
           1,
           1,
           0.9999999999999999,
           1,
           1,
           1,
           1,
           1,
           1,
           1,
           1,
           1
          ],
          [
           1.0000000000000002,
           1,
           1,
           1,
           1,
           1,
           1.0000000000000002,
           1.0000000000000002,
           1.0000000000000002,
           1.0000000000000002,
           1,
           1.0000000000000002,
           1.0000000000000002,
           1,
           1,
           1,
           1,
           1.0000000000000002,
           1,
           1,
           1,
           1,
           1,
           1.0000000000000002,
           1,
           1,
           1,
           0.9999999999999998,
           1,
           1.0000000000000002,
           1,
           1.0000000000000002,
           1,
           1,
           1,
           1.0000000000000002,
           1.0000000000000002,
           1.0000000000000002,
           1,
           1,
           1,
           1,
           1,
           1,
           1,
           1.0000000000000002,
           1.0000000000000002,
           1,
           1,
           1,
           1,
           1
          ],
          [
           1.0000000000000002,
           1,
           1,
           1,
           1.0000000000000002,
           1.0000000000000002,
           1.0000000000000002,
           1,
           1,
           1.0000000000000002,
           1.0000000000000002,
           1.0000000000000002,
           1.0000000000000002,
           0.9999999999999999,
           0.9999999999999999,
           1,
           0.9999999999999998,
           1,
           1,
           0.9999999999999999,
           1,
           1,
           1,
           1.0000000000000002,
           1,
           1.0000000000000002,
           1,
           0.9999999999999998,
           1,
           1,
           1,
           1,
           1,
           1,
           1,
           1.0000000000000002,
           1,
           1.0000000000000002,
           1,
           1,
           1,
           1,
           1,
           1.0000000000000002,
           1,
           1,
           1,
           1,
           1,
           1,
           1,
           1
          ],
          [
           1,
           1,
           1,
           1,
           1,
           1,
           1,
           1,
           1,
           1,
           1.0000000000000002,
           1.0000000000000002,
           1.0000000000000002,
           0.9999999999999998,
           1,
           1,
           0.9999999999999998,
           1,
           1,
           0.9999999999999999,
           0.9999999999999999,
           0.9999999999999999,
           1,
           1.0000000000000002,
           0.9999999999999999,
           1,
           1,
           0.9999999999999998,
           1,
           1.0000000000000002,
           1,
           1,
           1,
           1,
           0.9999999999999999,
           1.0000000000000002,
           1.0000000000000002,
           1,
           1,
           0.9999999999999998,
           0.9999999999999999,
           1,
           1,
           1,
           1,
           1,
           1,
           0.9999999999999998,
           1,
           1,
           1,
           1
          ]
         ]
        }
       ],
       "layout": {
        "coloraxis": {
         "colorscale": [
          [
           0,
           "#0d0887"
          ],
          [
           0.1111111111111111,
           "#46039f"
          ],
          [
           0.2222222222222222,
           "#7201a8"
          ],
          [
           0.3333333333333333,
           "#9c179e"
          ],
          [
           0.4444444444444444,
           "#bd3786"
          ],
          [
           0.5555555555555556,
           "#d8576b"
          ],
          [
           0.6666666666666666,
           "#ed7953"
          ],
          [
           0.7777777777777778,
           "#fb9f3a"
          ],
          [
           0.8888888888888888,
           "#fdca26"
          ],
          [
           1,
           "#f0f921"
          ]
         ]
        },
        "margin": {
         "t": 60
        },
        "template": {
         "data": {
          "bar": [
           {
            "error_x": {
             "color": "#2a3f5f"
            },
            "error_y": {
             "color": "#2a3f5f"
            },
            "marker": {
             "line": {
              "color": "#E5ECF6",
              "width": 0.5
             },
             "pattern": {
              "fillmode": "overlay",
              "size": 10,
              "solidity": 0.2
             }
            },
            "type": "bar"
           }
          ],
          "barpolar": [
           {
            "marker": {
             "line": {
              "color": "#E5ECF6",
              "width": 0.5
             },
             "pattern": {
              "fillmode": "overlay",
              "size": 10,
              "solidity": 0.2
             }
            },
            "type": "barpolar"
           }
          ],
          "carpet": [
           {
            "aaxis": {
             "endlinecolor": "#2a3f5f",
             "gridcolor": "white",
             "linecolor": "white",
             "minorgridcolor": "white",
             "startlinecolor": "#2a3f5f"
            },
            "baxis": {
             "endlinecolor": "#2a3f5f",
             "gridcolor": "white",
             "linecolor": "white",
             "minorgridcolor": "white",
             "startlinecolor": "#2a3f5f"
            },
            "type": "carpet"
           }
          ],
          "choropleth": [
           {
            "colorbar": {
             "outlinewidth": 0,
             "ticks": ""
            },
            "type": "choropleth"
           }
          ],
          "contour": [
           {
            "colorbar": {
             "outlinewidth": 0,
             "ticks": ""
            },
            "colorscale": [
             [
              0,
              "#0d0887"
             ],
             [
              0.1111111111111111,
              "#46039f"
             ],
             [
              0.2222222222222222,
              "#7201a8"
             ],
             [
              0.3333333333333333,
              "#9c179e"
             ],
             [
              0.4444444444444444,
              "#bd3786"
             ],
             [
              0.5555555555555556,
              "#d8576b"
             ],
             [
              0.6666666666666666,
              "#ed7953"
             ],
             [
              0.7777777777777778,
              "#fb9f3a"
             ],
             [
              0.8888888888888888,
              "#fdca26"
             ],
             [
              1,
              "#f0f921"
             ]
            ],
            "type": "contour"
           }
          ],
          "contourcarpet": [
           {
            "colorbar": {
             "outlinewidth": 0,
             "ticks": ""
            },
            "type": "contourcarpet"
           }
          ],
          "heatmap": [
           {
            "colorbar": {
             "outlinewidth": 0,
             "ticks": ""
            },
            "colorscale": [
             [
              0,
              "#0d0887"
             ],
             [
              0.1111111111111111,
              "#46039f"
             ],
             [
              0.2222222222222222,
              "#7201a8"
             ],
             [
              0.3333333333333333,
              "#9c179e"
             ],
             [
              0.4444444444444444,
              "#bd3786"
             ],
             [
              0.5555555555555556,
              "#d8576b"
             ],
             [
              0.6666666666666666,
              "#ed7953"
             ],
             [
              0.7777777777777778,
              "#fb9f3a"
             ],
             [
              0.8888888888888888,
              "#fdca26"
             ],
             [
              1,
              "#f0f921"
             ]
            ],
            "type": "heatmap"
           }
          ],
          "heatmapgl": [
           {
            "colorbar": {
             "outlinewidth": 0,
             "ticks": ""
            },
            "colorscale": [
             [
              0,
              "#0d0887"
             ],
             [
              0.1111111111111111,
              "#46039f"
             ],
             [
              0.2222222222222222,
              "#7201a8"
             ],
             [
              0.3333333333333333,
              "#9c179e"
             ],
             [
              0.4444444444444444,
              "#bd3786"
             ],
             [
              0.5555555555555556,
              "#d8576b"
             ],
             [
              0.6666666666666666,
              "#ed7953"
             ],
             [
              0.7777777777777778,
              "#fb9f3a"
             ],
             [
              0.8888888888888888,
              "#fdca26"
             ],
             [
              1,
              "#f0f921"
             ]
            ],
            "type": "heatmapgl"
           }
          ],
          "histogram": [
           {
            "marker": {
             "pattern": {
              "fillmode": "overlay",
              "size": 10,
              "solidity": 0.2
             }
            },
            "type": "histogram"
           }
          ],
          "histogram2d": [
           {
            "colorbar": {
             "outlinewidth": 0,
             "ticks": ""
            },
            "colorscale": [
             [
              0,
              "#0d0887"
             ],
             [
              0.1111111111111111,
              "#46039f"
             ],
             [
              0.2222222222222222,
              "#7201a8"
             ],
             [
              0.3333333333333333,
              "#9c179e"
             ],
             [
              0.4444444444444444,
              "#bd3786"
             ],
             [
              0.5555555555555556,
              "#d8576b"
             ],
             [
              0.6666666666666666,
              "#ed7953"
             ],
             [
              0.7777777777777778,
              "#fb9f3a"
             ],
             [
              0.8888888888888888,
              "#fdca26"
             ],
             [
              1,
              "#f0f921"
             ]
            ],
            "type": "histogram2d"
           }
          ],
          "histogram2dcontour": [
           {
            "colorbar": {
             "outlinewidth": 0,
             "ticks": ""
            },
            "colorscale": [
             [
              0,
              "#0d0887"
             ],
             [
              0.1111111111111111,
              "#46039f"
             ],
             [
              0.2222222222222222,
              "#7201a8"
             ],
             [
              0.3333333333333333,
              "#9c179e"
             ],
             [
              0.4444444444444444,
              "#bd3786"
             ],
             [
              0.5555555555555556,
              "#d8576b"
             ],
             [
              0.6666666666666666,
              "#ed7953"
             ],
             [
              0.7777777777777778,
              "#fb9f3a"
             ],
             [
              0.8888888888888888,
              "#fdca26"
             ],
             [
              1,
              "#f0f921"
             ]
            ],
            "type": "histogram2dcontour"
           }
          ],
          "mesh3d": [
           {
            "colorbar": {
             "outlinewidth": 0,
             "ticks": ""
            },
            "type": "mesh3d"
           }
          ],
          "parcoords": [
           {
            "line": {
             "colorbar": {
              "outlinewidth": 0,
              "ticks": ""
             }
            },
            "type": "parcoords"
           }
          ],
          "pie": [
           {
            "automargin": true,
            "type": "pie"
           }
          ],
          "scatter": [
           {
            "marker": {
             "colorbar": {
              "outlinewidth": 0,
              "ticks": ""
             }
            },
            "type": "scatter"
           }
          ],
          "scatter3d": [
           {
            "line": {
             "colorbar": {
              "outlinewidth": 0,
              "ticks": ""
             }
            },
            "marker": {
             "colorbar": {
              "outlinewidth": 0,
              "ticks": ""
             }
            },
            "type": "scatter3d"
           }
          ],
          "scattercarpet": [
           {
            "marker": {
             "colorbar": {
              "outlinewidth": 0,
              "ticks": ""
             }
            },
            "type": "scattercarpet"
           }
          ],
          "scattergeo": [
           {
            "marker": {
             "colorbar": {
              "outlinewidth": 0,
              "ticks": ""
             }
            },
            "type": "scattergeo"
           }
          ],
          "scattergl": [
           {
            "marker": {
             "colorbar": {
              "outlinewidth": 0,
              "ticks": ""
             }
            },
            "type": "scattergl"
           }
          ],
          "scattermapbox": [
           {
            "marker": {
             "colorbar": {
              "outlinewidth": 0,
              "ticks": ""
             }
            },
            "type": "scattermapbox"
           }
          ],
          "scatterpolar": [
           {
            "marker": {
             "colorbar": {
              "outlinewidth": 0,
              "ticks": ""
             }
            },
            "type": "scatterpolar"
           }
          ],
          "scatterpolargl": [
           {
            "marker": {
             "colorbar": {
              "outlinewidth": 0,
              "ticks": ""
             }
            },
            "type": "scatterpolargl"
           }
          ],
          "scatterternary": [
           {
            "marker": {
             "colorbar": {
              "outlinewidth": 0,
              "ticks": ""
             }
            },
            "type": "scatterternary"
           }
          ],
          "surface": [
           {
            "colorbar": {
             "outlinewidth": 0,
             "ticks": ""
            },
            "colorscale": [
             [
              0,
              "#0d0887"
             ],
             [
              0.1111111111111111,
              "#46039f"
             ],
             [
              0.2222222222222222,
              "#7201a8"
             ],
             [
              0.3333333333333333,
              "#9c179e"
             ],
             [
              0.4444444444444444,
              "#bd3786"
             ],
             [
              0.5555555555555556,
              "#d8576b"
             ],
             [
              0.6666666666666666,
              "#ed7953"
             ],
             [
              0.7777777777777778,
              "#fb9f3a"
             ],
             [
              0.8888888888888888,
              "#fdca26"
             ],
             [
              1,
              "#f0f921"
             ]
            ],
            "type": "surface"
           }
          ],
          "table": [
           {
            "cells": {
             "fill": {
              "color": "#EBF0F8"
             },
             "line": {
              "color": "white"
             }
            },
            "header": {
             "fill": {
              "color": "#C8D4E3"
             },
             "line": {
              "color": "white"
             }
            },
            "type": "table"
           }
          ]
         },
         "layout": {
          "annotationdefaults": {
           "arrowcolor": "#2a3f5f",
           "arrowhead": 0,
           "arrowwidth": 1
          },
          "autotypenumbers": "strict",
          "coloraxis": {
           "colorbar": {
            "outlinewidth": 0,
            "ticks": ""
           }
          },
          "colorscale": {
           "diverging": [
            [
             0,
             "#8e0152"
            ],
            [
             0.1,
             "#c51b7d"
            ],
            [
             0.2,
             "#de77ae"
            ],
            [
             0.3,
             "#f1b6da"
            ],
            [
             0.4,
             "#fde0ef"
            ],
            [
             0.5,
             "#f7f7f7"
            ],
            [
             0.6,
             "#e6f5d0"
            ],
            [
             0.7,
             "#b8e186"
            ],
            [
             0.8,
             "#7fbc41"
            ],
            [
             0.9,
             "#4d9221"
            ],
            [
             1,
             "#276419"
            ]
           ],
           "sequential": [
            [
             0,
             "#0d0887"
            ],
            [
             0.1111111111111111,
             "#46039f"
            ],
            [
             0.2222222222222222,
             "#7201a8"
            ],
            [
             0.3333333333333333,
             "#9c179e"
            ],
            [
             0.4444444444444444,
             "#bd3786"
            ],
            [
             0.5555555555555556,
             "#d8576b"
            ],
            [
             0.6666666666666666,
             "#ed7953"
            ],
            [
             0.7777777777777778,
             "#fb9f3a"
            ],
            [
             0.8888888888888888,
             "#fdca26"
            ],
            [
             1,
             "#f0f921"
            ]
           ],
           "sequentialminus": [
            [
             0,
             "#0d0887"
            ],
            [
             0.1111111111111111,
             "#46039f"
            ],
            [
             0.2222222222222222,
             "#7201a8"
            ],
            [
             0.3333333333333333,
             "#9c179e"
            ],
            [
             0.4444444444444444,
             "#bd3786"
            ],
            [
             0.5555555555555556,
             "#d8576b"
            ],
            [
             0.6666666666666666,
             "#ed7953"
            ],
            [
             0.7777777777777778,
             "#fb9f3a"
            ],
            [
             0.8888888888888888,
             "#fdca26"
            ],
            [
             1,
             "#f0f921"
            ]
           ]
          },
          "colorway": [
           "#636efa",
           "#EF553B",
           "#00cc96",
           "#ab63fa",
           "#FFA15A",
           "#19d3f3",
           "#FF6692",
           "#B6E880",
           "#FF97FF",
           "#FECB52"
          ],
          "font": {
           "color": "#2a3f5f"
          },
          "geo": {
           "bgcolor": "white",
           "lakecolor": "white",
           "landcolor": "#E5ECF6",
           "showlakes": true,
           "showland": true,
           "subunitcolor": "white"
          },
          "hoverlabel": {
           "align": "left"
          },
          "hovermode": "closest",
          "mapbox": {
           "style": "light"
          },
          "paper_bgcolor": "white",
          "plot_bgcolor": "#E5ECF6",
          "polar": {
           "angularaxis": {
            "gridcolor": "white",
            "linecolor": "white",
            "ticks": ""
           },
           "bgcolor": "#E5ECF6",
           "radialaxis": {
            "gridcolor": "white",
            "linecolor": "white",
            "ticks": ""
           }
          },
          "scene": {
           "xaxis": {
            "backgroundcolor": "#E5ECF6",
            "gridcolor": "white",
            "gridwidth": 2,
            "linecolor": "white",
            "showbackground": true,
            "ticks": "",
            "zerolinecolor": "white"
           },
           "yaxis": {
            "backgroundcolor": "#E5ECF6",
            "gridcolor": "white",
            "gridwidth": 2,
            "linecolor": "white",
            "showbackground": true,
            "ticks": "",
            "zerolinecolor": "white"
           },
           "zaxis": {
            "backgroundcolor": "#E5ECF6",
            "gridcolor": "white",
            "gridwidth": 2,
            "linecolor": "white",
            "showbackground": true,
            "ticks": "",
            "zerolinecolor": "white"
           }
          },
          "shapedefaults": {
           "line": {
            "color": "#2a3f5f"
           }
          },
          "ternary": {
           "aaxis": {
            "gridcolor": "white",
            "linecolor": "white",
            "ticks": ""
           },
           "baxis": {
            "gridcolor": "white",
            "linecolor": "white",
            "ticks": ""
           },
           "bgcolor": "#E5ECF6",
           "caxis": {
            "gridcolor": "white",
            "linecolor": "white",
            "ticks": ""
           }
          },
          "title": {
           "x": 0.05
          },
          "xaxis": {
           "automargin": true,
           "gridcolor": "white",
           "linecolor": "white",
           "ticks": "",
           "title": {
            "standoff": 15
           },
           "zerolinecolor": "white",
           "zerolinewidth": 2
          },
          "yaxis": {
           "automargin": true,
           "gridcolor": "white",
           "linecolor": "white",
           "ticks": "",
           "title": {
            "standoff": 15
           },
           "zerolinecolor": "white",
           "zerolinewidth": 2
          }
         }
        },
        "xaxis": {
         "anchor": "y",
         "constrain": "domain",
         "domain": [
          0,
          1
         ],
         "scaleanchor": "y",
         "title": {
          "text": "State"
         }
        },
        "yaxis": {
         "anchor": "x",
         "autorange": "reversed",
         "constrain": "domain",
         "domain": [
          0,
          1
         ],
         "title": {
          "text": "State"
         }
        }
       }
      },
      "text/html": [
       "<div>                            <div id=\"e0ac0d3e-3494-4ffa-962f-b8053e79a886\" class=\"plotly-graph-div\" style=\"height:525px; width:100%;\"></div>            <script type=\"text/javascript\">                require([\"plotly\"], function(Plotly) {                    window.PLOTLYENV=window.PLOTLYENV || {};                                    if (document.getElementById(\"e0ac0d3e-3494-4ffa-962f-b8053e79a886\")) {                    Plotly.newPlot(                        \"e0ac0d3e-3494-4ffa-962f-b8053e79a886\",                        [{\"coloraxis\":\"coloraxis\",\"name\":\"0\",\"x\":[\"AK\",\"AL\",\"AR\",\"AZ\",\"CA\",\"CO\",\"CT\",\"DC\",\"DE\",\"FL\",\"GA\",\"HI\",\"IA\",\"ID\",\"IL\",\"IN\",\"KS\",\"KY\",\"LA\",\"MA\",\"MD\",\"ME\",\"MI\",\"MN\",\"MO\",\"MS\",\"MT\",\"NC\",\"ND\",\"NE\",\"NH\",\"NJ\",\"NM\",\"NV\",\"NY\",\"OH\",\"OK\",\"OR\",\"PA\",\"PR\",\"RI\",\"SC\",\"SD\",\"TN\",\"TX\",\"UT\",\"VA\",\"VT\",\"WA\",\"WI\",\"WV\",\"WY\"],\"y\":[\"AK\",\"AL\",\"AR\",\"AZ\",\"CA\",\"CO\",\"CT\",\"DC\",\"DE\",\"FL\",\"GA\",\"HI\",\"IA\",\"ID\",\"IL\",\"IN\",\"KS\",\"KY\",\"LA\",\"MA\",\"MD\",\"ME\",\"MI\",\"MN\",\"MO\",\"MS\",\"MT\",\"NC\",\"ND\",\"NE\",\"NH\",\"NJ\",\"NM\",\"NV\",\"NY\",\"OH\",\"OK\",\"OR\",\"PA\",\"PR\",\"RI\",\"SC\",\"SD\",\"TN\",\"TX\",\"UT\",\"VA\",\"VT\",\"WA\",\"WI\",\"WV\",\"WY\"],\"z\":[[1.0,1.0000000000000002,0.9999999999999999,0.9999999999999998,1.0000000000000002,1.0,1.0,1.0,1.0,1.0,0.9999999999999999,1.0000000000000002,1.0,1.0,1.0000000000000002,1.0,1.0000000000000002,1.0,1.0,1.0000000000000002,1.0,1.0,1.0,0.9999999999999998,1.0,1.0,1.0000000000000002,1.0,1.0000000000000002,1.0,1.0,1.0,1.0,1.0,1.0,1.0,0.9999999999999998,1.0,1.0000000000000002,1.0000000000000002,1.0,1.0,1.0,1.0,1.0,1.0,1.0,1.0,1.0,1.0000000000000002,1.0000000000000002,1.0],[1.0000000000000002,1.0,0.9999999999999998,1.0,1.0,0.9999999999999999,1.0,1.0,1.0,1.0000000000000002,0.9999999999999998,1.0000000000000002,0.9999999999999999,1.0,1.0000000000000002,1.0,1.0000000000000002,1.0,1.0,1.0,1.0000000000000002,1.0,1.0,0.9999999999999999,1.0,1.0,1.0000000000000002,1.0,1.0,1.0000000000000002,0.9999999999999999,1.0,0.9999999999999999,1.0,1.0000000000000002,0.9999999999999998,0.9999999999999999,0.9999999999999999,1.0,1.0000000000000002,1.0,1.0,1.0,1.0000000000000002,1.0,0.9999999999999999,1.0,1.0000000000000002,1.0,1.0,1.0,1.0],[0.9999999999999999,0.9999999999999998,1.0,1.0,1.0,1.0,0.9999999999999999,1.0,1.0000000000000002,1.0000000000000002,1.0,1.0000000000000002,1.0,1.0,1.0,1.0,1.0,1.0,1.0,1.0000000000000002,1.0000000000000002,1.0000000000000002,1.0000000000000002,1.0,1.0,1.0000000000000002,1.0000000000000002,1.0000000000000002,1.0000000000000002,1.0000000000000002,1.0000000000000002,1.0,1.0,1.0000000000000002,1.0000000000000002,0.9999999999999998,1.0000000000000002,1.0,1.0,1.0000000000000002,1.0,1.0000000000000002,1.0000000000000002,1.0000000000000002,1.0,1.0,1.0,1.0000000000000002,1.0,1.0,1.0,1.0],[0.9999999999999998,1.0,1.0,1.0,1.0,1.0,1.0,1.0,1.0,1.0,0.9999999999999999,1.0,1.0,1.0,0.9999999999999998,1.0,1.0,1.0,1.0,1.0,1.0000000000000002,1.0,1.0,0.9999999999999998,1.0,1.0,1.0,1.0000000000000002,1.0000000000000002,1.0,1.0,1.0,1.0,1.0,1.0,0.9999999999999999,1.0,0.9999999999999999,0.9999999999999999,1.0,1.0,1.0000000000000002,1.0,1.0,1.0,1.0,1.0,1.0,0.9999999999999999,1.0,1.0,1.0],[1.0000000000000002,1.0,1.0,1.0,1.0,1.0,1.0,1.0,1.0,1.0000000000000002,0.9999999999999999,1.0,0.9999999999999998,1.0000000000000002,1.0,1.0,1.0,1.0,1.0,1.0,1.0000000000000002,1.0,1.0000000000000002,1.0,1.0,1.0,1.0,1.0000000000000002,1.0000000000000002,1.0000000000000002,1.0,1.0,1.0,1.0,1.0000000000000002,0.9999999999999998,1.0,1.0,1.0,1.0000000000000002,1.0,1.0,1.0,1.0000000000000002,1.0,1.0,1.0000000000000002,1.0000000000000002,1.0,1.0,1.0000000000000002,1.0],[1.0,0.9999999999999999,1.0,1.0,1.0,1.0,1.0,1.0,1.0,1.0000000000000002,1.0,1.0000000000000002,1.0,1.0000000000000002,1.0,1.0,1.0000000000000002,1.0,1.0,1.0000000000000002,1.0000000000000002,1.0,1.0000000000000002,1.0,1.0,1.0000000000000002,1.0000000000000002,1.0000000000000002,1.0000000000000002,1.0000000000000002,1.0,1.0000000000000002,1.0,1.0000000000000002,1.0,1.0,1.0,1.0,1.0,1.0000000000000002,1.0,1.0000000000000002,1.0,1.0000000000000002,1.0,1.0,1.0000000000000002,1.0,1.0,1.0,1.0000000000000002,1.0],[1.0,1.0,0.9999999999999999,1.0,1.0,1.0,1.0,1.0000000000000002,1.0,1.0000000000000002,1.0000000000000002,1.0000000000000002,1.0,1.0000000000000002,1.0000000000000002,1.0000000000000002,1.0000000000000002,1.0,1.0,1.0000000000000002,1.0000000000000002,1.0000000000000002,1.0000000000000002,1.0000000000000002,1.0000000000000002,1.0000000000000002,1.0000000000000002,1.0000000000000002,1.0000000000000002,1.0000000000000002,1.0,1.0000000000000002,1.0,1.0000000000000002,1.0000000000000002,1.0,1.0,0.9999999999999999,1.0000000000000002,1.0000000000000002,1.0,1.0000000000000002,1.0000000000000002,1.0000000000000002,1.0000000000000002,1.0000000000000002,1.0000000000000002,1.0000000000000002,1.0000000000000002,1.0000000000000002,1.0000000000000002,1.0],[1.0,1.0,1.0,1.0,1.0,1.0,1.0000000000000002,1.0,1.0,1.0,0.9999999999999998,1.0,0.9999999999999999,1.0000000000000002,1.0,1.0,1.0,1.0,1.0,1.0,1.0,1.0,0.9999999999999999,0.9999999999999999,1.0,1.0,1.0,1.0,1.0,0.9999999999999999,0.9999999999999999,1.0000000000000002,1.0,1.0,1.0,0.9999999999999998,1.0,0.9999999999999998,1.0,1.0,0.9999999999999999,1.0,1.0,1.0,1.0,1.0,1.0000000000000002,1.0,1.0,1.0000000000000002,1.0,1.0],[1.0,1.0,1.0000000000000002,1.0,1.0,1.0,1.0,1.0,1.0,1.0,0.9999999999999999,1.0,1.0,1.0,1.0,1.0,1.0000000000000002,1.0,1.0,1.0,1.0,1.0,1.0000000000000002,1.0,0.9999999999999998,1.0,1.0,1.0000000000000002,1.0000000000000002,1.0,1.0,1.0,0.9999999999999998,0.9999999999999999,1.0,0.9999999999999999,0.9999999999999999,0.9999999999999998,1.0,1.0,1.0,1.0,0.9999999999999999,1.0000000000000002,0.9999999999999999,1.0,1.0,1.0,0.9999999999999998,1.0000000000000002,1.0,1.0],[1.0,1.0000000000000002,1.0000000000000002,1.0,1.0000000000000002,1.0000000000000002,1.0000000000000002,1.0,1.0,1.0,1.0,1.0,1.0,1.0000000000000002,1.0000000000000002,1.0,1.0,1.0,1.0,1.0,1.0,1.0000000000000002,1.0000000000000002,1.0,1.0,1.0,1.0000000000000002,1.0000000000000002,1.0,1.0000000000000002,1.0,1.0,1.0,1.0000000000000002,1.0000000000000002,1.0,1.0,1.0,1.0,1.0000000000000002,1.0,1.0,1.0,1.0000000000000002,1.0,1.0,1.0000000000000002,1.0,1.0,1.0000000000000002,1.0000000000000002,1.0],[0.9999999999999999,0.9999999999999998,1.0,0.9999999999999999,0.9999999999999999,1.0,1.0000000000000002,0.9999999999999998,0.9999999999999999,1.0,1.0,1.0,1.0000000000000002,1.0000000000000002,1.0,1.0000000000000002,1.0000000000000002,1.0000000000000002,1.0000000000000002,1.0000000000000002,1.0000000000000002,1.0000000000000002,1.0000000000000002,1.0000000000000002,1.0000000000000002,1.0000000000000002,1.0000000000000002,1.0000000000000002,1.0000000000000002,1.0000000000000002,1.0000000000000002,1.0000000000000002,1.0,1.0000000000000002,1.0000000000000002,1.0000000000000002,1.0,1.0,1.0000000000000002,1.0000000000000004,1.0000000000000002,1.0000000000000002,1.0,1.0000000000000002,1.0000000000000002,1.0000000000000002,1.0000000000000002,1.0000000000000002,1.0,1.0,1.0000000000000002,1.0000000000000002],[1.0000000000000002,1.0000000000000002,1.0000000000000002,1.0,1.0,1.0000000000000002,1.0000000000000002,1.0,1.0,1.0,1.0,1.0,1.0,1.0000000000000002,1.0,1.0,1.0000000000000002,1.0,1.0,1.0000000000000002,1.0000000000000002,1.0000000000000002,1.0,1.0,1.0000000000000002,1.0000000000000002,1.0000000000000002,1.0,1.0000000000000002,1.0,1.0,1.0,1.0,1.0,1.0000000000000002,0.9999999999999998,1.0,1.0,1.0,1.0000000000000002,1.0,1.0,1.0,1.0,1.0,1.0,1.0,1.0000000000000002,1.0,1.0000000000000002,1.0000000000000002,1.0000000000000002],[1.0,0.9999999999999999,1.0,1.0,0.9999999999999998,1.0,1.0,0.9999999999999999,1.0,1.0,1.0000000000000002,1.0,1.0,1.0000000000000002,1.0000000000000002,1.0000000000000002,1.0000000000000002,1.0000000000000002,1.0,1.0,1.0000000000000002,1.0000000000000002,1.0000000000000002,1.0,1.0,1.0,1.0000000000000002,1.0000000000000002,1.0000000000000002,1.0,1.0,1.0000000000000002,1.0000000000000002,1.0000000000000002,1.0000000000000002,1.0,1.0,0.9999999999999999,1.0000000000000002,1.0000000000000002,1.0,1.0000000000000002,1.0,1.0,1.0000000000000002,1.0000000000000002,1.0,1.0,1.0,1.0000000000000002,1.0000000000000002,1.0000000000000002],[1.0,1.0,1.0,1.0,1.0000000000000002,1.0000000000000002,1.0000000000000002,1.0000000000000002,1.0,1.0000000000000002,1.0000000000000002,1.0000000000000002,1.0000000000000002,1.0,0.9999999999999999,0.9999999999999998,1.0,1.0,0.9999999999999999,0.9999999999999999,0.9999999999999999,0.9999999999999999,1.0,0.9999999999999998,0.9999999999999998,0.9999999999999999,1.0,1.0,0.9999999999999998,1.0,1.0,0.9999999999999999,0.9999999999999999,0.9999999999999998,1.0,0.9999999999999998,0.9999999999999998,0.9999999999999999,0.9999999999999998,0.9999999999999998,0.9999999999999999,0.9999999999999999,0.9999999999999999,0.9999999999999998,0.9999999999999998,0.9999999999999999,1.0,0.9999999999999998,0.9999999999999999,1.0,0.9999999999999999,0.9999999999999998],[1.0000000000000002,1.0000000000000002,1.0,0.9999999999999998,1.0,1.0,1.0000000000000002,1.0,1.0,1.0000000000000002,1.0,1.0,1.0000000000000002,0.9999999999999999,1.0,0.9999999999999999,1.0,0.9999999999999998,0.9999999999999998,1.0,1.0,0.9999999999999998,0.9999999999999998,0.9999999999999998,1.0,0.9999999999999999,1.0,1.0,1.0,0.9999999999999998,0.9999999999999998,0.9999999999999999,0.9999999999999998,0.9999999999999999,1.0,0.9999999999999999,1.0,0.9999999999999998,0.9999999999999999,1.0,0.9999999999999998,1.0,0.9999999999999998,0.9999999999999998,1.0,0.9999999999999999,0.9999999999999999,1.0,0.9999999999999999,1.0,0.9999999999999999,1.0],[1.0,1.0,1.0,1.0,1.0,1.0,1.0000000000000002,1.0,1.0,1.0,1.0000000000000002,1.0,1.0000000000000002,0.9999999999999998,0.9999999999999999,1.0,1.0000000000000002,1.0,1.0,1.0,1.0,1.0,1.0,1.0,1.0,1.0,1.0000000000000002,1.0000000000000002,1.0000000000000002,1.0000000000000002,0.9999999999999999,1.0,1.0,1.0,1.0000000000000002,0.9999999999999999,0.9999999999999999,0.9999999999999998,1.0,1.0000000000000002,1.0,1.0,0.9999999999999999,1.0,1.0,1.0,1.0,1.0,0.9999999999999998,1.0,1.0,1.0],[1.0000000000000002,1.0000000000000002,1.0,1.0,1.0,1.0000000000000002,1.0000000000000002,1.0,1.0000000000000002,1.0,1.0000000000000002,1.0000000000000002,1.0000000000000002,1.0,1.0,1.0000000000000002,1.0,0.9999999999999999,0.9999999999999999,1.0,1.0,1.0,0.9999999999999999,0.9999999999999997,0.9999999999999997,0.9999999999999999,1.0,1.0,1.0,0.9999999999999999,0.9999999999999999,0.9999999999999998,0.9999999999999999,1.0,1.0,0.9999999999999996,0.9999999999999999,0.9999999999999998,1.0,1.0,0.9999999999999997,1.0,0.9999999999999999,1.0,0.9999999999999999,0.9999999999999998,1.0,1.0,0.9999999999999998,1.0,0.9999999999999998,0.9999999999999998],[1.0,1.0,1.0,1.0,1.0,1.0,1.0,1.0,1.0,1.0,1.0000000000000002,1.0,1.0000000000000002,1.0,0.9999999999999998,1.0,0.9999999999999999,1.0,1.0,1.0000000000000002,1.0,1.0,1.0,1.0,1.0,1.0,1.0000000000000002,1.0,1.0000000000000002,1.0,1.0,1.0,1.0,1.0000000000000002,1.0000000000000002,1.0,0.9999999999999999,1.0,1.0,1.0000000000000002,1.0,1.0,1.0,1.0000000000000002,1.0,1.0,1.0,1.0,1.0,1.0000000000000002,1.0,1.0],[1.0,1.0,1.0,1.0,1.0,1.0,1.0,1.0,1.0,1.0,1.0000000000000002,1.0,1.0,0.9999999999999999,0.9999999999999998,1.0,0.9999999999999999,1.0,1.0,1.0,1.0,1.0000000000000002,1.0000000000000002,1.0,0.9999999999999998,1.0,1.0,1.0000000000000002,1.0,1.0,1.0,1.0,1.0,1.0,1.0,1.0,0.9999999999999998,0.9999999999999999,0.9999999999999998,1.0000000000000002,1.0,1.0,1.0,1.0,1.0,0.9999999999999999,1.0,1.0,1.0,1.0,1.0,1.0],[1.0000000000000002,1.0,1.0000000000000002,1.0,1.0,1.0000000000000002,1.0000000000000002,1.0,1.0,1.0,1.0000000000000002,1.0000000000000002,1.0,0.9999999999999999,1.0,1.0,1.0,1.0000000000000002,1.0,1.0,0.9999999999999998,1.0,0.9999999999999999,0.9999999999999998,0.9999999999999998,1.0,1.0,1.0,1.0,1.0,1.0,1.0,1.0,0.9999999999999999,1.0,0.9999999999999999,0.9999999999999998,0.9999999999999998,0.9999999999999999,1.0,0.9999999999999998,0.9999999999999999,0.9999999999999998,0.9999999999999998,1.0,0.9999999999999999,1.0,1.0,0.9999999999999999,1.0,0.9999999999999999,0.9999999999999999],[1.0,1.0000000000000002,1.0000000000000002,1.0000000000000002,1.0000000000000002,1.0000000000000002,1.0000000000000002,1.0,1.0,1.0,1.0000000000000002,1.0000000000000002,1.0000000000000002,0.9999999999999999,1.0,1.0,1.0,1.0,1.0,0.9999999999999998,1.0,1.0,1.0,0.9999999999999998,1.0,0.9999999999999999,1.0000000000000002,1.0,1.0,0.9999999999999998,0.9999999999999998,1.0,1.0,1.0,1.0,0.9999999999999999,0.9999999999999998,0.9999999999999998,0.9999999999999999,1.0000000000000002,1.0,1.0,0.9999999999999998,0.9999999999999998,1.0,0.9999999999999999,1.0,1.0,0.9999999999999999,1.0,1.0,0.9999999999999999],[1.0,1.0,1.0000000000000002,1.0,1.0,1.0,1.0000000000000002,1.0,1.0,1.0000000000000002,1.0000000000000002,1.0000000000000002,1.0000000000000002,0.9999999999999999,0.9999999999999998,1.0,1.0,1.0,1.0000000000000002,1.0,1.0,1.0,1.0,1.0,0.9999999999999998,0.9999999999999999,1.0,1.0,1.0,1.0,0.9999999999999998,1.0,0.9999999999999998,0.9999999999999999,0.9999999999999998,0.9999999999999997,0.9999999999999998,0.9999999999999999,0.9999999999999999,1.0000000000000002,1.0,1.0,0.9999999999999998,1.0,1.0,0.9999999999999999,0.9999999999999999,1.0,0.9999999999999999,1.0,1.0,0.9999999999999999],[1.0,1.0,1.0000000000000002,1.0,1.0000000000000002,1.0000000000000002,1.0000000000000002,0.9999999999999999,1.0000000000000002,1.0000000000000002,1.0000000000000002,1.0,1.0000000000000002,1.0,0.9999999999999998,1.0,0.9999999999999999,1.0,1.0000000000000002,0.9999999999999999,1.0,1.0,1.0,1.0,1.0,1.0,1.0000000000000002,1.0000000000000002,1.0000000000000002,1.0,1.0,1.0,1.0,1.0,1.0,1.0,0.9999999999999999,1.0,1.0,1.0000000000000002,1.0,1.0,1.0,1.0000000000000002,1.0,1.0,1.0000000000000002,1.0000000000000002,1.0,1.0,1.0,1.0],[0.9999999999999998,0.9999999999999999,1.0,0.9999999999999998,1.0,1.0,1.0000000000000002,0.9999999999999999,1.0,1.0,1.0000000000000002,1.0,1.0,0.9999999999999998,0.9999999999999998,1.0,0.9999999999999997,1.0,1.0,0.9999999999999998,0.9999999999999998,1.0,1.0,1.0,1.0,1.0000000000000002,1.0000000000000002,1.0000000000000002,1.0000000000000002,1.0,1.0000000000000002,1.0000000000000002,1.0,1.0,1.0,1.0,1.0000000000000002,1.0,1.0,1.0000000000000002,1.0,1.0000000000000002,1.0000000000000002,1.0000000000000002,1.0,1.0000000000000002,1.0000000000000002,1.0000000000000002,1.0,1.0000000000000002,1.0000000000000002,1.0000000000000002],[1.0,1.0,1.0,1.0,1.0,1.0,1.0000000000000002,1.0,0.9999999999999998,1.0,1.0000000000000002,1.0000000000000002,1.0,0.9999999999999998,1.0,1.0,0.9999999999999997,1.0,0.9999999999999998,0.9999999999999998,1.0,0.9999999999999998,1.0,1.0,1.0,1.0,1.0,0.9999999999999999,1.0,1.0,0.9999999999999998,1.0,1.0,0.9999999999999999,1.0,0.9999999999999997,0.9999999999999998,0.9999999999999999,1.0,1.0,0.9999999999999998,1.0,0.9999999999999998,1.0,1.0,0.9999999999999999,1.0,1.0,1.0,1.0,1.0,0.9999999999999999],[1.0,1.0,1.0000000000000002,1.0,1.0,1.0000000000000002,1.0000000000000002,1.0,1.0,1.0,1.0000000000000002,1.0000000000000002,1.0,0.9999999999999999,0.9999999999999999,1.0,0.9999999999999999,1.0,1.0,1.0,0.9999999999999999,0.9999999999999999,1.0,1.0000000000000002,1.0,1.0,1.0000000000000002,1.0,1.0,1.0000000000000002,1.0,1.0,1.0,1.0,1.0000000000000002,0.9999999999999999,1.0,0.9999999999999999,1.0,1.0000000000000002,0.9999999999999999,1.0000000000000002,1.0,1.0,1.0000000000000002,1.0,1.0,1.0,1.0,1.0,1.0000000000000002,1.0],[1.0000000000000002,1.0000000000000002,1.0000000000000002,1.0,1.0,1.0000000000000002,1.0000000000000002,1.0,1.0,1.0000000000000002,1.0000000000000002,1.0000000000000002,1.0000000000000002,1.0,1.0,1.0000000000000002,1.0,1.0000000000000002,1.0,1.0,1.0000000000000002,1.0,1.0000000000000002,1.0000000000000002,1.0,1.0000000000000002,1.0,1.0,1.0,1.0,1.0,1.0,1.0,1.0,1.0,0.9999999999999999,1.0,1.0,0.9999999999999999,1.0,0.9999999999999998,1.0,1.0,1.0,1.0,1.0,0.9999999999999999,1.0,1.0,1.0,1.0,1.0],[1.0,1.0,1.0000000000000002,1.0000000000000002,1.0000000000000002,1.0000000000000002,1.0000000000000002,1.0,1.0000000000000002,1.0000000000000002,1.0000000000000002,1.0,1.0000000000000002,1.0,1.0,1.0000000000000002,1.0,1.0,1.0000000000000002,1.0,1.0,1.0,1.0000000000000002,1.0000000000000002,0.9999999999999999,1.0,1.0,1.0,0.9999999999999998,1.0,0.9999999999999999,0.9999999999999998,0.9999999999999998,0.9999999999999998,0.9999999999999999,0.9999999999999998,0.9999999999999998,0.9999999999999999,1.0,1.0,0.9999999999999999,1.0,0.9999999999999999,0.9999999999999999,0.9999999999999998,0.9999999999999999,0.9999999999999998,0.9999999999999998,0.9999999999999999,0.9999999999999998,0.9999999999999998,0.9999999999999998],[1.0000000000000002,1.0,1.0000000000000002,1.0000000000000002,1.0000000000000002,1.0000000000000002,1.0000000000000002,1.0,1.0000000000000002,1.0,1.0000000000000002,1.0000000000000002,1.0000000000000002,0.9999999999999998,1.0,1.0000000000000002,1.0,1.0000000000000002,1.0,1.0,1.0,1.0,1.0000000000000002,1.0000000000000002,1.0,1.0,1.0,0.9999999999999998,1.0,1.0,0.9999999999999999,1.0,1.0,0.9999999999999999,1.0,0.9999999999999999,0.9999999999999999,0.9999999999999998,1.0,1.0,0.9999999999999999,1.0,1.0,1.0000000000000002,1.0,0.9999999999999998,1.0,1.0,1.0,1.0,1.0,1.0],[1.0,1.0000000000000002,1.0000000000000002,1.0,1.0000000000000002,1.0000000000000002,1.0000000000000002,0.9999999999999999,1.0,1.0000000000000002,1.0000000000000002,1.0,1.0,1.0,0.9999999999999998,1.0000000000000002,0.9999999999999999,1.0,1.0,1.0,0.9999999999999998,1.0,1.0,1.0,1.0,1.0000000000000002,1.0,1.0,1.0,1.0,1.0,1.0000000000000002,1.0000000000000002,1.0,1.0000000000000002,1.0,1.0,0.9999999999999999,1.0,1.0000000000000002,1.0,1.0,1.0,1.0,1.0,1.0,1.0,1.0,1.0,1.0000000000000002,1.0,1.0000000000000002],[1.0,0.9999999999999999,1.0000000000000002,1.0,1.0,1.0,1.0,0.9999999999999999,1.0,1.0,1.0000000000000002,1.0,1.0,1.0,0.9999999999999998,0.9999999999999999,0.9999999999999999,1.0,1.0,1.0,0.9999999999999998,0.9999999999999998,1.0,1.0000000000000002,0.9999999999999998,1.0,1.0,0.9999999999999999,0.9999999999999999,1.0,1.0,1.0,0.9999999999999998,1.0,1.0000000000000002,0.9999999999999999,0.9999999999999999,0.9999999999999998,1.0,1.0,1.0,1.0,1.0,0.9999999999999999,1.0,1.0,1.0000000000000002,1.0,1.0,1.0,1.0,1.0],[1.0,1.0,1.0,1.0,1.0,1.0000000000000002,1.0000000000000002,1.0000000000000002,1.0,1.0,1.0000000000000002,1.0,1.0000000000000002,0.9999999999999999,0.9999999999999999,1.0,0.9999999999999998,1.0,1.0,1.0,1.0,1.0,1.0,1.0000000000000002,1.0,1.0,1.0,0.9999999999999998,1.0,1.0000000000000002,1.0,1.0,1.0,1.0,1.0000000000000002,1.0,0.9999999999999999,0.9999999999999999,1.0,1.0000000000000002,0.9999999999999999,1.0,1.0,1.0000000000000002,1.0,1.0,1.0,1.0,1.0,1.0000000000000002,1.0,1.0],[1.0,0.9999999999999999,1.0,1.0,1.0,1.0,1.0,1.0,0.9999999999999998,1.0,1.0,1.0,1.0000000000000002,0.9999999999999999,0.9999999999999998,1.0,0.9999999999999999,1.0,1.0,1.0,1.0,0.9999999999999998,1.0,1.0,1.0,1.0,1.0,0.9999999999999998,1.0,1.0000000000000002,0.9999999999999998,1.0,1.0,0.9999999999999999,1.0,1.0,1.0,0.9999999999999999,0.9999999999999999,1.0000000000000002,1.0,1.0,1.0,1.0,1.0,1.0,1.0,1.0000000000000002,0.9999999999999999,1.0,1.0,1.0],[1.0,1.0,1.0000000000000002,1.0,1.0,1.0000000000000002,1.0000000000000002,1.0,0.9999999999999999,1.0000000000000002,1.0000000000000002,1.0,1.0000000000000002,0.9999999999999998,0.9999999999999999,1.0,1.0,1.0000000000000002,1.0,0.9999999999999999,1.0,0.9999999999999999,1.0,1.0,0.9999999999999999,1.0,1.0,0.9999999999999998,0.9999999999999999,1.0,1.0,1.0,0.9999999999999999,1.0,1.0,1.0,1.0,0.9999999999999998,1.0,1.0000000000000002,0.9999999999999999,1.0,1.0,1.0,1.0,1.0,1.0000000000000002,1.0,1.0,1.0,1.0,1.0],[1.0,1.0000000000000002,1.0000000000000002,1.0,1.0000000000000002,1.0,1.0000000000000002,1.0,1.0,1.0000000000000002,1.0000000000000002,1.0000000000000002,1.0000000000000002,1.0,1.0,1.0000000000000002,1.0,1.0000000000000002,1.0,1.0,1.0,0.9999999999999998,1.0,1.0,1.0,1.0000000000000002,1.0,0.9999999999999999,1.0,1.0000000000000002,1.0000000000000002,1.0000000000000002,1.0,1.0,1.0,0.9999999999999998,1.0,0.9999999999999998,0.9999999999999999,1.0,0.9999999999999998,0.9999999999999998,0.9999999999999999,1.0,0.9999999999999999,0.9999999999999998,0.9999999999999999,1.0,0.9999999999999998,1.0,1.0,0.9999999999999999],[1.0,0.9999999999999998,0.9999999999999998,0.9999999999999999,0.9999999999999998,1.0,1.0,0.9999999999999998,0.9999999999999999,1.0,1.0000000000000002,0.9999999999999998,1.0,0.9999999999999998,0.9999999999999999,0.9999999999999999,0.9999999999999996,1.0,1.0,0.9999999999999999,0.9999999999999999,0.9999999999999997,1.0,1.0,0.9999999999999997,0.9999999999999999,0.9999999999999999,0.9999999999999998,0.9999999999999999,1.0,0.9999999999999999,1.0,1.0,1.0,0.9999999999999998,1.0,1.0000000000000002,1.0,1.0000000000000002,1.0000000000000002,1.0000000000000002,1.0000000000000002,1.0000000000000002,1.0000000000000002,1.0000000000000002,1.0,1.0000000000000002,1.0000000000000002,1.0000000000000002,1.0000000000000002,1.0000000000000002,1.0000000000000002],[0.9999999999999998,0.9999999999999999,1.0000000000000002,1.0,1.0,1.0,1.0,1.0,0.9999999999999999,1.0,1.0,1.0,1.0,0.9999999999999998,1.0,0.9999999999999999,0.9999999999999999,0.9999999999999999,0.9999999999999998,0.9999999999999998,0.9999999999999998,0.9999999999999998,0.9999999999999999,1.0000000000000002,0.9999999999999998,1.0,1.0,0.9999999999999998,0.9999999999999999,1.0,0.9999999999999999,0.9999999999999999,1.0,1.0,1.0,1.0000000000000002,1.0,1.0,1.0,1.0000000000000002,1.0000000000000002,1.0000000000000002,1.0000000000000002,1.0,1.0,1.0,1.0000000000000002,1.0000000000000002,1.0,1.0000000000000002,1.0,1.0000000000000002],[1.0,0.9999999999999999,1.0,0.9999999999999999,1.0,1.0,0.9999999999999999,0.9999999999999998,0.9999999999999998,1.0,1.0,1.0,0.9999999999999999,0.9999999999999999,0.9999999999999998,0.9999999999999998,0.9999999999999998,1.0,0.9999999999999999,0.9999999999999998,0.9999999999999998,0.9999999999999999,1.0,1.0,0.9999999999999999,0.9999999999999999,1.0,0.9999999999999999,0.9999999999999998,0.9999999999999999,0.9999999999999998,0.9999999999999999,0.9999999999999999,0.9999999999999998,0.9999999999999998,1.0,1.0,1.0,1.0,1.0000000000000002,1.0000000000000002,1.0000000000000002,1.0,1.0000000000000002,1.0,1.0,1.0000000000000002,1.0000000000000002,1.0000000000000002,1.0000000000000002,1.0000000000000002,1.0],[1.0000000000000002,1.0,1.0,0.9999999999999999,1.0,1.0,1.0000000000000002,1.0,1.0,1.0,1.0000000000000002,1.0,1.0000000000000002,0.9999999999999998,0.9999999999999999,1.0,1.0,1.0,0.9999999999999998,0.9999999999999999,0.9999999999999999,0.9999999999999999,1.0,1.0,1.0,1.0,0.9999999999999999,1.0,1.0,1.0,1.0,1.0,0.9999999999999999,1.0,0.9999999999999999,1.0000000000000002,1.0,1.0,1.0,1.0000000000000002,0.9999999999999999,1.0,0.9999999999999999,1.0,1.0,1.0,1.0000000000000002,1.0,0.9999999999999998,1.0,1.0,1.0],[1.0000000000000002,1.0000000000000002,1.0000000000000002,1.0,1.0000000000000002,1.0000000000000002,1.0000000000000002,1.0,1.0,1.0000000000000002,1.0000000000000004,1.0000000000000002,1.0000000000000002,0.9999999999999998,1.0,1.0000000000000002,1.0,1.0000000000000002,1.0000000000000002,1.0,1.0000000000000002,1.0000000000000002,1.0000000000000002,1.0000000000000002,1.0,1.0000000000000002,1.0,1.0,1.0,1.0000000000000002,1.0,1.0000000000000002,1.0000000000000002,1.0000000000000002,1.0,1.0000000000000002,1.0000000000000002,1.0000000000000002,1.0000000000000002,1.0,0.9999999999999999,1.0,0.9999999999999999,1.0,1.0,0.9999999999999998,0.9999999999999999,0.9999999999999999,0.9999999999999998,1.0,1.0,0.9999999999999998],[1.0,1.0,1.0,1.0,1.0,1.0,1.0,0.9999999999999999,1.0,1.0,1.0000000000000002,1.0,1.0,0.9999999999999999,0.9999999999999998,1.0,0.9999999999999997,1.0,1.0,0.9999999999999998,1.0,1.0,1.0,1.0,0.9999999999999998,0.9999999999999999,0.9999999999999998,0.9999999999999999,0.9999999999999999,1.0,1.0,0.9999999999999999,1.0,0.9999999999999999,0.9999999999999998,1.0000000000000002,1.0000000000000002,1.0000000000000002,0.9999999999999999,0.9999999999999999,1.0,1.0,0.9999999999999998,1.0,0.9999999999999999,1.0,1.0,1.0,1.0,1.0,1.0,0.9999999999999999],[1.0,1.0,1.0000000000000002,1.0000000000000002,1.0,1.0000000000000002,1.0000000000000002,1.0,1.0,1.0,1.0000000000000002,1.0,1.0000000000000002,0.9999999999999999,1.0,1.0,1.0,1.0,1.0,0.9999999999999999,1.0,1.0,1.0,1.0000000000000002,1.0,1.0000000000000002,1.0,1.0,1.0,1.0,1.0,1.0,1.0,1.0,0.9999999999999998,1.0000000000000002,1.0000000000000002,1.0000000000000002,1.0,1.0,1.0,1.0,1.0000000000000002,1.0000000000000002,1.0,1.0,1.0000000000000002,1.0,1.0,1.0,1.0,1.0],[1.0,1.0,1.0000000000000002,1.0,1.0,1.0,1.0000000000000002,1.0,0.9999999999999999,1.0,1.0,1.0,1.0,0.9999999999999999,0.9999999999999998,0.9999999999999999,0.9999999999999999,1.0,1.0,0.9999999999999998,0.9999999999999998,0.9999999999999998,1.0,1.0000000000000002,0.9999999999999998,1.0,1.0,0.9999999999999999,1.0,1.0,1.0,1.0,1.0,1.0,0.9999999999999999,1.0000000000000002,1.0000000000000002,1.0,0.9999999999999999,0.9999999999999999,0.9999999999999998,1.0000000000000002,1.0,1.0,1.0,1.0,0.9999999999999999,1.0,0.9999999999999999,1.0,1.0,1.0],[1.0,1.0000000000000002,1.0000000000000002,1.0,1.0000000000000002,1.0000000000000002,1.0000000000000002,1.0,1.0000000000000002,1.0000000000000002,1.0000000000000002,1.0,1.0,0.9999999999999998,0.9999999999999998,1.0,1.0,1.0000000000000002,1.0,0.9999999999999998,0.9999999999999998,1.0,1.0000000000000002,1.0000000000000002,1.0,1.0,1.0,0.9999999999999999,1.0000000000000002,1.0,0.9999999999999999,1.0000000000000002,1.0,1.0,1.0,1.0000000000000002,1.0,1.0000000000000002,1.0,1.0,1.0,1.0000000000000002,1.0,1.0,1.0,1.0,1.0,1.0000000000000002,1.0,1.0,1.0000000000000002,1.0],[1.0,1.0,1.0,1.0,1.0,1.0,1.0000000000000002,1.0,0.9999999999999999,1.0,1.0000000000000002,1.0,1.0000000000000002,0.9999999999999998,1.0,1.0,0.9999999999999999,1.0,1.0,1.0,1.0,1.0,1.0,1.0,1.0,1.0000000000000002,1.0,0.9999999999999998,1.0,1.0,1.0,1.0,1.0,1.0,0.9999999999999999,1.0000000000000002,1.0,1.0,1.0,1.0,0.9999999999999999,1.0,1.0,1.0,1.0,1.0,1.0,1.0,1.0,1.0,1.0,1.0],[1.0,0.9999999999999999,1.0,1.0,1.0,1.0,1.0000000000000002,1.0,1.0,1.0,1.0000000000000002,1.0,1.0000000000000002,0.9999999999999999,0.9999999999999999,1.0,0.9999999999999998,1.0,0.9999999999999999,0.9999999999999999,0.9999999999999999,0.9999999999999999,1.0,1.0000000000000002,0.9999999999999999,1.0,1.0,0.9999999999999999,0.9999999999999998,1.0,1.0,1.0,1.0,1.0,0.9999999999999998,1.0,1.0,1.0,1.0,0.9999999999999998,1.0,1.0,1.0,1.0,1.0,1.0,1.0,1.0,1.0,1.0000000000000002,1.0,1.0],[1.0,1.0,1.0,1.0,1.0000000000000002,1.0000000000000002,1.0000000000000002,1.0000000000000002,1.0,1.0000000000000002,1.0000000000000002,1.0,1.0,1.0,0.9999999999999999,1.0,1.0,1.0,1.0,1.0,1.0,0.9999999999999999,1.0000000000000002,1.0000000000000002,1.0,1.0,0.9999999999999999,0.9999999999999998,1.0,1.0,1.0000000000000002,1.0,1.0,1.0000000000000002,0.9999999999999999,1.0000000000000002,1.0000000000000002,1.0000000000000002,1.0000000000000002,0.9999999999999999,1.0,1.0000000000000002,0.9999999999999999,1.0,1.0,1.0,1.0,1.0,1.0,1.0000000000000002,1.0,1.0],[1.0,1.0000000000000002,1.0000000000000002,1.0,1.0000000000000002,1.0,1.0000000000000002,1.0,1.0,1.0,1.0000000000000002,1.0000000000000002,1.0,0.9999999999999998,1.0,1.0,1.0,1.0,1.0,1.0,1.0,1.0,1.0000000000000002,1.0000000000000002,1.0,1.0,1.0,0.9999999999999998,1.0,1.0,1.0,1.0,1.0000000000000002,1.0,1.0,1.0000000000000002,1.0000000000000002,1.0000000000000002,1.0,0.9999999999999999,1.0,1.0,1.0,1.0000000000000002,1.0,1.0,1.0,1.0,1.0,1.0,1.0,0.9999999999999998],[1.0,1.0,1.0,0.9999999999999999,1.0,1.0,1.0000000000000002,1.0,0.9999999999999998,1.0,1.0,1.0,1.0,0.9999999999999999,0.9999999999999999,0.9999999999999998,0.9999999999999998,1.0,1.0,0.9999999999999999,0.9999999999999999,0.9999999999999999,1.0,1.0,1.0,1.0,1.0,0.9999999999999999,1.0,1.0,1.0,1.0,0.9999999999999999,1.0,0.9999999999999998,1.0000000000000002,1.0,1.0000000000000002,0.9999999999999998,0.9999999999999998,1.0,1.0,0.9999999999999999,1.0,1.0,1.0,1.0,1.0,1.0,1.0,1.0,1.0],[1.0000000000000002,1.0,1.0,1.0,1.0,1.0,1.0000000000000002,1.0000000000000002,1.0000000000000002,1.0000000000000002,1.0,1.0000000000000002,1.0000000000000002,1.0,1.0,1.0,1.0,1.0000000000000002,1.0,1.0,1.0,1.0,1.0,1.0000000000000002,1.0,1.0,1.0,0.9999999999999998,1.0,1.0000000000000002,1.0,1.0000000000000002,1.0,1.0,1.0,1.0000000000000002,1.0000000000000002,1.0000000000000002,1.0,1.0,1.0,1.0,1.0,1.0,1.0,1.0000000000000002,1.0000000000000002,1.0,1.0,1.0,1.0,1.0],[1.0000000000000002,1.0,1.0,1.0,1.0000000000000002,1.0000000000000002,1.0000000000000002,1.0,1.0,1.0000000000000002,1.0000000000000002,1.0000000000000002,1.0000000000000002,0.9999999999999999,0.9999999999999999,1.0,0.9999999999999998,1.0,1.0,0.9999999999999999,1.0,1.0,1.0,1.0000000000000002,1.0,1.0000000000000002,1.0,0.9999999999999998,1.0,1.0,1.0,1.0,1.0,1.0,1.0,1.0000000000000002,1.0,1.0000000000000002,1.0,1.0,1.0,1.0,1.0,1.0000000000000002,1.0,1.0,1.0,1.0,1.0,1.0,1.0,1.0],[1.0,1.0,1.0,1.0,1.0,1.0,1.0,1.0,1.0,1.0,1.0000000000000002,1.0000000000000002,1.0000000000000002,0.9999999999999998,1.0,1.0,0.9999999999999998,1.0,1.0,0.9999999999999999,0.9999999999999999,0.9999999999999999,1.0,1.0000000000000002,0.9999999999999999,1.0,1.0,0.9999999999999998,1.0,1.0000000000000002,1.0,1.0,1.0,1.0,0.9999999999999999,1.0000000000000002,1.0000000000000002,1.0,1.0,0.9999999999999998,0.9999999999999999,1.0,1.0,1.0,1.0,1.0,1.0,0.9999999999999998,1.0,1.0,1.0,1.0]],\"type\":\"heatmap\",\"xaxis\":\"x\",\"yaxis\":\"y\",\"hovertemplate\":\"State: %{x}<br>State: %{y}<br>color: %{z}<extra></extra>\"}],                        {\"template\":{\"data\":{\"bar\":[{\"error_x\":{\"color\":\"#2a3f5f\"},\"error_y\":{\"color\":\"#2a3f5f\"},\"marker\":{\"line\":{\"color\":\"#E5ECF6\",\"width\":0.5},\"pattern\":{\"fillmode\":\"overlay\",\"size\":10,\"solidity\":0.2}},\"type\":\"bar\"}],\"barpolar\":[{\"marker\":{\"line\":{\"color\":\"#E5ECF6\",\"width\":0.5},\"pattern\":{\"fillmode\":\"overlay\",\"size\":10,\"solidity\":0.2}},\"type\":\"barpolar\"}],\"carpet\":[{\"aaxis\":{\"endlinecolor\":\"#2a3f5f\",\"gridcolor\":\"white\",\"linecolor\":\"white\",\"minorgridcolor\":\"white\",\"startlinecolor\":\"#2a3f5f\"},\"baxis\":{\"endlinecolor\":\"#2a3f5f\",\"gridcolor\":\"white\",\"linecolor\":\"white\",\"minorgridcolor\":\"white\",\"startlinecolor\":\"#2a3f5f\"},\"type\":\"carpet\"}],\"choropleth\":[{\"colorbar\":{\"outlinewidth\":0,\"ticks\":\"\"},\"type\":\"choropleth\"}],\"contour\":[{\"colorbar\":{\"outlinewidth\":0,\"ticks\":\"\"},\"colorscale\":[[0.0,\"#0d0887\"],[0.1111111111111111,\"#46039f\"],[0.2222222222222222,\"#7201a8\"],[0.3333333333333333,\"#9c179e\"],[0.4444444444444444,\"#bd3786\"],[0.5555555555555556,\"#d8576b\"],[0.6666666666666666,\"#ed7953\"],[0.7777777777777778,\"#fb9f3a\"],[0.8888888888888888,\"#fdca26\"],[1.0,\"#f0f921\"]],\"type\":\"contour\"}],\"contourcarpet\":[{\"colorbar\":{\"outlinewidth\":0,\"ticks\":\"\"},\"type\":\"contourcarpet\"}],\"heatmap\":[{\"colorbar\":{\"outlinewidth\":0,\"ticks\":\"\"},\"colorscale\":[[0.0,\"#0d0887\"],[0.1111111111111111,\"#46039f\"],[0.2222222222222222,\"#7201a8\"],[0.3333333333333333,\"#9c179e\"],[0.4444444444444444,\"#bd3786\"],[0.5555555555555556,\"#d8576b\"],[0.6666666666666666,\"#ed7953\"],[0.7777777777777778,\"#fb9f3a\"],[0.8888888888888888,\"#fdca26\"],[1.0,\"#f0f921\"]],\"type\":\"heatmap\"}],\"heatmapgl\":[{\"colorbar\":{\"outlinewidth\":0,\"ticks\":\"\"},\"colorscale\":[[0.0,\"#0d0887\"],[0.1111111111111111,\"#46039f\"],[0.2222222222222222,\"#7201a8\"],[0.3333333333333333,\"#9c179e\"],[0.4444444444444444,\"#bd3786\"],[0.5555555555555556,\"#d8576b\"],[0.6666666666666666,\"#ed7953\"],[0.7777777777777778,\"#fb9f3a\"],[0.8888888888888888,\"#fdca26\"],[1.0,\"#f0f921\"]],\"type\":\"heatmapgl\"}],\"histogram\":[{\"marker\":{\"pattern\":{\"fillmode\":\"overlay\",\"size\":10,\"solidity\":0.2}},\"type\":\"histogram\"}],\"histogram2d\":[{\"colorbar\":{\"outlinewidth\":0,\"ticks\":\"\"},\"colorscale\":[[0.0,\"#0d0887\"],[0.1111111111111111,\"#46039f\"],[0.2222222222222222,\"#7201a8\"],[0.3333333333333333,\"#9c179e\"],[0.4444444444444444,\"#bd3786\"],[0.5555555555555556,\"#d8576b\"],[0.6666666666666666,\"#ed7953\"],[0.7777777777777778,\"#fb9f3a\"],[0.8888888888888888,\"#fdca26\"],[1.0,\"#f0f921\"]],\"type\":\"histogram2d\"}],\"histogram2dcontour\":[{\"colorbar\":{\"outlinewidth\":0,\"ticks\":\"\"},\"colorscale\":[[0.0,\"#0d0887\"],[0.1111111111111111,\"#46039f\"],[0.2222222222222222,\"#7201a8\"],[0.3333333333333333,\"#9c179e\"],[0.4444444444444444,\"#bd3786\"],[0.5555555555555556,\"#d8576b\"],[0.6666666666666666,\"#ed7953\"],[0.7777777777777778,\"#fb9f3a\"],[0.8888888888888888,\"#fdca26\"],[1.0,\"#f0f921\"]],\"type\":\"histogram2dcontour\"}],\"mesh3d\":[{\"colorbar\":{\"outlinewidth\":0,\"ticks\":\"\"},\"type\":\"mesh3d\"}],\"parcoords\":[{\"line\":{\"colorbar\":{\"outlinewidth\":0,\"ticks\":\"\"}},\"type\":\"parcoords\"}],\"pie\":[{\"automargin\":true,\"type\":\"pie\"}],\"scatter\":[{\"marker\":{\"colorbar\":{\"outlinewidth\":0,\"ticks\":\"\"}},\"type\":\"scatter\"}],\"scatter3d\":[{\"line\":{\"colorbar\":{\"outlinewidth\":0,\"ticks\":\"\"}},\"marker\":{\"colorbar\":{\"outlinewidth\":0,\"ticks\":\"\"}},\"type\":\"scatter3d\"}],\"scattercarpet\":[{\"marker\":{\"colorbar\":{\"outlinewidth\":0,\"ticks\":\"\"}},\"type\":\"scattercarpet\"}],\"scattergeo\":[{\"marker\":{\"colorbar\":{\"outlinewidth\":0,\"ticks\":\"\"}},\"type\":\"scattergeo\"}],\"scattergl\":[{\"marker\":{\"colorbar\":{\"outlinewidth\":0,\"ticks\":\"\"}},\"type\":\"scattergl\"}],\"scattermapbox\":[{\"marker\":{\"colorbar\":{\"outlinewidth\":0,\"ticks\":\"\"}},\"type\":\"scattermapbox\"}],\"scatterpolar\":[{\"marker\":{\"colorbar\":{\"outlinewidth\":0,\"ticks\":\"\"}},\"type\":\"scatterpolar\"}],\"scatterpolargl\":[{\"marker\":{\"colorbar\":{\"outlinewidth\":0,\"ticks\":\"\"}},\"type\":\"scatterpolargl\"}],\"scatterternary\":[{\"marker\":{\"colorbar\":{\"outlinewidth\":0,\"ticks\":\"\"}},\"type\":\"scatterternary\"}],\"surface\":[{\"colorbar\":{\"outlinewidth\":0,\"ticks\":\"\"},\"colorscale\":[[0.0,\"#0d0887\"],[0.1111111111111111,\"#46039f\"],[0.2222222222222222,\"#7201a8\"],[0.3333333333333333,\"#9c179e\"],[0.4444444444444444,\"#bd3786\"],[0.5555555555555556,\"#d8576b\"],[0.6666666666666666,\"#ed7953\"],[0.7777777777777778,\"#fb9f3a\"],[0.8888888888888888,\"#fdca26\"],[1.0,\"#f0f921\"]],\"type\":\"surface\"}],\"table\":[{\"cells\":{\"fill\":{\"color\":\"#EBF0F8\"},\"line\":{\"color\":\"white\"}},\"header\":{\"fill\":{\"color\":\"#C8D4E3\"},\"line\":{\"color\":\"white\"}},\"type\":\"table\"}]},\"layout\":{\"annotationdefaults\":{\"arrowcolor\":\"#2a3f5f\",\"arrowhead\":0,\"arrowwidth\":1},\"autotypenumbers\":\"strict\",\"coloraxis\":{\"colorbar\":{\"outlinewidth\":0,\"ticks\":\"\"}},\"colorscale\":{\"diverging\":[[0,\"#8e0152\"],[0.1,\"#c51b7d\"],[0.2,\"#de77ae\"],[0.3,\"#f1b6da\"],[0.4,\"#fde0ef\"],[0.5,\"#f7f7f7\"],[0.6,\"#e6f5d0\"],[0.7,\"#b8e186\"],[0.8,\"#7fbc41\"],[0.9,\"#4d9221\"],[1,\"#276419\"]],\"sequential\":[[0.0,\"#0d0887\"],[0.1111111111111111,\"#46039f\"],[0.2222222222222222,\"#7201a8\"],[0.3333333333333333,\"#9c179e\"],[0.4444444444444444,\"#bd3786\"],[0.5555555555555556,\"#d8576b\"],[0.6666666666666666,\"#ed7953\"],[0.7777777777777778,\"#fb9f3a\"],[0.8888888888888888,\"#fdca26\"],[1.0,\"#f0f921\"]],\"sequentialminus\":[[0.0,\"#0d0887\"],[0.1111111111111111,\"#46039f\"],[0.2222222222222222,\"#7201a8\"],[0.3333333333333333,\"#9c179e\"],[0.4444444444444444,\"#bd3786\"],[0.5555555555555556,\"#d8576b\"],[0.6666666666666666,\"#ed7953\"],[0.7777777777777778,\"#fb9f3a\"],[0.8888888888888888,\"#fdca26\"],[1.0,\"#f0f921\"]]},\"colorway\":[\"#636efa\",\"#EF553B\",\"#00cc96\",\"#ab63fa\",\"#FFA15A\",\"#19d3f3\",\"#FF6692\",\"#B6E880\",\"#FF97FF\",\"#FECB52\"],\"font\":{\"color\":\"#2a3f5f\"},\"geo\":{\"bgcolor\":\"white\",\"lakecolor\":\"white\",\"landcolor\":\"#E5ECF6\",\"showlakes\":true,\"showland\":true,\"subunitcolor\":\"white\"},\"hoverlabel\":{\"align\":\"left\"},\"hovermode\":\"closest\",\"mapbox\":{\"style\":\"light\"},\"paper_bgcolor\":\"white\",\"plot_bgcolor\":\"#E5ECF6\",\"polar\":{\"angularaxis\":{\"gridcolor\":\"white\",\"linecolor\":\"white\",\"ticks\":\"\"},\"bgcolor\":\"#E5ECF6\",\"radialaxis\":{\"gridcolor\":\"white\",\"linecolor\":\"white\",\"ticks\":\"\"}},\"scene\":{\"xaxis\":{\"backgroundcolor\":\"#E5ECF6\",\"gridcolor\":\"white\",\"gridwidth\":2,\"linecolor\":\"white\",\"showbackground\":true,\"ticks\":\"\",\"zerolinecolor\":\"white\"},\"yaxis\":{\"backgroundcolor\":\"#E5ECF6\",\"gridcolor\":\"white\",\"gridwidth\":2,\"linecolor\":\"white\",\"showbackground\":true,\"ticks\":\"\",\"zerolinecolor\":\"white\"},\"zaxis\":{\"backgroundcolor\":\"#E5ECF6\",\"gridcolor\":\"white\",\"gridwidth\":2,\"linecolor\":\"white\",\"showbackground\":true,\"ticks\":\"\",\"zerolinecolor\":\"white\"}},\"shapedefaults\":{\"line\":{\"color\":\"#2a3f5f\"}},\"ternary\":{\"aaxis\":{\"gridcolor\":\"white\",\"linecolor\":\"white\",\"ticks\":\"\"},\"baxis\":{\"gridcolor\":\"white\",\"linecolor\":\"white\",\"ticks\":\"\"},\"bgcolor\":\"#E5ECF6\",\"caxis\":{\"gridcolor\":\"white\",\"linecolor\":\"white\",\"ticks\":\"\"}},\"title\":{\"x\":0.05},\"xaxis\":{\"automargin\":true,\"gridcolor\":\"white\",\"linecolor\":\"white\",\"ticks\":\"\",\"title\":{\"standoff\":15},\"zerolinecolor\":\"white\",\"zerolinewidth\":2},\"yaxis\":{\"automargin\":true,\"gridcolor\":\"white\",\"linecolor\":\"white\",\"ticks\":\"\",\"title\":{\"standoff\":15},\"zerolinecolor\":\"white\",\"zerolinewidth\":2}}},\"xaxis\":{\"anchor\":\"y\",\"domain\":[0.0,1.0],\"scaleanchor\":\"y\",\"constrain\":\"domain\",\"title\":{\"text\":\"State\"}},\"yaxis\":{\"anchor\":\"x\",\"domain\":[0.0,1.0],\"autorange\":\"reversed\",\"constrain\":\"domain\",\"title\":{\"text\":\"State\"}},\"coloraxis\":{\"colorscale\":[[0.0,\"#0d0887\"],[0.1111111111111111,\"#46039f\"],[0.2222222222222222,\"#7201a8\"],[0.3333333333333333,\"#9c179e\"],[0.4444444444444444,\"#bd3786\"],[0.5555555555555556,\"#d8576b\"],[0.6666666666666666,\"#ed7953\"],[0.7777777777777778,\"#fb9f3a\"],[0.8888888888888888,\"#fdca26\"],[1.0,\"#f0f921\"]]},\"margin\":{\"t\":60}},                        {\"responsive\": true}                    ).then(function(){\n",
       "                            \n",
       "var gd = document.getElementById('e0ac0d3e-3494-4ffa-962f-b8053e79a886');\n",
       "var x = new MutationObserver(function (mutations, observer) {{\n",
       "        var display = window.getComputedStyle(gd).display;\n",
       "        if (!display || display === 'none') {{\n",
       "            console.log([gd, 'removed!']);\n",
       "            Plotly.purge(gd);\n",
       "            observer.disconnect();\n",
       "        }}\n",
       "}});\n",
       "\n",
       "// Listen for the removal of the full notebook cells\n",
       "var notebookContainer = gd.closest('#notebook-container');\n",
       "if (notebookContainer) {{\n",
       "    x.observe(notebookContainer, {childList: true});\n",
       "}}\n",
       "\n",
       "// Listen for the clearing of the current output cell\n",
       "var outputEl = gd.closest('.output');\n",
       "if (outputEl) {{\n",
       "    x.observe(outputEl, {childList: true});\n",
       "}}\n",
       "\n",
       "                        })                };                });            </script>        </div>"
      ]
     },
     "metadata": {},
     "output_type": "display_data"
    }
   ],
   "source": [
    "\n",
    "fig = px.imshow(pd.DataFrame([ mean_df['Cases - last 7 days per 100k'], mean_df['% total pop fully vaccinated']]).corr())\n",
    "fig.show()"
   ]
  },
  {
   "cell_type": "markdown",
   "id": "a79ea5d9",
   "metadata": {},
   "source": [
    "# 2. Vaccination by Social Vulnerability Index"
   ]
  },
  {
   "cell_type": "markdown",
   "id": "872810fe",
   "metadata": {},
   "source": [
    "## Social Vulnerability Index shows a county-level view of COVID-19 vaccination coverage and social vulnerability measured by CDC Social Vulnerability Index (SVI)\n"
   ]
  },
  {
   "cell_type": "code",
   "execution_count": 92,
   "id": "9d382ab9",
   "metadata": {},
   "outputs": [],
   "source": [
    "datasvi = pd.read_csv('vaccination_by_svi.csv')\n"
   ]
  },
  {
   "cell_type": "code",
   "execution_count": 93,
   "id": "ca8f62fb",
   "metadata": {},
   "outputs": [
    {
     "name": "stdout",
     "output_type": "stream",
     "text": [
      "<class 'pandas.core.frame.DataFrame'>\n",
      "RangeIndex: 3219 entries, 0 to 3218\n",
      "Data columns (total 6 columns):\n",
      " #   Column                                     Non-Null Count  Dtype  \n",
      "---  ------                                     --------------  -----  \n",
      " 0   County                                     3219 non-null   object \n",
      " 1   State                                      3219 non-null   object \n",
      " 2   SVI                                        3218 non-null   object \n",
      " 3   % total pop fully vaccinated               3193 non-null   float64\n",
      " 4   Vaccination county reporting completeness  3219 non-null   float64\n",
      " 5   Data as of date                            3219 non-null   object \n",
      "dtypes: float64(2), object(4)\n",
      "memory usage: 151.0+ KB\n"
     ]
    },
    {
     "data": {
      "text/html": [
       "<div>\n",
       "<style scoped>\n",
       "    .dataframe tbody tr th:only-of-type {\n",
       "        vertical-align: middle;\n",
       "    }\n",
       "\n",
       "    .dataframe tbody tr th {\n",
       "        vertical-align: top;\n",
       "    }\n",
       "\n",
       "    .dataframe thead th {\n",
       "        text-align: right;\n",
       "    }\n",
       "</style>\n",
       "<table border=\"1\" class=\"dataframe\">\n",
       "  <thead>\n",
       "    <tr style=\"text-align: right;\">\n",
       "      <th></th>\n",
       "      <th>County</th>\n",
       "      <th>State</th>\n",
       "      <th>SVI</th>\n",
       "      <th>% total pop fully vaccinated</th>\n",
       "      <th>Vaccination county reporting completeness</th>\n",
       "      <th>Data as of date</th>\n",
       "    </tr>\n",
       "  </thead>\n",
       "  <tbody>\n",
       "    <tr>\n",
       "      <th>0</th>\n",
       "      <td>Aleutians East Borough</td>\n",
       "      <td>AK</td>\n",
       "      <td>Mod-High</td>\n",
       "      <td>71.3</td>\n",
       "      <td>96.7</td>\n",
       "      <td>2022-01-09T00:00:00</td>\n",
       "    </tr>\n",
       "    <tr>\n",
       "      <th>1</th>\n",
       "      <td>Aleutians West Census Area</td>\n",
       "      <td>AK</td>\n",
       "      <td>Low-Mod</td>\n",
       "      <td>58.9</td>\n",
       "      <td>96.7</td>\n",
       "      <td>2022-01-09T00:00:00</td>\n",
       "    </tr>\n",
       "    <tr>\n",
       "      <th>2</th>\n",
       "      <td>Anchorage Municipality</td>\n",
       "      <td>AK</td>\n",
       "      <td>Low-Mod</td>\n",
       "      <td>60.3</td>\n",
       "      <td>96.7</td>\n",
       "      <td>2022-01-09T00:00:00</td>\n",
       "    </tr>\n",
       "    <tr>\n",
       "      <th>3</th>\n",
       "      <td>Bethel Census Area</td>\n",
       "      <td>AK</td>\n",
       "      <td>High</td>\n",
       "      <td>64.4</td>\n",
       "      <td>96.7</td>\n",
       "      <td>2022-01-09T00:00:00</td>\n",
       "    </tr>\n",
       "    <tr>\n",
       "      <th>4</th>\n",
       "      <td>Bristol Bay Borough</td>\n",
       "      <td>AK</td>\n",
       "      <td>Low-Mod</td>\n",
       "      <td>95.0</td>\n",
       "      <td>96.7</td>\n",
       "      <td>2022-01-09T00:00:00</td>\n",
       "    </tr>\n",
       "  </tbody>\n",
       "</table>\n",
       "</div>"
      ],
      "text/plain": [
       "                       County State       SVI  % total pop fully vaccinated  \\\n",
       "0      Aleutians East Borough    AK  Mod-High                          71.3   \n",
       "1  Aleutians West Census Area    AK   Low-Mod                          58.9   \n",
       "2      Anchorage Municipality    AK   Low-Mod                          60.3   \n",
       "3          Bethel Census Area    AK      High                          64.4   \n",
       "4         Bristol Bay Borough    AK   Low-Mod                          95.0   \n",
       "\n",
       "   Vaccination county reporting completeness      Data as of date  \n",
       "0                                       96.7  2022-01-09T00:00:00  \n",
       "1                                       96.7  2022-01-09T00:00:00  \n",
       "2                                       96.7  2022-01-09T00:00:00  \n",
       "3                                       96.7  2022-01-09T00:00:00  \n",
       "4                                       96.7  2022-01-09T00:00:00  "
      ]
     },
     "execution_count": 93,
     "metadata": {},
     "output_type": "execute_result"
    }
   ],
   "source": [
    "datasvi.info()\n",
    "datasvi.head()"
   ]
  },
  {
   "cell_type": "markdown",
   "id": "413e0e82",
   "metadata": {},
   "source": [
    "## Data Cleaning"
   ]
  },
  {
   "cell_type": "code",
   "execution_count": 98,
   "id": "3e075f77",
   "metadata": {},
   "outputs": [],
   "source": [
    "# Pick only useful columns.\n",
    "datasvi = datasvi.drop('Data as of date', axis=1)\n",
    "datasvi = datasvi.drop('County', axis=1)\n",
    "datasvi = datasvi.drop('Vaccination county reporting completeness', axis=1)\n"
   ]
  },
  {
   "cell_type": "code",
   "execution_count": null,
   "id": "27aec444",
   "metadata": {},
   "outputs": [],
   "source": [
    "# Replace Null and suppressed values\n",
    "datasvi = datasvi.fillna(0)\n",
    "datasvi = datasvi.replace(to_replace=\"suppressed\", value=0)\n",
    "\n",
    "# Verification\n",
    "print(datasvi.isnull().sum())"
   ]
  },
  {
   "cell_type": "code",
   "execution_count": 101,
   "id": "85f92bea",
   "metadata": {
    "scrolled": true
   },
   "outputs": [
    {
     "data": {
      "text/html": [
       "<div>\n",
       "<style scoped>\n",
       "    .dataframe tbody tr th:only-of-type {\n",
       "        vertical-align: middle;\n",
       "    }\n",
       "\n",
       "    .dataframe tbody tr th {\n",
       "        vertical-align: top;\n",
       "    }\n",
       "\n",
       "    .dataframe thead th {\n",
       "        text-align: right;\n",
       "    }\n",
       "</style>\n",
       "<table border=\"1\" class=\"dataframe\">\n",
       "  <thead>\n",
       "    <tr style=\"text-align: right;\">\n",
       "      <th></th>\n",
       "      <th>State</th>\n",
       "      <th>SVI</th>\n",
       "      <th>% total pop fully vaccinated</th>\n",
       "    </tr>\n",
       "  </thead>\n",
       "  <tbody>\n",
       "    <tr>\n",
       "      <th>3214</th>\n",
       "      <td>WY</td>\n",
       "      <td>Low-Mod</td>\n",
       "      <td>44.4</td>\n",
       "    </tr>\n",
       "    <tr>\n",
       "      <th>3215</th>\n",
       "      <td>WY</td>\n",
       "      <td>Low</td>\n",
       "      <td>89.1</td>\n",
       "    </tr>\n",
       "    <tr>\n",
       "      <th>3216</th>\n",
       "      <td>WY</td>\n",
       "      <td>Low-Mod</td>\n",
       "      <td>46.5</td>\n",
       "    </tr>\n",
       "    <tr>\n",
       "      <th>3217</th>\n",
       "      <td>WY</td>\n",
       "      <td>Low-Mod</td>\n",
       "      <td>40.8</td>\n",
       "    </tr>\n",
       "    <tr>\n",
       "      <th>3218</th>\n",
       "      <td>WY</td>\n",
       "      <td>Low-Mod</td>\n",
       "      <td>34.9</td>\n",
       "    </tr>\n",
       "  </tbody>\n",
       "</table>\n",
       "</div>"
      ],
      "text/plain": [
       "     State      SVI  % total pop fully vaccinated\n",
       "3214    WY  Low-Mod                          44.4\n",
       "3215    WY      Low                          89.1\n",
       "3216    WY  Low-Mod                          46.5\n",
       "3217    WY  Low-Mod                          40.8\n",
       "3218    WY  Low-Mod                          34.9"
      ]
     },
     "execution_count": 101,
     "metadata": {},
     "output_type": "execute_result"
    }
   ],
   "source": [
    "datasvi.tail()"
   ]
  },
  {
   "cell_type": "code",
   "execution_count": null,
   "id": "c215d0cd",
   "metadata": {},
   "outputs": [],
   "source": [
    "# Group by State\n",
    "grouped_df = datasvi.groupby('State')\n",
    "mean_df = grouped_df.mean()\n",
    "mean_df.describe()"
   ]
  },
  {
   "cell_type": "markdown",
   "id": "49ad27b2",
   "metadata": {},
   "source": [
    "## Plot Data"
   ]
  },
  {
   "cell_type": "markdown",
   "id": "d36c52c8",
   "metadata": {},
   "source": [
    "# 3. Vaccination by Test positivity"
   ]
  },
  {
   "cell_type": "code",
   "execution_count": 94,
   "id": "a679869c",
   "metadata": {},
   "outputs": [],
   "source": [
    "#Testing percent positivity shows a county-level view of COVID-19 vaccination coverage and the percent of Nucleic Acid Amplification Tests (NAATs) conducted in the last 7 days that were positive for SARs-CoV-2\n",
    "datatp = pd.read_csv('vaccination_by_test_positivity.csv')\n"
   ]
  },
  {
   "cell_type": "code",
   "execution_count": 96,
   "id": "61267662",
   "metadata": {},
   "outputs": [
    {
     "name": "stdout",
     "output_type": "stream",
     "text": [
      "<class 'pandas.core.frame.DataFrame'>\n",
      "RangeIndex: 3219 entries, 0 to 3218\n",
      "Data columns (total 6 columns):\n",
      " #   Column                                     Non-Null Count  Dtype  \n",
      "---  ------                                     --------------  -----  \n",
      " 0   County                                     3219 non-null   object \n",
      " 1   State                                      3219 non-null   object \n",
      " 2   7-day % testing positivity                 2961 non-null   float64\n",
      " 3   % total pop fully vaccinated               3193 non-null   float64\n",
      " 4   Vaccination county reporting completeness  3219 non-null   float64\n",
      " 5   Data as of date                            3219 non-null   object \n",
      "dtypes: float64(3), object(3)\n",
      "memory usage: 151.0+ KB\n"
     ]
    },
    {
     "data": {
      "text/html": [
       "<div>\n",
       "<style scoped>\n",
       "    .dataframe tbody tr th:only-of-type {\n",
       "        vertical-align: middle;\n",
       "    }\n",
       "\n",
       "    .dataframe tbody tr th {\n",
       "        vertical-align: top;\n",
       "    }\n",
       "\n",
       "    .dataframe thead th {\n",
       "        text-align: right;\n",
       "    }\n",
       "</style>\n",
       "<table border=\"1\" class=\"dataframe\">\n",
       "  <thead>\n",
       "    <tr style=\"text-align: right;\">\n",
       "      <th></th>\n",
       "      <th>County</th>\n",
       "      <th>State</th>\n",
       "      <th>7-day % testing positivity</th>\n",
       "      <th>% total pop fully vaccinated</th>\n",
       "      <th>Vaccination county reporting completeness</th>\n",
       "      <th>Data as of date</th>\n",
       "    </tr>\n",
       "  </thead>\n",
       "  <tbody>\n",
       "    <tr>\n",
       "      <th>0</th>\n",
       "      <td>Aleutians East Borough</td>\n",
       "      <td>AK</td>\n",
       "      <td>NaN</td>\n",
       "      <td>71.3</td>\n",
       "      <td>96.7</td>\n",
       "      <td>2022-01-09T00:00:00</td>\n",
       "    </tr>\n",
       "    <tr>\n",
       "      <th>1</th>\n",
       "      <td>Aleutians West Census Area</td>\n",
       "      <td>AK</td>\n",
       "      <td>44.93</td>\n",
       "      <td>58.9</td>\n",
       "      <td>96.7</td>\n",
       "      <td>2022-01-09T00:00:00</td>\n",
       "    </tr>\n",
       "    <tr>\n",
       "      <th>2</th>\n",
       "      <td>Anchorage Municipality</td>\n",
       "      <td>AK</td>\n",
       "      <td>18.12</td>\n",
       "      <td>60.3</td>\n",
       "      <td>96.7</td>\n",
       "      <td>2022-01-09T00:00:00</td>\n",
       "    </tr>\n",
       "    <tr>\n",
       "      <th>3</th>\n",
       "      <td>Bethel Census Area</td>\n",
       "      <td>AK</td>\n",
       "      <td>0.00</td>\n",
       "      <td>64.4</td>\n",
       "      <td>96.7</td>\n",
       "      <td>2022-01-09T00:00:00</td>\n",
       "    </tr>\n",
       "    <tr>\n",
       "      <th>4</th>\n",
       "      <td>Bristol Bay Borough</td>\n",
       "      <td>AK</td>\n",
       "      <td>NaN</td>\n",
       "      <td>95.0</td>\n",
       "      <td>96.7</td>\n",
       "      <td>2022-01-09T00:00:00</td>\n",
       "    </tr>\n",
       "  </tbody>\n",
       "</table>\n",
       "</div>"
      ],
      "text/plain": [
       "                       County State  7-day % testing positivity   \\\n",
       "0      Aleutians East Borough    AK                          NaN   \n",
       "1  Aleutians West Census Area    AK                        44.93   \n",
       "2      Anchorage Municipality    AK                        18.12   \n",
       "3          Bethel Census Area    AK                         0.00   \n",
       "4         Bristol Bay Borough    AK                          NaN   \n",
       "\n",
       "   % total pop fully vaccinated  Vaccination county reporting completeness  \\\n",
       "0                          71.3                                       96.7   \n",
       "1                          58.9                                       96.7   \n",
       "2                          60.3                                       96.7   \n",
       "3                          64.4                                       96.7   \n",
       "4                          95.0                                       96.7   \n",
       "\n",
       "       Data as of date  \n",
       "0  2022-01-09T00:00:00  \n",
       "1  2022-01-09T00:00:00  \n",
       "2  2022-01-09T00:00:00  \n",
       "3  2022-01-09T00:00:00  \n",
       "4  2022-01-09T00:00:00  "
      ]
     },
     "execution_count": 96,
     "metadata": {},
     "output_type": "execute_result"
    }
   ],
   "source": [
    "datatp.info()\n",
    "datatp.head()"
   ]
  },
  {
   "cell_type": "markdown",
   "id": "782a6b8e",
   "metadata": {},
   "source": [
    "## Data Cleaning"
   ]
  },
  {
   "cell_type": "code",
   "execution_count": 102,
   "id": "01321b77",
   "metadata": {},
   "outputs": [],
   "source": [
    "# Pick only useful columns.\n",
    "datatp = datatp.drop('Data as of date', axis=1)\n",
    "datatp = datatp.drop('County', axis=1)\n",
    "datatp = datatp.drop('Vaccination county reporting completeness', axis=1)"
   ]
  },
  {
   "cell_type": "code",
   "execution_count": null,
   "id": "ead8ddb6",
   "metadata": {},
   "outputs": [],
   "source": [
    "# Replace Null and suppressed values\n",
    "datatp = datatp.fillna(0)\n",
    "datatp = datatp.replace(to_replace=\"suppressed\", value=0)\n",
    "\n",
    "# Verification\n",
    "print(datatp.isnull().sum())"
   ]
  },
  {
   "cell_type": "code",
   "execution_count": 103,
   "id": "8fe242e4",
   "metadata": {},
   "outputs": [
    {
     "data": {
      "text/html": [
       "<div>\n",
       "<style scoped>\n",
       "    .dataframe tbody tr th:only-of-type {\n",
       "        vertical-align: middle;\n",
       "    }\n",
       "\n",
       "    .dataframe tbody tr th {\n",
       "        vertical-align: top;\n",
       "    }\n",
       "\n",
       "    .dataframe thead th {\n",
       "        text-align: right;\n",
       "    }\n",
       "</style>\n",
       "<table border=\"1\" class=\"dataframe\">\n",
       "  <thead>\n",
       "    <tr style=\"text-align: right;\">\n",
       "      <th></th>\n",
       "      <th>State</th>\n",
       "      <th>7-day % testing positivity</th>\n",
       "      <th>% total pop fully vaccinated</th>\n",
       "    </tr>\n",
       "  </thead>\n",
       "  <tbody>\n",
       "    <tr>\n",
       "      <th>3214</th>\n",
       "      <td>WY</td>\n",
       "      <td>18.54</td>\n",
       "      <td>44.4</td>\n",
       "    </tr>\n",
       "    <tr>\n",
       "      <th>3215</th>\n",
       "      <td>WY</td>\n",
       "      <td>29.05</td>\n",
       "      <td>89.1</td>\n",
       "    </tr>\n",
       "    <tr>\n",
       "      <th>3216</th>\n",
       "      <td>WY</td>\n",
       "      <td>27.32</td>\n",
       "      <td>46.5</td>\n",
       "    </tr>\n",
       "    <tr>\n",
       "      <th>3217</th>\n",
       "      <td>WY</td>\n",
       "      <td>10.00</td>\n",
       "      <td>40.8</td>\n",
       "    </tr>\n",
       "    <tr>\n",
       "      <th>3218</th>\n",
       "      <td>WY</td>\n",
       "      <td>8.70</td>\n",
       "      <td>34.9</td>\n",
       "    </tr>\n",
       "  </tbody>\n",
       "</table>\n",
       "</div>"
      ],
      "text/plain": [
       "     State  7-day % testing positivity   % total pop fully vaccinated\n",
       "3214    WY                        18.54                          44.4\n",
       "3215    WY                        29.05                          89.1\n",
       "3216    WY                        27.32                          46.5\n",
       "3217    WY                        10.00                          40.8\n",
       "3218    WY                         8.70                          34.9"
      ]
     },
     "execution_count": 103,
     "metadata": {},
     "output_type": "execute_result"
    }
   ],
   "source": [
    "datatp.tail()"
   ]
  },
  {
   "cell_type": "code",
   "execution_count": null,
   "id": "b8df8567",
   "metadata": {},
   "outputs": [],
   "source": [
    "# Group by State\n",
    "grouped_df = datatp.groupby('State')\n",
    "mean_df = grouped_df.mean()\n",
    "mean_df.describe()"
   ]
  },
  {
   "cell_type": "markdown",
   "id": "8b22a845",
   "metadata": {},
   "source": [
    "## Plot Data"
   ]
  }
 ],
 "metadata": {
  "kernelspec": {
   "display_name": "Python 3 (ipykernel)",
   "language": "python",
   "name": "python3"
  },
  "language_info": {
   "codemirror_mode": {
    "name": "ipython",
    "version": 3
   },
   "file_extension": ".py",
   "mimetype": "text/x-python",
   "name": "python",
   "nbconvert_exporter": "python",
   "pygments_lexer": "ipython3",
   "version": "3.8.10"
  }
 },
 "nbformat": 4,
 "nbformat_minor": 5
}